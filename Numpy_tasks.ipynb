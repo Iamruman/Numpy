{
  "cells": [
    {
      "cell_type": "markdown",
      "metadata": {
        "id": "Q5wzJZlY-bIh"
      },
      "source": [
        "# Numpy\n",
        "\n"
      ]
    },
    {
      "cell_type": "markdown",
      "metadata": {
        "id": "890QJ6zj-bIn"
      },
      "source": [
        "#### 1. Import the numpy package under the name `np` (★☆☆) \n",
        "(**hint**: import … as …)"
      ]
    },
    {
      "cell_type": "code",
      "execution_count": 2,
      "metadata": {
        "collapsed": true,
        "id": "Ax3tJzIE-bIp"
      },
      "outputs": [],
      "source": [
        "import numpy as np"
      ]
    },
    {
      "cell_type": "markdown",
      "metadata": {
        "id": "4HBu5Isd-bIq"
      },
      "source": [
        "#### 2. Print the numpy version and the configuration (★☆☆) \n",
        "(**hint**: np.\\_\\_version\\_\\_, np.show\\_config)"
      ]
    },
    {
      "cell_type": "code",
      "execution_count": 58,
      "metadata": {
        "colab": {
          "base_uri": "https://localhost:8080/"
        },
        "id": "s9g-YGXZ-bIr",
        "outputId": "687a8bf0-1ec8-4a10-822e-8b9d38356e0a"
      },
      "outputs": [
        {
          "output_type": "stream",
          "name": "stdout",
          "text": [
            "blas_mkl_info:\n",
            "  NOT AVAILABLE\n",
            "blis_info:\n",
            "  NOT AVAILABLE\n",
            "openblas_info:\n",
            "    libraries = ['openblas', 'openblas']\n",
            "    library_dirs = ['/usr/local/lib']\n",
            "    language = c\n",
            "    define_macros = [('HAVE_CBLAS', None)]\n",
            "    runtime_library_dirs = ['/usr/local/lib']\n",
            "blas_opt_info:\n",
            "    libraries = ['openblas', 'openblas']\n",
            "    library_dirs = ['/usr/local/lib']\n",
            "    language = c\n",
            "    define_macros = [('HAVE_CBLAS', None)]\n",
            "    runtime_library_dirs = ['/usr/local/lib']\n",
            "lapack_mkl_info:\n",
            "  NOT AVAILABLE\n",
            "openblas_lapack_info:\n",
            "    libraries = ['openblas', 'openblas']\n",
            "    library_dirs = ['/usr/local/lib']\n",
            "    language = c\n",
            "    define_macros = [('HAVE_CBLAS', None)]\n",
            "    runtime_library_dirs = ['/usr/local/lib']\n",
            "lapack_opt_info:\n",
            "    libraries = ['openblas', 'openblas']\n",
            "    library_dirs = ['/usr/local/lib']\n",
            "    language = c\n",
            "    define_macros = [('HAVE_CBLAS', None)]\n",
            "    runtime_library_dirs = ['/usr/local/lib']\n",
            "Supported SIMD extensions in this NumPy install:\n",
            "    baseline = SSE,SSE2,SSE3\n",
            "    found = SSSE3,SSE41,POPCNT,SSE42,AVX,F16C,FMA3,AVX2\n",
            "    not found = AVX512F,AVX512CD,AVX512_KNL,AVX512_KNM,AVX512_SKX,AVX512_CLX,AVX512_CNL,AVX512_ICL\n"
          ]
        }
      ],
      "source": [
        "np.__version__\n",
        "np.show_config()"
      ]
    },
    {
      "cell_type": "markdown",
      "metadata": {
        "id": "jrk4iFMv-bIs"
      },
      "source": [
        "#### 3. Create a null vector of size 10 (★☆☆) \n",
        "(**hint**: np.zeros)"
      ]
    },
    {
      "cell_type": "code",
      "execution_count": 59,
      "metadata": {
        "colab": {
          "base_uri": "https://localhost:8080/"
        },
        "id": "6v-xh7Ku-bIu",
        "outputId": "06cea8cc-951e-4dbd-cbb7-287df72d2197"
      },
      "outputs": [
        {
          "output_type": "execute_result",
          "data": {
            "text/plain": [
              "array([0., 0., 0., 0., 0., 0., 0., 0., 0., 0.])"
            ]
          },
          "metadata": {},
          "execution_count": 59
        }
      ],
      "source": [
        "vector = np.zeros(10)\n",
        "vector"
      ]
    },
    {
      "cell_type": "markdown",
      "metadata": {
        "id": "_2ydhTkm-bIu"
      },
      "source": [
        "#### 4.  How to find the memory size of any array (★☆☆) \n",
        "(**hint**: size, itemsize)"
      ]
    },
    {
      "cell_type": "code",
      "execution_count": 61,
      "metadata": {
        "colab": {
          "base_uri": "https://localhost:8080/"
        },
        "id": "8RYhTXf_-bIv",
        "outputId": "773ed456-27a5-44c5-a18a-f86e072848aa"
      },
      "outputs": [
        {
          "output_type": "execute_result",
          "data": {
            "text/plain": [
              "8"
            ]
          },
          "metadata": {},
          "execution_count": 61
        }
      ],
      "source": [
        "vector.size\n",
        "vector.itemsize"
      ]
    },
    {
      "cell_type": "markdown",
      "metadata": {
        "id": "7ASpFGH2-bIx"
      },
      "source": [
        "#### 5.  How to get the documentation of the numpy add function from the command line? (★☆☆) \n",
        "(**hint**: np.info)"
      ]
    },
    {
      "cell_type": "code",
      "execution_count": 62,
      "metadata": {
        "collapsed": true,
        "colab": {
          "base_uri": "https://localhost:8080/"
        },
        "id": "8Ifq735o-bIx",
        "outputId": "f6661249-4dc0-4c8a-925f-04a62ace78c7"
      },
      "outputs": [
        {
          "output_type": "stream",
          "name": "stdout",
          "text": [
            "add(x1, x2, /, out=None, *, where=True, casting='same_kind', order='K', dtype=None, subok=True[, signature, extobj])\n",
            "\n",
            "Add arguments element-wise.\n",
            "\n",
            "Parameters\n",
            "----------\n",
            "x1, x2 : array_like\n",
            "    The arrays to be added.\n",
            "    If ``x1.shape != x2.shape``, they must be broadcastable to a common\n",
            "    shape (which becomes the shape of the output).\n",
            "out : ndarray, None, or tuple of ndarray and None, optional\n",
            "    A location into which the result is stored. If provided, it must have\n",
            "    a shape that the inputs broadcast to. If not provided or None,\n",
            "    a freshly-allocated array is returned. A tuple (possible only as a\n",
            "    keyword argument) must have length equal to the number of outputs.\n",
            "where : array_like, optional\n",
            "    This condition is broadcast over the input. At locations where the\n",
            "    condition is True, the `out` array will be set to the ufunc result.\n",
            "    Elsewhere, the `out` array will retain its original value.\n",
            "    Note that if an uninitialized `out` array is created via the default\n",
            "    ``out=None``, locations within it where the condition is False will\n",
            "    remain uninitialized.\n",
            "**kwargs\n",
            "    For other keyword-only arguments, see the\n",
            "    :ref:`ufunc docs <ufuncs.kwargs>`.\n",
            "\n",
            "Returns\n",
            "-------\n",
            "add : ndarray or scalar\n",
            "    The sum of `x1` and `x2`, element-wise.\n",
            "    This is a scalar if both `x1` and `x2` are scalars.\n",
            "\n",
            "Notes\n",
            "-----\n",
            "Equivalent to `x1` + `x2` in terms of array broadcasting.\n",
            "\n",
            "Examples\n",
            "--------\n",
            ">>> np.add(1.0, 4.0)\n",
            "5.0\n",
            ">>> x1 = np.arange(9.0).reshape((3, 3))\n",
            ">>> x2 = np.arange(3.0)\n",
            ">>> np.add(x1, x2)\n",
            "array([[  0.,   2.,   4.],\n",
            "       [  3.,   5.,   7.],\n",
            "       [  6.,   8.,  10.]])\n",
            "\n",
            "The ``+`` operator can be used as a shorthand for ``np.add`` on ndarrays.\n",
            "\n",
            ">>> x1 = np.arange(9.0).reshape((3, 3))\n",
            ">>> x2 = np.arange(3.0)\n",
            ">>> x1 + x2\n",
            "array([[ 0.,  2.,  4.],\n",
            "       [ 3.,  5.,  7.],\n",
            "       [ 6.,  8., 10.]])\n"
          ]
        }
      ],
      "source": [
        "np.info(np.add)"
      ]
    },
    {
      "cell_type": "markdown",
      "metadata": {
        "id": "XeHER62p-bIy"
      },
      "source": [
        "#### 6.  Create a null vector of size 10 but the fifth value which is 1 (★☆☆) \n",
        "(**hint**: array\\[4\\])"
      ]
    },
    {
      "cell_type": "code",
      "execution_count": 63,
      "metadata": {
        "colab": {
          "base_uri": "https://localhost:8080/"
        },
        "id": "gBCov-8Z-bIy",
        "outputId": "ad560134-5128-46f2-ed41-67784efbfdf0"
      },
      "outputs": [
        {
          "output_type": "stream",
          "name": "stdout",
          "text": [
            "[0. 0. 0. 0. 1. 0. 0. 0. 0. 0.]\n"
          ]
        }
      ],
      "source": [
        "array = np.zeros(10)\n",
        "array[4] = 1\n",
        "print(array)"
      ]
    },
    {
      "cell_type": "markdown",
      "metadata": {
        "id": "3qCbSrxv-bIz"
      },
      "source": [
        "#### 7.  Create a vector with values ranging from 10 to 49 (★☆☆) \n",
        "(**hint**: np.arange)"
      ]
    },
    {
      "cell_type": "code",
      "execution_count": 64,
      "metadata": {
        "colab": {
          "base_uri": "https://localhost:8080/"
        },
        "id": "BoYQe8fS-bI0",
        "outputId": "61bca55a-a629-4d2c-b5f0-03d382e57747"
      },
      "outputs": [
        {
          "output_type": "execute_result",
          "data": {
            "text/plain": [
              "array([10, 11, 12, 13, 14, 15, 16, 17, 18, 19, 20, 21, 22, 23, 24, 25, 26,\n",
              "       27, 28, 29, 30, 31, 32, 33, 34, 35, 36, 37, 38, 39, 40, 41, 42, 43,\n",
              "       44, 45, 46, 47, 48])"
            ]
          },
          "metadata": {},
          "execution_count": 64
        }
      ],
      "source": [
        "vector=np.arange(10,49)\n",
        "vector"
      ]
    },
    {
      "cell_type": "markdown",
      "metadata": {
        "id": "wHPLRz1P-bI0"
      },
      "source": [
        "#### 8.  Reverse a vector (first element becomes last) (★☆☆) \n",
        "(**hint**: array\\[::-1\\])"
      ]
    },
    {
      "cell_type": "code",
      "execution_count": 4,
      "metadata": {
        "colab": {
          "base_uri": "https://localhost:8080/"
        },
        "id": "MECRkBNO-bI3",
        "outputId": "f9dc3428-a0b7-4c72-e55d-6bbdcccd30db"
      },
      "outputs": [
        {
          "output_type": "stream",
          "name": "stdout",
          "text": [
            "[9 8 7 6 5 4 3 2 1]\n"
          ]
        }
      ],
      "source": [
        "vector=np.arange(1,10)\n",
        "vector = vector[::-1]\n",
        "print(vector)"
      ]
    },
    {
      "cell_type": "markdown",
      "metadata": {
        "id": "clPDOMrH-bI4"
      },
      "source": [
        "#### 9.  Create a 3x3 matrix with values ranging from 0 to 8 (★☆☆) \n",
        "(**hint**: reshape)"
      ]
    },
    {
      "cell_type": "code",
      "execution_count": 8,
      "metadata": {
        "colab": {
          "base_uri": "https://localhost:8080/"
        },
        "id": "LN7kggZ7-bI5",
        "outputId": "e780905d-271f-4297-f23a-1b6c1c083c93"
      },
      "outputs": [
        {
          "output_type": "stream",
          "name": "stdout",
          "text": [
            "[[0 1 2]\n",
            " [3 4 5]\n",
            " [6 7 8]]\n"
          ]
        }
      ],
      "source": [
        "matrix=np.arange(9).reshape(3,3)\n",
        "print(matrix)"
      ]
    },
    {
      "cell_type": "markdown",
      "metadata": {
        "id": "NKKMDw---bI6"
      },
      "source": [
        "#### 10. Find indices of non-zero elements from \\[1,2,0,0,4,0\\] (★☆☆) \n",
        "(**hint**: np.nonzero)"
      ]
    },
    {
      "cell_type": "code",
      "execution_count": 10,
      "metadata": {
        "colab": {
          "base_uri": "https://localhost:8080/"
        },
        "id": "75C3kixp-bI7",
        "outputId": "bf38953c-7af1-4476-b196-6b83bc1f549a"
      },
      "outputs": [
        {
          "output_type": "stream",
          "name": "stdout",
          "text": [
            "(array([0, 1, 4]),)\n"
          ]
        }
      ],
      "source": [
        "nozero=np.nonzero([1,2,0,0,4,0])\n",
        "print(nozero)"
      ]
    },
    {
      "cell_type": "markdown",
      "metadata": {
        "id": "T1tOcJLc-bI8"
      },
      "source": [
        "#### 11. Create a 3x3 identity matrix (★☆☆) \n",
        "(**hint**: np.eye)"
      ]
    },
    {
      "cell_type": "code",
      "execution_count": 12,
      "metadata": {
        "colab": {
          "base_uri": "https://localhost:8080/"
        },
        "id": "hl6QrLdF-bI-",
        "outputId": "0a8ad571-c51a-4730-c430-9ea32df09d3b"
      },
      "outputs": [
        {
          "output_type": "stream",
          "name": "stdout",
          "text": [
            "[[1. 0. 0.]\n",
            " [0. 1. 0.]\n",
            " [0. 0. 1.]]\n"
          ]
        }
      ],
      "source": [
        "matrix=np.eye(3,3)\n",
        "print(matrix)"
      ]
    },
    {
      "cell_type": "markdown",
      "metadata": {
        "id": "GhizhEQS-bI-"
      },
      "source": [
        "#### 12. Create a 3x3x3 array with random values (★☆☆) \n",
        "(**hint**: np.random.random)"
      ]
    },
    {
      "cell_type": "code",
      "execution_count": 13,
      "metadata": {
        "collapsed": true,
        "colab": {
          "base_uri": "https://localhost:8080/"
        },
        "id": "xATRSmGB-bJA",
        "outputId": "3dd074bf-0b17-4a55-bc7a-c13f404d4795"
      },
      "outputs": [
        {
          "output_type": "stream",
          "name": "stdout",
          "text": [
            "[[[0.8824434  0.78546418 0.52479079]\n",
            "  [0.2217758  0.42259053 0.94255152]\n",
            "  [0.87614896 0.36311447 0.81056659]]\n",
            "\n",
            " [[0.1192369  0.42849674 0.13198537]\n",
            "  [0.93140514 0.75562131 0.66735017]\n",
            "  [0.15126487 0.51363186 0.23197874]]\n",
            "\n",
            " [[0.01556235 0.05997518 0.95320453]\n",
            "  [0.90907095 0.62656883 0.02053605]\n",
            "  [0.27140871 0.22992439 0.78237656]]]\n"
          ]
        }
      ],
      "source": [
        "random = np.random.random((3,3,3))\n",
        "print(random)"
      ]
    },
    {
      "cell_type": "markdown",
      "metadata": {
        "id": "-byRpa6H-bJB"
      },
      "source": [
        "#### 13. Create a 10x10 array with random values and find the minimum and maximum values (★☆☆) \n",
        "(**hint**: min, max)"
      ]
    },
    {
      "cell_type": "code",
      "execution_count": 20,
      "metadata": {
        "colab": {
          "base_uri": "https://localhost:8080/"
        },
        "id": "xAeU_KOT-bJC",
        "outputId": "a7be85f0-2e90-462b-9f1d-d9988cc8972d"
      },
      "outputs": [
        {
          "output_type": "stream",
          "name": "stdout",
          "text": [
            "0.003348989083325038 0.9895186300304685\n"
          ]
        }
      ],
      "source": [
        "array= np.random.random((10,10))\n",
        "arraymin =array.min()\n",
        "arraymax=array.max()\n",
        "print(arraymin,arraymax)"
      ]
    },
    {
      "cell_type": "markdown",
      "metadata": {
        "id": "N-fyglr5-bJC"
      },
      "source": [
        "#### 14. Create a random vector of size 30 and find the mean value (★☆☆) \n",
        "(**hint**: mean)"
      ]
    },
    {
      "cell_type": "code",
      "execution_count": 24,
      "metadata": {
        "colab": {
          "base_uri": "https://localhost:8080/"
        },
        "id": "-TDXxryx-bJE",
        "outputId": "1f7207ff-f963-4121-97d3-bb318b5b2b15"
      },
      "outputs": [
        {
          "output_type": "stream",
          "name": "stdout",
          "text": [
            "0.4128162056381051\n"
          ]
        }
      ],
      "source": [
        "vector=np.random.random(30)\n",
        "vector=vector.mean()\n",
        "print(vector)"
      ]
    },
    {
      "cell_type": "markdown",
      "metadata": {
        "id": "_eZhkwXw-bJG"
      },
      "source": [
        "#### 15. Create a 2d array with 1 on the border and 0 inside (★☆☆) \n",
        "(**hint**: array\\[1:-1, 1:-1\\])"
      ]
    },
    {
      "cell_type": "code",
      "execution_count": 25,
      "metadata": {
        "colab": {
          "base_uri": "https://localhost:8080/"
        },
        "id": "hoqLuWle-bJH",
        "outputId": "d24c65ee-8b59-4184-ec86-3dffa7699c2f"
      },
      "outputs": [
        {
          "output_type": "stream",
          "name": "stdout",
          "text": [
            "[[1. 1. 1. 1. 1.]\n",
            " [1. 0. 0. 0. 1.]\n",
            " [1. 0. 0. 0. 1.]\n",
            " [1. 0. 0. 0. 1.]\n",
            " [1. 1. 1. 1. 1.]]\n"
          ]
        }
      ],
      "source": [
        "array= np.ones((5,5))\n",
        "array[1:-1, 1:-1]=0\n",
        "print(array)\n"
      ]
    },
    {
      "cell_type": "markdown",
      "metadata": {
        "id": "PyKLM8oC-bJH"
      },
      "source": [
        "#### 16. How to add a border (filled with 0's) around an existing array? (★☆☆) \n",
        "(**hint**: np.pad)"
      ]
    },
    {
      "cell_type": "code",
      "execution_count": 28,
      "metadata": {
        "colab": {
          "base_uri": "https://localhost:8080/"
        },
        "id": "FIvEwm2H-bJI",
        "outputId": "42921a0e-dd25-48c0-da06-c22aa870e00e"
      },
      "outputs": [
        {
          "output_type": "stream",
          "name": "stdout",
          "text": [
            "[[0. 0. 0. 0. 0. 0. 0. 0. 0. 0. 0. 0.]\n",
            " [0. 1. 1. 1. 1. 1. 1. 1. 1. 1. 1. 0.]\n",
            " [0. 1. 1. 1. 1. 1. 1. 1. 1. 1. 1. 0.]\n",
            " [0. 1. 1. 1. 1. 1. 1. 1. 1. 1. 1. 0.]\n",
            " [0. 1. 1. 1. 1. 1. 1. 1. 1. 1. 1. 0.]\n",
            " [0. 1. 1. 1. 1. 1. 1. 1. 1. 1. 1. 0.]\n",
            " [0. 1. 1. 1. 1. 1. 1. 1. 1. 1. 1. 0.]\n",
            " [0. 1. 1. 1. 1. 1. 1. 1. 1. 1. 1. 0.]\n",
            " [0. 1. 1. 1. 1. 1. 1. 1. 1. 1. 1. 0.]\n",
            " [0. 1. 1. 1. 1. 1. 1. 1. 1. 1. 1. 0.]\n",
            " [0. 1. 1. 1. 1. 1. 1. 1. 1. 1. 1. 0.]\n",
            " [0. 0. 0. 0. 0. 0. 0. 0. 0. 0. 0. 0.]]\n"
          ]
        }
      ],
      "source": [
        "border=np.ones((10,10))\n",
        "array=np.pad(border,pad_width=1,constant_values=0)\n",
        "print(array)"
      ]
    },
    {
      "cell_type": "markdown",
      "metadata": {
        "id": "40lyBcuj-bJJ"
      },
      "source": [
        "#### 17. What is the result of the following expression? (★☆☆) \n",
        "(**hint**: NaN = not a number, inf = infinity)"
      ]
    },
    {
      "cell_type": "markdown",
      "metadata": {
        "id": "xk8daO7E-bJJ"
      },
      "source": [
        "```python\n",
        "0 * np.nan\n",
        "np.nan == np.nan\n",
        "np.inf > np.nan\n",
        "np.nan - np.nan\n",
        "0.3 == 3 * 0.1\n",
        "```"
      ]
    },
    {
      "cell_type": "code",
      "execution_count": 52,
      "metadata": {
        "colab": {
          "base_uri": "https://localhost:8080/"
        },
        "id": "3Jv8l4M_-bJK",
        "outputId": "a864343f-534d-44e7-a9ce-d2d9da34bc7a"
      },
      "outputs": [
        {
          "output_type": "stream",
          "name": "stdout",
          "text": [
            "a= nan b= False c= False d= nan e= False\n"
          ]
        }
      ],
      "source": [
        "a= 0 * np.nan\n",
        "b= np.nan == np.nan\n",
        "c= np.inf > np.nan\n",
        "d= np.nan - np.nan\n",
        "e= 0.3 == 3 * 0.\n",
        "print(\"a=\",a,\"b=\",b,\"c=\",c,\"d=\",d,\"e=\",e)"
      ]
    },
    {
      "cell_type": "markdown",
      "metadata": {
        "id": "HeFnl2EN-bJL"
      },
      "source": [
        "#### 18. Create a 5x5 matrix with values 1,2,3,4 just below the diagonal (★☆☆) \n",
        "(**hint**: np.diag)"
      ]
    },
    {
      "cell_type": "code",
      "execution_count": 40,
      "metadata": {
        "colab": {
          "base_uri": "https://localhost:8080/"
        },
        "id": "K5-2gflO-bJM",
        "outputId": "a6c54c99-7036-465a-8a7c-865e21a2979e"
      },
      "outputs": [
        {
          "output_type": "stream",
          "name": "stdout",
          "text": [
            "[[0 0 0 0 0]\n",
            " [1 0 0 0 0]\n",
            " [0 2 0 0 0]\n",
            " [0 0 3 0 0]\n",
            " [0 0 0 4 0]]\n"
          ]
        }
      ],
      "source": [
        "matrix=np.diag(1+np.arange(4),k=-1)\n",
        "print(matrix)"
      ]
    },
    {
      "cell_type": "markdown",
      "metadata": {
        "id": "2Lzl4kB0-bJM"
      },
      "source": [
        "#### 19. Create a 8x8 matrix and fill it with a checkerboard pattern (★☆☆) \n",
        "(**hint**: array\\[::2\\])"
      ]
    },
    {
      "cell_type": "code",
      "execution_count": 47,
      "metadata": {
        "colab": {
          "base_uri": "https://localhost:8080/"
        },
        "id": "iCuOGMFN-bJN",
        "outputId": "6130c8bf-0701-4b37-feb8-933e1d929c72"
      },
      "outputs": [
        {
          "output_type": "stream",
          "name": "stdout",
          "text": [
            "[[0. 1. 0. 1. 0. 1. 0. 1.]\n",
            " [1. 0. 1. 0. 1. 0. 1. 0.]\n",
            " [0. 1. 0. 1. 0. 1. 0. 1.]\n",
            " [1. 0. 1. 0. 1. 0. 1. 0.]\n",
            " [0. 1. 0. 1. 0. 1. 0. 1.]\n",
            " [1. 0. 1. 0. 1. 0. 1. 0.]\n",
            " [0. 1. 0. 1. 0. 1. 0. 1.]\n",
            " [1. 0. 1. 0. 1. 0. 1. 0.]]\n"
          ]
        }
      ],
      "source": [
        "checkerboard = np.zeros((8,8))\n",
        "checkerboard[1::2, ::2]=1\n",
        "checkerboard[::2, 1::2]=1\n",
        "print(checkerboard)"
      ]
    },
    {
      "cell_type": "markdown",
      "metadata": {
        "id": "e9PQIXVw-bJN"
      },
      "source": [
        "#### 20. Consider a (6,7,8) shape array, what is the index (x,y,z) of the 100th element? \n",
        "(**hint**: np.unravel_index)"
      ]
    },
    {
      "cell_type": "code",
      "execution_count": 44,
      "metadata": {
        "colab": {
          "base_uri": "https://localhost:8080/"
        },
        "id": "OoNX0Op6-bJO",
        "outputId": "62f3b377-6f8a-4205-cbba-ee8e56ecfedd"
      },
      "outputs": [
        {
          "output_type": "stream",
          "name": "stdout",
          "text": [
            "(1, 5, 4)\n"
          ]
        }
      ],
      "source": [
        "print(np.unravel_index(100,(6,7,8)))"
      ]
    },
    {
      "cell_type": "markdown",
      "metadata": {
        "id": "mstCW0LQ-bJP"
      },
      "source": [
        "#### 21. Create a checkerboard 8x8 matrix using the tile function (★☆☆) \n",
        "(**hint**: np.tile)"
      ]
    },
    {
      "cell_type": "code",
      "execution_count": 49,
      "metadata": {
        "colab": {
          "base_uri": "https://localhost:8080/"
        },
        "id": "Qa5BVVl2-bJP",
        "outputId": "12855b73-fb40-43ee-a884-b8976d0b7bd4"
      },
      "outputs": [
        {
          "output_type": "stream",
          "name": "stdout",
          "text": [
            "[[0 1 0 1 0 1 0 1]\n",
            " [0 1 0 1 0 1 0 1]\n",
            " [0 1 0 1 0 1 0 1]\n",
            " [0 1 0 1 0 1 0 1]\n",
            " [0 1 0 1 0 1 0 1]\n",
            " [0 1 0 1 0 1 0 1]\n",
            " [0 1 0 1 0 1 0 1]\n",
            " [0 1 0 1 0 1 0 1]]\n"
          ]
        }
      ],
      "source": [
        "checkerboard = 8\n",
        "arr = ([0,1])\n",
        "print(np.tile(arr,(checkerboard,checkerboard//2)))"
      ]
    },
    {
      "cell_type": "markdown",
      "metadata": {
        "id": "NKvVSomk-bJQ"
      },
      "source": [
        "#### 22. Normalize a 5x5 random matrix (★☆☆) \n",
        "(**hint**: (x - min) / (max - min))"
      ]
    },
    {
      "cell_type": "code",
      "execution_count": 53,
      "metadata": {
        "colab": {
          "base_uri": "https://localhost:8080/"
        },
        "id": "vk2ONmrB-bJQ",
        "outputId": "64f6ad99-f095-4e76-9129-07444b134a21"
      },
      "outputs": [
        {
          "output_type": "stream",
          "name": "stdout",
          "text": [
            "[[0.12618886 0.68690311 1.         0.         0.67681226]\n",
            " [0.94816265 0.88604763 0.17738358 0.24820635 0.84237857]\n",
            " [0.33997243 0.50784508 0.93827253 0.96227754 0.07631238]\n",
            " [0.84778439 0.68432641 0.56160892 0.15050036 0.78654288]\n",
            " [0.62895155 0.72020555 0.67781798 0.32322598 0.36478288]]\n"
          ]
        }
      ],
      "source": [
        "matrix=np.random.random((5,5))\n",
        "matrixmax, matrixmin = matrix.max(), matrix.min()\n",
        "matrix = (matrix-matrixmin)/(matrixmax-matrixmin)\n",
        "print(matrix)"
      ]
    },
    {
      "cell_type": "markdown",
      "metadata": {
        "id": "MO-Qxzzd-bJR"
      },
      "source": [
        "#### 23. Create a custom dtype that describes a color as four unsigned bytes (RGBA) (★☆☆) \n",
        "(**hint**: np.dtype)"
      ]
    },
    {
      "cell_type": "code",
      "execution_count": 57,
      "metadata": {
        "collapsed": true,
        "colab": {
          "base_uri": "https://localhost:8080/"
        },
        "id": "OlRFCUyf-bJW",
        "outputId": "50db8684-14b5-40e6-8205-60952f39e006"
      },
      "outputs": [
        {
          "output_type": "stream",
          "name": "stderr",
          "text": [
            "/usr/local/lib/python3.7/dist-packages/ipykernel_launcher.py:4: FutureWarning: Passing (type, 1) or '1type' as a synonym of type is deprecated; in a future version of numpy, it will be understood as (type, (1,)) / '(1,)type'.\n",
            "  after removing the cwd from sys.path.\n"
          ]
        }
      ],
      "source": [
        "color = np.dtype([(\"r\", np.ubyte,1),\n",
        "                  (\"g\", np.ubyte,1),\n",
        "                  (\"b\", np.ubyte,1),\n",
        "                  (\"a\", np.ubyte,1)])"
      ]
    },
    {
      "cell_type": "markdown",
      "metadata": {
        "id": "twFbtF2m-bJk"
      },
      "source": [
        "#### 24. Multiply a 5x3 matrix by a 3x2 matrix (real matrix product) (★☆☆) \n",
        "(**hint**: np.dot | @)"
      ]
    },
    {
      "cell_type": "code",
      "execution_count": 59,
      "metadata": {
        "colab": {
          "base_uri": "https://localhost:8080/"
        },
        "id": "3ZYE_8r5-bJl",
        "outputId": "60be0e42-9f93-4385-b7d6-3cc03685f17c"
      },
      "outputs": [
        {
          "output_type": "stream",
          "name": "stdout",
          "text": [
            "[[3. 3.]\n",
            " [3. 3.]\n",
            " [3. 3.]\n",
            " [3. 3.]\n",
            " [3. 3.]]\n"
          ]
        }
      ],
      "source": [
        "mul = np.dot(np.ones((5,3)), np.ones((3,2)))\n",
        "print(mul)"
      ]
    },
    {
      "cell_type": "markdown",
      "metadata": {
        "id": "O-BeE0Qu-bJm"
      },
      "source": [
        "#### 25. Given a 1D array, negate all elements which are between 3 and 8, in place. (★☆☆) \n",
        "(**hint**: >, <=)"
      ]
    },
    {
      "cell_type": "code",
      "execution_count": 61,
      "metadata": {
        "colab": {
          "base_uri": "https://localhost:8080/"
        },
        "id": "Z2EO5qeH-bJm",
        "outputId": "d9c80a58-17a7-498a-8f6b-80da12e5e076"
      },
      "outputs": [
        {
          "output_type": "stream",
          "name": "stdout",
          "text": [
            "[ 0  1  2  3 -4 -5 -6 -7 -8  9 10 11 12 13 14]\n"
          ]
        }
      ],
      "source": [
        "neg = np.arange(15)\n",
        "neg[(3 < neg) & (neg <= 8)] *= -1\n",
        "print(neg)"
      ]
    },
    {
      "cell_type": "markdown",
      "metadata": {
        "id": "kllt6lqC-bJn"
      },
      "source": [
        "#### 26. What is the output of the following script? (★☆☆) \n",
        "(**hint**: np.sum)"
      ]
    },
    {
      "cell_type": "markdown",
      "metadata": {
        "id": "N2I-ccLp-bJn"
      },
      "source": [
        "```python\n",
        "# Author: Jake VanderPlas\n",
        "\n",
        "print(sum(range(5),-1))\n",
        "from numpy import *\n",
        "print(sum(range(5),-1))\n",
        "```"
      ]
    },
    {
      "cell_type": "code",
      "execution_count": 62,
      "metadata": {
        "colab": {
          "base_uri": "https://localhost:8080/"
        },
        "id": "12rFbqV1-bJo",
        "outputId": "b20f23f2-bfea-4868-a02b-f3d4d27b8bad"
      },
      "outputs": [
        {
          "output_type": "stream",
          "name": "stdout",
          "text": [
            "9\n",
            "10\n"
          ]
        }
      ],
      "source": [
        "print(sum(range(5),-1))\n",
        "from numpy import *\n",
        "print(sum(range(5),-1))"
      ]
    },
    {
      "cell_type": "markdown",
      "metadata": {
        "id": "dCULJCLZ-bJp"
      },
      "source": [
        "#### 27. Consider an integer vector Z, which of these expressions are legal? (★☆☆)"
      ]
    },
    {
      "cell_type": "markdown",
      "metadata": {
        "id": "AReTLIus-bJq"
      },
      "source": [
        "```python\n",
        "Z**Z\n",
        "2 << Z >> 2\n",
        "Z <- Z\n",
        "1j*Z\n",
        "Z/1/1\n",
        "Z<Z>Z\n",
        "```"
      ]
    },
    {
      "cell_type": "code",
      "execution_count": 67,
      "metadata": {
        "colab": {
          "base_uri": "https://localhost:8080/",
          "height": 283
        },
        "id": "QRIDx1tG-bJq",
        "outputId": "60405476-41df-48ad-fb9e-0a300844b3d6"
      },
      "outputs": [
        {
          "output_type": "stream",
          "name": "stdout",
          "text": [
            "[  1   1   4  27 256]\n",
            "[0 1 2 4 8]\n",
            "[False False False False False]\n",
            "[0.+0.j 0.+1.j 0.+2.j 0.+3.j 0.+4.j]\n",
            "[0. 1. 2. 3. 4.]\n"
          ]
        },
        {
          "output_type": "error",
          "ename": "ValueError",
          "evalue": "ignored",
          "traceback": [
            "\u001b[0;31m---------------------------------------------------------------------------\u001b[0m",
            "\u001b[0;31mValueError\u001b[0m                                Traceback (most recent call last)",
            "\u001b[0;32m<ipython-input-67-21914cf46248>\u001b[0m in \u001b[0;36m<module>\u001b[0;34m()\u001b[0m\n\u001b[1;32m      5\u001b[0m \u001b[0mprint\u001b[0m\u001b[0;34m(\u001b[0m\u001b[0;36m1j\u001b[0m\u001b[0;34m*\u001b[0m\u001b[0mZ\u001b[0m\u001b[0;34m)\u001b[0m \u001b[0;31m# a legal expression\u001b[0m\u001b[0;34m\u001b[0m\u001b[0;34m\u001b[0m\u001b[0m\n\u001b[1;32m      6\u001b[0m \u001b[0mprint\u001b[0m\u001b[0;34m(\u001b[0m\u001b[0mZ\u001b[0m\u001b[0;34m/\u001b[0m\u001b[0;36m1\u001b[0m\u001b[0;34m/\u001b[0m\u001b[0;36m1\u001b[0m\u001b[0;34m)\u001b[0m \u001b[0;31m# a legal expression\u001b[0m\u001b[0;34m\u001b[0m\u001b[0;34m\u001b[0m\u001b[0m\n\u001b[0;32m----> 7\u001b[0;31m \u001b[0mprint\u001b[0m\u001b[0;34m(\u001b[0m\u001b[0mZ\u001b[0m\u001b[0;34m<\u001b[0m\u001b[0mZ\u001b[0m\u001b[0;34m>\u001b[0m\u001b[0mZ\u001b[0m\u001b[0;34m)\u001b[0m \u001b[0;31m#this expression is not legal\u001b[0m\u001b[0;34m\u001b[0m\u001b[0;34m\u001b[0m\u001b[0m\n\u001b[0m",
            "\u001b[0;31mValueError\u001b[0m: The truth value of an array with more than one element is ambiguous. Use a.any() or a.all()"
          ]
        }
      ],
      "source": [
        "Z = np.arange(5)\n",
        "print(Z**Z) # a legal expression\n",
        "print(2 << Z >> 2) # a legal expression\n",
        "print(Z <- Z) # a legal expression\n",
        "print(1j*Z) # a legal expression\n",
        "print(Z/1/1) # a legal expression\n",
        "print(Z<Z>Z) #this expression is not legal"
      ]
    },
    {
      "cell_type": "markdown",
      "metadata": {
        "id": "jjeEbNGN-bJr"
      },
      "source": [
        "#### 28. What are the result of the following expressions?"
      ]
    },
    {
      "cell_type": "markdown",
      "metadata": {
        "id": "e9RIowTA-bJr"
      },
      "source": [
        "```python\n",
        "np.array(0) / np.array(0)\n",
        "np.array(0) // np.array(0)\n",
        "np.array([np.nan]).astype(int).astype(float)\n",
        "```"
      ]
    },
    {
      "cell_type": "code",
      "execution_count": 69,
      "metadata": {
        "colab": {
          "base_uri": "https://localhost:8080/"
        },
        "id": "-p7eU6QL-bJs",
        "outputId": "e564e91d-d6c0-4c99-a40b-0e20fcc8cd8f"
      },
      "outputs": [
        {
          "output_type": "stream",
          "name": "stdout",
          "text": [
            "nan\n",
            "0\n",
            "[-9.22337204e+18]\n"
          ]
        },
        {
          "output_type": "stream",
          "name": "stderr",
          "text": [
            "/usr/local/lib/python3.7/dist-packages/ipykernel_launcher.py:1: RuntimeWarning: invalid value encountered in true_divide\n",
            "  \"\"\"Entry point for launching an IPython kernel.\n",
            "/usr/local/lib/python3.7/dist-packages/ipykernel_launcher.py:2: RuntimeWarning: divide by zero encountered in floor_divide\n",
            "  \n"
          ]
        }
      ],
      "source": [
        "print(np.array(0) / np.array(0))\n",
        "print(np.array(0) // np.array(0))\n",
        "print(np.array([np.nan]).astype(int).astype(float))"
      ]
    },
    {
      "cell_type": "markdown",
      "metadata": {
        "id": "rfUb7RHx-bJt"
      },
      "source": [
        "#### 29. How to round away from zero a float array ? (★☆☆) \n",
        "(**hint**: np.uniform, np.copysign, np.ceil, np.abs)"
      ]
    },
    {
      "cell_type": "code",
      "execution_count": 70,
      "metadata": {
        "colab": {
          "base_uri": "https://localhost:8080/"
        },
        "id": "vN6JHP6f-bJu",
        "outputId": "e0227c2b-4c92-401e-a64b-b171e26469d7"
      },
      "outputs": [
        {
          "output_type": "stream",
          "name": "stdout",
          "text": [
            "[-6. -8. -8.  5. -3.  1.  3. -5. -9. -4.]\n"
          ]
        }
      ],
      "source": [
        "x = np.random.uniform(-10,+10,10)\n",
        "print(np.copysign(np.ceil(np.abs(x)),x))"
      ]
    },
    {
      "cell_type": "markdown",
      "metadata": {
        "id": "QnqNOLQr-bJu"
      },
      "source": [
        "#### 30. How to find common values between two arrays? (★☆☆) \n",
        "(**hint**: np.intersect1d)"
      ]
    },
    {
      "cell_type": "code",
      "execution_count": 72,
      "metadata": {
        "colab": {
          "base_uri": "https://localhost:8080/"
        },
        "id": "myziUwfG-bJv",
        "outputId": "5b1279d3-fa13-44b3-ef03-4e0589a4ec5c"
      },
      "outputs": [
        {
          "output_type": "stream",
          "name": "stdout",
          "text": [
            "[0 2 4]\n"
          ]
        }
      ],
      "source": [
        "x = np.array([0, 1, 2, 3, 4, 5]) \n",
        "y = np.array([0, 2, 4, 6])\n",
        "print(np.intersect1d(x, y)) "
      ]
    },
    {
      "cell_type": "markdown",
      "metadata": {
        "id": "VhnCLdJJ-bJw"
      },
      "source": [
        "#### 31. How to ignore all numpy warnings (not recommended)? (★☆☆) \n",
        "(**hint**: np.seterr, np.errstate)"
      ]
    },
    {
      "cell_type": "code",
      "execution_count": 89,
      "metadata": {
        "id": "x1HbUGnx-bJw"
      },
      "outputs": [],
      "source": [
        "defaults = np.seterr(all=\"ignore\")\n",
        "Z = np.ones(1) / 0\n",
        "_ = np.seterr(**defaults)\n",
        "with np.errstate(divide='ignore'):\n",
        "  Z = np.ones(1) / 0"
      ]
    },
    {
      "cell_type": "markdown",
      "metadata": {
        "id": "FS2qQa2Q-bJx"
      },
      "source": [
        "#### 32. Is the following expressions true? (★☆☆) \n",
        "(**hint**: imaginary number)"
      ]
    },
    {
      "cell_type": "markdown",
      "source": [
        "np.sqrt(-1) == np.emath.sqrt(-1)"
      ],
      "metadata": {
        "id": "qdSM59uRsj7D"
      }
    },
    {
      "cell_type": "code",
      "source": [
        "np.sqrt(-1) == np.emath.sqrt(-1) # False"
      ],
      "metadata": {
        "colab": {
          "base_uri": "https://localhost:8080/"
        },
        "id": "CIk3HjBvsLKc",
        "outputId": "f2744a40-2cb5-4fde-8c68-e4055a99e9ae"
      },
      "execution_count": 84,
      "outputs": [
        {
          "output_type": "execute_result",
          "data": {
            "text/plain": [
              "False"
            ]
          },
          "metadata": {},
          "execution_count": 84
        }
      ]
    },
    {
      "cell_type": "markdown",
      "metadata": {
        "id": "u-LWP7Gy-bJ2"
      },
      "source": [
        "#### 33. How to get the dates of yesterday, today and tomorrow? (★☆☆) \n",
        "(**hint**: np.datetime64, np.timedelta64)"
      ]
    },
    {
      "cell_type": "code",
      "execution_count": 85,
      "metadata": {
        "collapsed": true,
        "colab": {
          "base_uri": "https://localhost:8080/"
        },
        "id": "UPKZHNbq-bJ3",
        "outputId": "6a114d31-2c1e-4f4a-a39c-8190aed42124"
      },
      "outputs": [
        {
          "output_type": "stream",
          "name": "stdout",
          "text": [
            "2022-04-22\n",
            "2022-04-23\n",
            "2022-04-24\n"
          ]
        }
      ],
      "source": [
        "yesterday = np.datetime64('today', 'D') - np.timedelta64(1, 'D')\n",
        "today     = np.datetime64('today', 'D')\n",
        "tomorrow  = np.datetime64('today', 'D') + np.timedelta64(1, 'D')\n",
        "print(yesterday)\n",
        "print(today)\n",
        "print(tomorrow)"
      ]
    },
    {
      "cell_type": "markdown",
      "metadata": {
        "id": "9yE69R0Q-bJ5"
      },
      "source": [
        "#### 34. How to get all the dates corresponding to the month of July 2016? (★★☆) \n",
        "(**hint**: np.arange(dtype=datetime64\\['D'\\]))"
      ]
    },
    {
      "cell_type": "code",
      "execution_count": 87,
      "metadata": {
        "colab": {
          "base_uri": "https://localhost:8080/"
        },
        "id": "hVOSkQua-bJ6",
        "outputId": "a2a0a5d1-06c0-4bd6-bcf0-362cc9401b14"
      },
      "outputs": [
        {
          "output_type": "stream",
          "name": "stdout",
          "text": [
            "['2016-07-01' '2016-07-02' '2016-07-03' '2016-07-04' '2016-07-05'\n",
            " '2016-07-06' '2016-07-07' '2016-07-08' '2016-07-09' '2016-07-10'\n",
            " '2016-07-11' '2016-07-12' '2016-07-13' '2016-07-14' '2016-07-15'\n",
            " '2016-07-16' '2016-07-17' '2016-07-18' '2016-07-19' '2016-07-20'\n",
            " '2016-07-21' '2016-07-22' '2016-07-23' '2016-07-24' '2016-07-25'\n",
            " '2016-07-26' '2016-07-27' '2016-07-28' '2016-07-29' '2016-07-30'\n",
            " '2016-07-31']\n"
          ]
        }
      ],
      "source": [
        "print(np.arange('2016-07', '2016-08', dtype='datetime64[D]'))"
      ]
    },
    {
      "cell_type": "markdown",
      "metadata": {
        "id": "q1xslsqG-bJ6"
      },
      "source": [
        "#### 35. How to compute ((A+B)\\*(-A/2)) in place (without copy)? (★★☆) \n",
        "(**hint**: np.add(out=), np.negative(out=), np.multiply(out=), np.divide(out=))"
      ]
    },
    {
      "cell_type": "code",
      "execution_count": null,
      "metadata": {
        "id": "am1bKLA4-bJ7"
      },
      "outputs": [],
      "source": [
        "A = np.ones(3)*1\n",
        "B = np.ones(3)*2\n",
        "C = np.ones(3)*3\n",
        "np.add(A,B,out=B)\n",
        "np.divide(A,2,out=A)\n",
        "np.negative(A,out=A)\n",
        "np.multiply(A,B,out=A)"
      ]
    },
    {
      "cell_type": "markdown",
      "metadata": {
        "id": "XEDzFeU2-bJ8"
      },
      "source": [
        "#### 36. Extract the integer part of a random array using 5 different methods (★★☆) \n",
        "(**hint**: %, np.floor, np.ceil, astype, np.trunc)"
      ]
    },
    {
      "cell_type": "code",
      "execution_count": 97,
      "metadata": {
        "colab": {
          "base_uri": "https://localhost:8080/"
        },
        "id": "23yGpYTM-bJ8",
        "outputId": "6282e751-4267-44af-82f5-e5cd7d9870e7"
      },
      "outputs": [
        {
          "output_type": "stream",
          "name": "stdout",
          "text": [
            "[9. 0. 4. 1. 8. 9. 5. 7. 6. 4.]\n",
            "[9. 0. 4. 1. 8. 9. 5. 7. 6. 4.]\n",
            "[9. 0. 4. 1. 8. 9. 5. 7. 6. 4.]\n",
            "[9 0 4 1 8 9 5 7 6 4]\n",
            "[9. 0. 4. 1. 8. 9. 5. 7. 6. 4.]\n"
          ]
        }
      ],
      "source": [
        "array = np.random.uniform(0,10,10)\n",
        "print (array - array%1)\n",
        "print (np.floor(array))\n",
        "print (np.ceil(array)-1)\n",
        "print (array.astype(int))\n",
        "print (np.trunc(array))"
      ]
    },
    {
      "cell_type": "markdown",
      "metadata": {
        "id": "p3jBlQ55-bJ9"
      },
      "source": [
        "#### 37. Create a 5x5 matrix with row values ranging from 0 to 4 (★★☆) \n",
        "(**hint**: np.arange)"
      ]
    },
    {
      "cell_type": "code",
      "execution_count": 101,
      "metadata": {
        "colab": {
          "base_uri": "https://localhost:8080/"
        },
        "id": "Xg-4GSpI-bJ-",
        "outputId": "fd1436a8-87f5-4589-cac7-02a4c3a5911d"
      },
      "outputs": [
        {
          "output_type": "stream",
          "name": "stdout",
          "text": [
            "[[0. 1. 2. 3. 4.]\n",
            " [0. 1. 2. 3. 4.]\n",
            " [0. 1. 2. 3. 4.]\n",
            " [0. 1. 2. 3. 4.]\n",
            " [0. 1. 2. 3. 4.]]\n"
          ]
        }
      ],
      "source": [
        "matrix=np.zeros((5,5))\n",
        "matrix+=np.arange(5)\n",
        "print(matrix)\n"
      ]
    },
    {
      "cell_type": "markdown",
      "metadata": {
        "id": "eYNkQPCN-bJ-"
      },
      "source": [
        "#### 38. Consider a generator function that generates 10 integers and use it to build an array (★☆☆) \n",
        "(**hint**: np.fromiter)"
      ]
    },
    {
      "cell_type": "code",
      "execution_count": 106,
      "metadata": {
        "colab": {
          "base_uri": "https://localhost:8080/"
        },
        "id": "g2E_35FC-bJ_",
        "outputId": "c7940a6b-56ef-438c-f670-0cdca6f085b2"
      },
      "outputs": [
        {
          "output_type": "stream",
          "name": "stdout",
          "text": [
            "[0. 1. 2. 3. 4. 5. 6. 7. 8. 9.]\n"
          ]
        }
      ],
      "source": [
        "def generate():\n",
        "  for x in range(10):\n",
        "    yield x\n",
        "\n",
        "array= np.fromiter(generate(),dtype=float,count=-1)\n",
        "\n",
        "print(array)"
      ]
    },
    {
      "cell_type": "markdown",
      "metadata": {
        "id": "BPMSdv3o-bKA"
      },
      "source": [
        "#### 39. Create a vector of size 10 with values ranging from 0 to 1, both excluded (★★☆) \n",
        "(**hint**: np.linspace)"
      ]
    },
    {
      "cell_type": "code",
      "execution_count": 109,
      "metadata": {
        "colab": {
          "base_uri": "https://localhost:8080/"
        },
        "id": "e04_RyNu-bKF",
        "outputId": "e3be0fbc-437a-4d52-9cb2-cde5eef060c8"
      },
      "outputs": [
        {
          "output_type": "stream",
          "name": "stdout",
          "text": [
            "[0.09090909 0.18181818 0.27272727 0.36363636 0.45454545 0.54545455\n",
            " 0.63636364 0.72727273 0.81818182 0.90909091]\n"
          ]
        }
      ],
      "source": [
        "vector=np.linspace(0,1,12,endpoint=True)[1:-1]\n",
        "print(vector)"
      ]
    },
    {
      "cell_type": "markdown",
      "metadata": {
        "id": "pQTon3ta-bKL"
      },
      "source": [
        "#### 40. Create a random vector of size 10 and sort it (★★☆) \n",
        "(**hint**: sort)"
      ]
    },
    {
      "cell_type": "code",
      "execution_count": 115,
      "metadata": {
        "colab": {
          "base_uri": "https://localhost:8080/"
        },
        "id": "YW5Vz2uL-bKN",
        "outputId": "5a742773-bc98-4ba1-fef7-6afae0d7d55e"
      },
      "outputs": [
        {
          "output_type": "stream",
          "name": "stdout",
          "text": [
            "[0. 1. 2. 3. 4. 5. 6. 7. 8. 9.]\n"
          ]
        }
      ],
      "source": [
        "vector=np.random.random(10)\n",
        "array.sort()\n",
        "print(array)"
      ]
    },
    {
      "cell_type": "markdown",
      "metadata": {
        "id": "VvF_x6RV-bKO"
      },
      "source": [
        "#### 41. How to sum a small array faster than np.sum? (★★☆) \n",
        "(**hint**: np.add.reduce)"
      ]
    },
    {
      "cell_type": "code",
      "execution_count": 118,
      "metadata": {
        "colab": {
          "base_uri": "https://localhost:8080/"
        },
        "id": "4C0K07ir-bKP",
        "outputId": "a0ed5421-b0e9-4002-90d7-ffdb24740303"
      },
      "outputs": [
        {
          "output_type": "execute_result",
          "data": {
            "text/plain": [
              "1225"
            ]
          },
          "metadata": {},
          "execution_count": 118
        }
      ],
      "source": [
        "array= np.arange(50)\n",
        "np.add.reduce(array)"
      ]
    },
    {
      "cell_type": "markdown",
      "metadata": {
        "id": "GHOTfMfy-bKP"
      },
      "source": [
        "#### 42. Consider two random array A and B, check if they are equal (★★☆) \n",
        "(**hint**: np.allclose, np.array\\_equal)"
      ]
    },
    {
      "cell_type": "code",
      "execution_count": 119,
      "metadata": {
        "colab": {
          "base_uri": "https://localhost:8080/"
        },
        "id": "HDlPcIfx-bKR",
        "outputId": "5a65e739-11a7-4a60-d6e7-9da9f5dcc1c0"
      },
      "outputs": [
        {
          "output_type": "stream",
          "name": "stdout",
          "text": [
            "False\n",
            "False\n"
          ]
        }
      ],
      "source": [
        "A = np.random.randint(10,20,50)\n",
        "\n",
        "B = np.random.randint(10,20,50)\n",
        "\n",
        "equal = np.allclose(A,B)\n",
        "\n",
        "print(equal)\n",
        "\n",
        "equal = np.array_equal(A,B)\n",
        "\n",
        "print(equal)"
      ]
    },
    {
      "cell_type": "markdown",
      "metadata": {
        "id": "xLHpD7eG-bKR"
      },
      "source": [
        "#### 43. Make an array immutable (read-only) (★★☆) \n",
        "(**hint**: flags.writeable)"
      ]
    },
    {
      "cell_type": "code",
      "execution_count": 123,
      "metadata": {
        "colab": {
          "base_uri": "https://localhost:8080/",
          "height": 198
        },
        "id": "iDE2Qb4E-bKS",
        "outputId": "dbccacef-bd19-4f08-df0a-fff9946023ce"
      },
      "outputs": [
        {
          "output_type": "error",
          "ename": "ValueError",
          "evalue": "ignored",
          "traceback": [
            "\u001b[0;31m---------------------------------------------------------------------------\u001b[0m",
            "\u001b[0;31mValueError\u001b[0m                                Traceback (most recent call last)",
            "\u001b[0;32m<ipython-input-123-8a05c3cff078>\u001b[0m in \u001b[0;36m<module>\u001b[0;34m()\u001b[0m\n\u001b[1;32m      1\u001b[0m \u001b[0marray\u001b[0m\u001b[0;34m=\u001b[0m\u001b[0mnp\u001b[0m\u001b[0;34m.\u001b[0m\u001b[0mzeros\u001b[0m\u001b[0;34m(\u001b[0m\u001b[0;36m10\u001b[0m\u001b[0;34m)\u001b[0m\u001b[0;34m\u001b[0m\u001b[0;34m\u001b[0m\u001b[0m\n\u001b[1;32m      2\u001b[0m \u001b[0marray\u001b[0m\u001b[0;34m.\u001b[0m\u001b[0mflags\u001b[0m\u001b[0;34m.\u001b[0m\u001b[0mwriteable\u001b[0m\u001b[0;34m=\u001b[0m\u001b[0;32mFalse\u001b[0m\u001b[0;34m\u001b[0m\u001b[0;34m\u001b[0m\u001b[0m\n\u001b[0;32m----> 3\u001b[0;31m \u001b[0marray\u001b[0m\u001b[0;34m[\u001b[0m\u001b[0;36m0\u001b[0m\u001b[0;34m]\u001b[0m\u001b[0;34m=\u001b[0m\u001b[0;36m1\u001b[0m\u001b[0;34m\u001b[0m\u001b[0;34m\u001b[0m\u001b[0m\n\u001b[0m",
            "\u001b[0;31mValueError\u001b[0m: assignment destination is read-only"
          ]
        }
      ],
      "source": [
        "array=np.zeros(10)\n",
        "array.flags.writeable=False\n",
        "array[0]=1\n"
      ]
    },
    {
      "cell_type": "markdown",
      "metadata": {
        "id": "Zgy484IV-bKU"
      },
      "source": [
        "#### 44. Consider a random 10x2 matrix representing cartesian coordinates, convert them to polar coordinates (★★☆) \n",
        "(**hint**: np.sqrt, np.arctan2)"
      ]
    },
    {
      "cell_type": "code",
      "execution_count": 125,
      "metadata": {
        "colab": {
          "base_uri": "https://localhost:8080/"
        },
        "id": "O0v9ueTB-bKY",
        "outputId": "5796f1f0-bbcf-4a4d-d72f-cb51a9eb3a35"
      },
      "outputs": [
        {
          "output_type": "stream",
          "name": "stdout",
          "text": [
            "[0.60742878 0.84556497 1.0020535  1.13975699 0.51710384 0.90465069\n",
            " 0.49570493 0.92449503 1.09463542 0.88925159]\n",
            "[1.1671015  0.27370583 0.61775358 0.86268327 1.44806899 0.77691662\n",
            " 0.21641042 0.23820171 0.55846949 1.05541791]\n"
          ]
        }
      ],
      "source": [
        "matrix= np.random.random((10,2))\n",
        "\n",
        "X,Y = matrix[:,0], matrix[:,1]\n",
        "\n",
        "R = np.sqrt(X**2+Y**2)\n",
        "\n",
        "T = np.arctan2(Y,X)\n",
        "\n",
        "print(R)\n",
        "\n",
        "print(T)"
      ]
    },
    {
      "cell_type": "markdown",
      "metadata": {
        "id": "XzciwBeS-bKe"
      },
      "source": [
        "#### 45. Create random vector of size 10 and replace the maximum value by 0 (★★☆) \n",
        "(**hint**: argmax)"
      ]
    },
    {
      "cell_type": "code",
      "execution_count": 127,
      "metadata": {
        "colab": {
          "base_uri": "https://localhost:8080/"
        },
        "id": "2S6bzzAF-bKf",
        "outputId": "a5155130-c97f-4555-e2c8-322581c95df2"
      },
      "outputs": [
        {
          "output_type": "stream",
          "name": "stdout",
          "text": [
            "[0.64725536 0.74853476 0.54309596 0.78306374 0.52884085 0.76475751\n",
            " 0.19254168 0.41777619 0.31749858 0.        ]\n"
          ]
        }
      ],
      "source": [
        "vector=np.random.random(10)\n",
        "vector[vector.argmax()]=0\n",
        "print(vector)"
      ]
    },
    {
      "cell_type": "markdown",
      "metadata": {
        "id": "kMTf949z-bKg"
      },
      "source": [
        "#### 46. Create a structured array with `x` and `y` coordinates covering the \\[0,1\\]x\\[0,1\\] area (★★☆) \n",
        "(**hint**: np.meshgrid)"
      ]
    },
    {
      "cell_type": "code",
      "execution_count": 130,
      "metadata": {
        "colab": {
          "base_uri": "https://localhost:8080/"
        },
        "id": "q7C4YgOO-bKh",
        "outputId": "cea845bf-99a9-493d-ef17-3a7cd7214c9c"
      },
      "outputs": [
        {
          "output_type": "stream",
          "name": "stdout",
          "text": [
            "[[(0.  , 0.  ) (0.25, 0.  ) (0.5 , 0.  ) (0.75, 0.  ) (1.  , 0.  )]\n",
            " [(0.  , 0.25) (0.25, 0.25) (0.5 , 0.25) (0.75, 0.25) (1.  , 0.25)]\n",
            " [(0.  , 0.5 ) (0.25, 0.5 ) (0.5 , 0.5 ) (0.75, 0.5 ) (1.  , 0.5 )]\n",
            " [(0.  , 0.75) (0.25, 0.75) (0.5 , 0.75) (0.75, 0.75) (1.  , 0.75)]\n",
            " [(0.  , 1.  ) (0.25, 1.  ) (0.5 , 1.  ) (0.75, 1.  ) (1.  , 1.  )]]\n"
          ]
        }
      ],
      "source": [
        "area = np.zeros((5,5), [('x',float),('y',float)])\n",
        "\n",
        "area['x'], area['y'] = np.meshgrid(np.linspace(0,1,5),\n",
        "\n",
        "np.linspace(0,1,5))\n",
        "\n",
        "print(area)"
      ]
    },
    {
      "cell_type": "markdown",
      "metadata": {
        "id": "1TjbKxc8-bKh"
      },
      "source": [
        "####  47. Given two arrays, X and Y, construct the Cauchy matrix C (Cij =1/(xi - yj)) \n",
        "(**hint**: np.subtract.outer)"
      ]
    },
    {
      "cell_type": "code",
      "execution_count": 139,
      "metadata": {
        "colab": {
          "base_uri": "https://localhost:8080/"
        },
        "id": "e1w_L4Ev-bKi",
        "outputId": "2180cd7e-b7a1-443b-8870-810ab0ceac1e"
      },
      "outputs": [
        {
          "output_type": "stream",
          "name": "stdout",
          "text": [
            "33961.93294480236\n"
          ]
        }
      ],
      "source": [
        "x= np.arange(10)\n",
        "y= x + 0.5\n",
        "c = 1.0 / np.subtract.outer(x,y)\n",
        "print(np.linalg.det(c))"
      ]
    },
    {
      "cell_type": "markdown",
      "metadata": {
        "id": "Mmp5Pzfa-bKj"
      },
      "source": [
        "#### 48. Print the minimum and maximum representable value for each numpy scalar type (★★☆) \n",
        "(**hint**: np.iinfo, np.finfo, eps)"
      ]
    },
    {
      "cell_type": "code",
      "execution_count": 140,
      "metadata": {
        "colab": {
          "base_uri": "https://localhost:8080/"
        },
        "id": "Z9YXDe_e-bKj",
        "outputId": "027ec922-b225-4375-e114-ac2c9e1d7b58"
      },
      "outputs": [
        {
          "output_type": "stream",
          "name": "stdout",
          "text": [
            "-128\n",
            "127\n",
            "-2147483648\n",
            "2147483647\n",
            "-9223372036854775808\n",
            "9223372036854775807\n",
            "-3.4028235e+38\n",
            "3.4028235e+38\n",
            "1.1920929e-07\n",
            "-1.7976931348623157e+308\n",
            "1.7976931348623157e+308\n",
            "2.220446049250313e-16\n"
          ]
        }
      ],
      "source": [
        "for dtype in [np.int8, np.int32, np.int64]:\n",
        "  print(np.iinfo(dtype).min)\n",
        "  print(np.iinfo(dtype).max)\n",
        "for dtype in [np.float32, np.float64]:\n",
        "  print(np.finfo(dtype).min)\n",
        "  print(np.finfo(dtype).max)\n",
        "  print(np.finfo(dtype).eps)"
      ]
    },
    {
      "cell_type": "markdown",
      "metadata": {
        "id": "L5uqCq4m-bKk"
      },
      "source": [
        "#### 49. How to print all the values of an array? (★★☆) \n",
        "(**hint**: np.set\\_printoptions)"
      ]
    },
    {
      "cell_type": "code",
      "execution_count": 145,
      "metadata": {
        "colab": {
          "base_uri": "https://localhost:8080/"
        },
        "id": "EO0RZt1x-bKk",
        "outputId": "fcded5de-132a-4e14-fe7a-70dfad759033"
      },
      "outputs": [
        {
          "output_type": "stream",
          "name": "stdout",
          "text": [
            "[[0. 0. 0. 0. 0.]\n",
            " [0. 0. 0. 0. 0.]\n",
            " [0. 0. 0. 0. 0.]\n",
            " [0. 0. 0. 0. 0.]\n",
            " [0. 0. 0. 0. 0.]]\n"
          ]
        }
      ],
      "source": [
        "import sys\n",
        "np.set_printoptions(threshold=sys.maxsize)\n",
        "\n",
        "array = np.zeros((5,5))\n",
        "\n",
        "print(array)"
      ]
    },
    {
      "cell_type": "markdown",
      "metadata": {
        "id": "lESbtDiN-bKl"
      },
      "source": [
        "#### 50. How to find the closest value (to a given scalar) in a vector? (★★☆) \n",
        "(**hint**: argmin)"
      ]
    },
    {
      "cell_type": "code",
      "execution_count": 148,
      "metadata": {
        "colab": {
          "base_uri": "https://localhost:8080/"
        },
        "id": "kroWA6a3-bKl",
        "outputId": "aa3fec29-7dae-4197-fdbf-a0b3b03dc56d"
      },
      "outputs": [
        {
          "output_type": "stream",
          "name": "stdout",
          "text": [
            "6\n"
          ]
        }
      ],
      "source": [
        "vector = np.arange(10)\n",
        "value = np.random.uniform(0,10)\n",
        "index = (np.abs(vector-value)).argmin()\n",
        "print(vector[index])"
      ]
    },
    {
      "cell_type": "markdown",
      "metadata": {
        "id": "umeLg9Xd-bKm"
      },
      "source": [
        "#### 51. Create a structured array representing a position (x,y) and a color (r,g,b) (★★☆) \n",
        "(**hint**: dtype)"
      ]
    },
    {
      "cell_type": "code",
      "execution_count": 150,
      "metadata": {
        "colab": {
          "base_uri": "https://localhost:8080/"
        },
        "id": "C1-u-s5C-bKm",
        "outputId": "64cc8281-e8d8-4ad0-ea3b-349e8c9868c5"
      },
      "outputs": [
        {
          "output_type": "stream",
          "name": "stdout",
          "text": [
            "[((0., 0.), (0., 0., 0.)) ((0., 0.), (0., 0., 0.))\n",
            " ((0., 0.), (0., 0., 0.)) ((0., 0.), (0., 0., 0.))\n",
            " ((0., 0.), (0., 0., 0.)) ((0., 0.), (0., 0., 0.))\n",
            " ((0., 0.), (0., 0., 0.)) ((0., 0.), (0., 0., 0.))\n",
            " ((0., 0.), (0., 0., 0.)) ((0., 0.), (0., 0., 0.))]\n"
          ]
        },
        {
          "output_type": "stream",
          "name": "stderr",
          "text": [
            "/usr/local/lib/python3.7/dist-packages/ipykernel_launcher.py:5: FutureWarning: Passing (type, 1) or '1type' as a synonym of type is deprecated; in a future version of numpy, it will be understood as (type, (1,)) / '(1,)type'.\n",
            "  \"\"\"\n"
          ]
        }
      ],
      "source": [
        "Z = np.zeros(10, [ ('position', [ ('x', float, 1),\n",
        "                                 ('y', float, 1)]),\n",
        "                  ('color', [ ('r', float, 1),\n",
        "                            ('g', float, 1),\n",
        "                             ('b', float, 1)])])\n",
        "print(Z)"
      ]
    },
    {
      "cell_type": "markdown",
      "metadata": {
        "id": "bWnRGbM5-bKn"
      },
      "source": [
        "#### 52. Consider a random vector with shape (100,2) representing coordinates, find point by point distances (★★☆) \n",
        "(**hint**: np.atleast\\_2d, T, np.sqrt)"
      ]
    },
    {
      "cell_type": "code",
      "execution_count": 154,
      "metadata": {
        "colab": {
          "base_uri": "https://localhost:8080/"
        },
        "id": "wbm3lOnB-bKv",
        "outputId": "85f5680a-970e-4054-9ccf-aadf86a09d8f"
      },
      "outputs": [
        {
          "output_type": "stream",
          "name": "stdout",
          "text": [
            "[[0.         0.6553461  0.56786947 0.52944926 0.21612394 0.40795655\n",
            "  0.21703513 0.3749194  0.33979321 0.56551749 0.32045458 0.42101468\n",
            "  0.45334714 0.64332388 0.10889897 0.53793091 0.50250228 0.64134713\n",
            "  0.31371834 0.38443922 0.30805852 0.72262644 0.2504306  0.37759726\n",
            "  0.55211275 0.67668433 0.28529367 0.67957223 0.23711159 0.41859711\n",
            "  0.45996645 0.43915839 0.56785045 0.30234289 0.22098864 0.14390163\n",
            "  0.66063159 0.14651886 0.7142685  0.3560384  0.5876283  0.3739955\n",
            "  0.40418576 0.71398253 0.53315759 0.33919711 0.23382526 0.63963464\n",
            "  0.52972147 0.53082803 0.59620558 0.18341289 0.42063866 0.47056812\n",
            "  0.45555643 0.74509392 0.2022105  0.8228286  0.60596738 0.57574639\n",
            "  0.52465958 0.21290909 0.53955589 0.43128339 0.35188715 0.35687293\n",
            "  0.03292978 0.33215627 0.12388092 0.64193483 0.50562832 0.36429425\n",
            "  0.11824366 0.12416885 0.48083007 0.27322442 0.37654356 0.4239195\n",
            "  0.52028927 0.49569484 0.60255674 0.22050769 0.36986739 0.32085167\n",
            "  0.39135138 0.03323168 0.2155386  0.46708173 0.66325411 0.59406554\n",
            "  0.02996184 0.73945747 0.47741418 0.46834959 0.49212031 0.7224672\n",
            "  0.78977274 0.28552684 0.36161637 0.48525788]\n",
            " [0.6553461  0.         0.34747875 0.37479721 0.45503799 0.38102183\n",
            "  0.43851356 0.28057663 0.37847317 0.57830771 0.59504476 0.51398456\n",
            "  0.22502068 0.56149599 0.5596421  0.42606993 0.2304055  0.19978888\n",
            "  0.45463029 0.32488702 0.36175646 0.85853055 0.56087995 0.76162802\n",
            "  0.24451533 0.80735096 0.53598979 0.79192863 0.42380619 0.30032167\n",
            "  0.35833479 0.31360503 0.08753077 0.38592872 0.50810708 0.58421367\n",
            "  0.56930682 0.61124099 0.10408036 0.39773354 0.48338678 0.36505137\n",
            "  0.25285014 0.41262358 0.78291086 0.98781988 0.59540509 0.02723874\n",
            "  0.13496588 0.90716969 0.05945557 0.75131995 0.57681037 0.75464253\n",
            "  0.96983431 1.03626828 0.52854617 0.57205316 0.06247526 0.52029868\n",
            "  0.9644911  0.7835186  0.16314726 0.37316464 0.7184023  0.4074955\n",
            "  0.6808505  0.55309393 0.6599653  0.43887722 0.59703696 0.47095266\n",
            "  0.73902674 0.76162072 0.47577266 0.39107022 0.90413889 0.96085261\n",
            "  0.39201052 0.87068165 0.57739993 0.7381897  0.30312575 0.45684598\n",
            "  0.33691485 0.64419007 0.44668159 0.38438565 0.07547138 0.62914203\n",
            "  0.68132377 0.63340296 0.17873634 0.18705505 0.7725513  0.55719624\n",
            "  0.61198439 0.93886624 0.32309668 0.96064337]\n",
            " [0.56786947 0.34747875 0.         0.04725449 0.46043428 0.53830248\n",
            "  0.40655031 0.31275333 0.23331207 0.23533947 0.68480558 0.22215754\n",
            "  0.3847019  0.21550996 0.4596746  0.08589599 0.15166512 0.51235341\n",
            "  0.55020448 0.45271979 0.29440364 0.51320703 0.61759298 0.49368953\n",
            "  0.50196843 0.46330258 0.31928054 0.44676188 0.42245379 0.17923367\n",
            "  0.55045384 0.14453767 0.31081532 0.27889437 0.35086383 0.57783037\n",
            "  0.22499958 0.60649023 0.31032194 0.51823405 0.13591014 0.49464789\n",
            "  0.28875349 0.14925667 0.46384747 0.8966895  0.39289607 0.35933255\n",
            "  0.26073493 0.60910958 0.31655234 0.57490214 0.28022242 0.45094341\n",
            "  0.71902592 0.70473573 0.55440915 0.29074449 0.29147363 0.17399888\n",
            "  0.68202342 0.76230111 0.40753632 0.13668412 0.45593525 0.52980653\n",
            "  0.60048538 0.30384746 0.50653337 0.1085151  0.26899752 0.22648935\n",
            "  0.68207213 0.69198545 0.15755519 0.32692819 0.66991256 0.72284345\n",
            "  0.06543981 0.57725204 0.23039302 0.7411587  0.25462082 0.55748973\n",
            "  0.47554538 0.57514126 0.43886968 0.57927988 0.41600574 0.28453868\n",
            "  0.59782199 0.29740753 0.31540044 0.297254   0.46421928 0.23100185\n",
            "  0.29762894 0.83700529 0.24220366 0.69318006]\n",
            " [0.52944926 0.37479721 0.04725449 0.         0.43528853 0.52998206\n",
            "  0.37899289 0.30171434 0.20171242 0.20352157 0.66383853 0.17516414\n",
            "  0.3850183  0.20129478 0.42213828 0.05170913 0.16005432 0.52797572\n",
            "  0.53330907 0.44415535 0.26947797 0.48387785 0.59398744 0.4467956\n",
            "  0.50905591 0.43255388 0.2739773  0.41727852 0.39813463 0.16282387\n",
            "  0.54649216 0.12581551 0.32873358 0.24908951 0.31030389 0.5477217\n",
            "  0.21363454 0.57595864 0.34747946 0.50572767 0.11742679 0.48431076\n",
            "  0.28150716 0.18453878 0.4223131  0.85505423 0.34753834 0.38394194\n",
            "  0.27479896 0.56472224 0.33812401 0.5295734  0.23402052 0.40665732\n",
            "  0.67197216 0.66736862 0.52865881 0.31058786 0.31588982 0.1478411\n",
            "  0.63636121 0.727729   0.41749956 0.09998369 0.40881435 0.51710988\n",
            "  0.56224809 0.25691093 0.46328968 0.12205189 0.2286804  0.18094275\n",
            "  0.64496795 0.65360188 0.11268416 0.29972342 0.62265808 0.67561061\n",
            "  0.01936048 0.53226781 0.20550444 0.70930845 0.23786285 0.54101886\n",
            "  0.46728864 0.53839082 0.41294648 0.57480463 0.4397794  0.25454089\n",
            "  0.5593297  0.29253133 0.32005733 0.3006919  0.42066993 0.23550477\n",
            "  0.30523489 0.79490355 0.22133883 0.64664765]\n",
            " [0.21612394 0.45503799 0.46043428 0.43528853 0.         0.2057018\n",
            "  0.06087793 0.18511972 0.23685616 0.54749285 0.23336049 0.40143935\n",
            "  0.24096158 0.60230165 0.15776697 0.46336371 0.3497177  0.42523552\n",
            "  0.13442789 0.16874758 0.16619689 0.77239409 0.15928527 0.49267013\n",
            "  0.33649231 0.72027393 0.29814592 0.71644989 0.03862377 0.28343056\n",
            "  0.25496992 0.31608109 0.36916112 0.1888127  0.21433911 0.13211543\n",
            "  0.61878172 0.16080797 0.52718727 0.15392138 0.52808329 0.16404301\n",
            "  0.21782346 0.60861952 0.60872533 0.5345718  0.29889775 0.43629847\n",
            "  0.34134431 0.65890286 0.39765215 0.36679734 0.43259453 0.55276014\n",
            "  0.63424389 0.85434207 0.09404681 0.74586292 0.41288782 0.5325621\n",
            "  0.67785037 0.33275429 0.32617738 0.33888093 0.45407564 0.1586664\n",
            "  0.23509251 0.34862465 0.27537721 0.55728819 0.50853158 0.32745164\n",
            "  0.28447382 0.30846637 0.43453456 0.13613919 0.55646298 0.60990425\n",
            "  0.43376493 0.62024702 0.57623169 0.2955241  0.2124743  0.14354439\n",
            "  0.17757565 0.19682668 0.02357572 0.26810735 0.45369258 0.58996203\n",
            "  0.2369655  0.70257023 0.27697684 0.27251782 0.57565154 0.66299788\n",
            "  0.73364327 0.48872845 0.21909569 0.65024049]\n",
            " [0.40795655 0.38102183 0.53830248 0.52998206 0.2057018  0.\n",
            "  0.24695904 0.22852259 0.36812083 0.68867003 0.21971163 0.55571483\n",
            "  0.17106151 0.72343018 0.36346314 0.57160983 0.39299615 0.26829227\n",
            "  0.10160176 0.08583999 0.29176398 0.94072548 0.2085687  0.69205705\n",
            "  0.17185304 0.88717885 0.48049482 0.88006939 0.20980131 0.3680704\n",
            "  0.05235607 0.40510749 0.31519323 0.32931645 0.40347123 0.2800423\n",
            "  0.73807955 0.29740084 0.4779703  0.05241706 0.64135906 0.04994355\n",
            "  0.24961931 0.67177284 0.79333778 0.68672858 0.49606009 0.35531591\n",
            "  0.32161561 0.85837522 0.33825181 0.57119302 0.60001895 0.74154245\n",
            "  0.83991153 1.04599273 0.21343265 0.82718788 0.36575054 0.65786537\n",
            "  0.8818117  0.45135944 0.21869098 0.45224683 0.65168383 0.05135358\n",
            "  0.41893657 0.52630405 0.48083243 0.64601136 0.66508784 0.48234892\n",
            "  0.44207421 0.47161365 0.56803437 0.28329481 0.7620086  0.81513092\n",
            "  0.53568427 0.81942052 0.70976229 0.39489965 0.2961835  0.09800972\n",
            "  0.06279652 0.38174151 0.21976432 0.06263096 0.34645576 0.73678545\n",
            "  0.42236797 0.82020492 0.24455139 0.25575297 0.76413856 0.76516651\n",
            "  0.83414254 0.65161515 0.318519   0.85553325]\n",
            " [0.21703513 0.43851356 0.40655031 0.37899289 0.06087793 0.24695904\n",
            "  0.         0.15862943 0.17850814 0.48662101 0.29394079 0.34065529\n",
            "  0.24074951 0.54211487 0.13148825 0.40494691 0.30619477 0.43631694\n",
            "  0.19028662 0.19157199 0.11323662 0.7134878  0.21864771 0.44511656\n",
            "  0.35442965 0.66109554 0.24084016 0.65685057 0.03729041 0.23296035\n",
            "  0.29204673 0.26330053 0.35108795 0.13042852 0.1590057  0.17312867\n",
            "  0.55867898 0.20228909 0.50124041 0.19817912 0.46875347 0.20006282\n",
            "  0.18912478 0.55552061 0.55325952 0.55102346 0.24923774 0.42259966\n",
            "  0.31528043 0.61146386 0.37951763 0.34182366 0.37289883 0.4987413\n",
            "  0.60093646 0.80198181 0.1504189  0.68917151 0.39048895 0.47227436\n",
            "  0.63608703 0.36829193 0.32702575 0.28116731 0.40496412 0.20522369\n",
            "  0.24245245 0.29037444 0.24754665 0.50066965 0.44801073 0.26659586\n",
            "  0.30613445 0.32588114 0.37403244 0.07963066 0.52476717 0.57975618\n",
            "  0.376432   0.57253294 0.5154896  0.33845743 0.1675226  0.19942063\n",
            "  0.2063184  0.20632238 0.03734423 0.3093301  0.44721292 0.52913489\n",
            "  0.2428247  0.64241589 0.26038414 0.25170187 0.52155422 0.60421705\n",
            "  0.67480692 0.5006221  0.16886605 0.61215528]\n",
            " [0.3749194  0.28057663 0.31275333 0.30171434 0.18511972 0.22852259\n",
            "  0.15862943 0.         0.15562733 0.46538295 0.38133243 0.34249181\n",
            "  0.11389266 0.49539935 0.2801134  0.34316421 0.1768447  0.31062546\n",
            "  0.24077105 0.14286643 0.09706081 0.7281779  0.32343606 0.53150106\n",
            "  0.24968977 0.67429502 0.30148696 0.6650481  0.14924611 0.13955117\n",
            "  0.24952275 0.17658651 0.19304603 0.13332515 0.24796775 0.31721147\n",
            "  0.50984398 0.34591913 0.34383095 0.20548251 0.41297755 0.18266312\n",
            "  0.03282873 0.45258282 0.59987763 0.70953423 0.34371905 0.26597813\n",
            "  0.15750939 0.69207383 0.22132461 0.47945462 0.39481336 0.5558342\n",
            "  0.71853593 0.85817417 0.27229302 0.60330346 0.23192352 0.43076023\n",
            "  0.7334435  0.51770248 0.19018488 0.22570733 0.48810281 0.21706387\n",
            "  0.40101891 0.33648149 0.38586576 0.41926416 0.44958517 0.27391187\n",
            "  0.46316181 0.48400243 0.3442402  0.11658923 0.64703142 0.70360281\n",
            "  0.30716184 0.653355   0.48394097 0.47998568 0.0704123  0.24736091\n",
            "  0.16607184 0.36493156 0.1718524  0.27664904 0.29578729 0.51498198\n",
            "  0.40127506 0.59174573 0.10455195 0.09352517 0.57720537 0.53713481\n",
            "  0.60648344 0.65920859 0.0959741  0.71930062]\n",
            " [0.33979321 0.37847317 0.23331207 0.20171242 0.23685616 0.36812083\n",
            "  0.17850814 0.15562733 0.         0.32206711 0.46908187 0.1888082\n",
            "  0.26795787 0.36767155 0.23090168 0.22657082 0.17336519 0.45762262\n",
            "  0.34805602 0.28690045 0.07798589 0.57509628 0.39613388 0.38857281\n",
            "  0.40438838 0.52128807 0.15868258 0.51311144 0.20145162 0.08608226\n",
            "  0.39790046 0.09966006 0.29861975 0.04811884 0.13855301 0.34602381\n",
            "  0.38377413 0.37432909 0.40624383 0.33257935 0.29152639 0.31861896\n",
            "  0.15733345 0.38236156 0.44469234 0.67556233 0.21754288 0.37310608\n",
            "  0.24393057 0.54379358 0.32215106 0.38431042 0.239242   0.40239665\n",
            "  0.59146479 0.70327216 0.32888305 0.51101791 0.31798707 0.29870056\n",
            "  0.59221762 0.52915551 0.33540662 0.10277906 0.34489619 0.34296113\n",
            "  0.37175804 0.18490353 0.30028961 0.32272026 0.29758251 0.11836416\n",
            "  0.45106307 0.4630177  0.20321115 0.10093233 0.5259368  0.58258451\n",
            "  0.19812748 0.5056227  0.34630484 0.50822494 0.08976844 0.35654361\n",
            "  0.30931451 0.34405362 0.21381888 0.4230587  0.4166296  0.36912309\n",
            "  0.36965247 0.46758631 0.23479365 0.21583333 0.42332004 0.4261419\n",
            "  0.49678737 0.61814449 0.06312302 0.58425612]\n",
            " [0.56551749 0.57830771 0.23533947 0.20352157 0.54749285 0.68867003\n",
            "  0.48662101 0.46538295 0.32206711 0.         0.7800722  0.14914871\n",
            "  0.56575349 0.09243127 0.47415106 0.15235854 0.35871953 0.72590045\n",
            "  0.66833626 0.60535003 0.39997763 0.28045776 0.70295337 0.33524456\n",
            "  0.69734795 0.22905924 0.28085657 0.21388758 0.5164027  0.33210757\n",
            "  0.71460894 0.29873305 0.52975633 0.36580818 0.35736904 0.63092519\n",
            "  0.10751972 0.65546529 0.54553531 0.65460393 0.10876791 0.63965265\n",
            "  0.45415392 0.27716662 0.24675727 0.84876971 0.33657348 0.58726453\n",
            "  0.47405176 0.4055208  0.54075232 0.49651009 0.14936421 0.2543951\n",
            "  0.55341395 0.4718119  0.63233248 0.29553766 0.51927153 0.06532696\n",
            "  0.48930091 0.77802337 0.61077765 0.24089392 0.31131978 0.6650243\n",
            "  0.59726676 0.23365081 0.4634171  0.18843502 0.07209062 0.22061857\n",
            "  0.68293078 0.68215047 0.12114338 0.41802983 0.52404479 0.5686953\n",
            "  0.18676267 0.38045174 0.04012426 0.77574959 0.39511369 0.67703519\n",
            "  0.62828338 0.58520096 0.52393089 0.74112863 0.64283756 0.05174376\n",
            "  0.59271503 0.17596939 0.50912497 0.48886435 0.26020409 0.18371435\n",
            "  0.23838121 0.7862317  0.37095228 0.51387544]\n",
            " [0.32045458 0.59504476 0.68480558 0.66383853 0.23336049 0.21971163\n",
            "  0.29394079 0.38133243 0.46908187 0.7800722  0.         0.63285945\n",
            "  0.37334552 0.83557618 0.340334   0.69485772 0.55807143 0.48465063\n",
            "  0.14431693 0.27246373 0.39503721 0.9944468  0.07962054 0.68269968\n",
            "  0.38935801 0.94362216 0.52005807 0.94151603 0.26763077 0.5055824\n",
            "  0.25975359 0.54074814 0.52170102 0.42134173 0.43502425 0.18061108\n",
            "  0.8520021  0.17400978 0.68715423 0.19763767 0.76060811 0.23023447\n",
            "  0.41193866 0.83017572 0.81992953 0.50922758 0.50345415 0.57039177\n",
            "  0.51533742 0.84365166 0.54728808 0.50386708 0.65941215 0.76025686\n",
            "  0.77515389 1.05215466 0.15035981 0.97382299 0.57172671 0.76588975\n",
            "  0.84404328 0.26405243 0.43551816 0.56993288 0.64991384 0.18758432\n",
            "  0.31351894 0.57195758 0.43347911 0.78573669 0.73827699 0.55956358\n",
            "  0.29421935 0.32556679 0.66789024 0.36817388 0.69638142 0.74195613\n",
            "  0.66386433 0.80682289 0.80940186 0.20160537 0.43050911 0.14014275\n",
            "  0.25829256 0.28731768 0.25689195 0.24638083 0.56548029 0.82144904\n",
            "  0.31900969 0.93581427 0.43880081 0.44392388 0.78299397 0.89466916\n",
            "  0.96532473 0.48739665 0.4431899  0.80567236]\n",
            " [0.42101468 0.51398456 0.22215754 0.17516414 0.40143935 0.55571483\n",
            "  0.34065529 0.34249181 0.1888082  0.14914871 0.63285945 0.\n",
            "  0.45160286 0.22233933 0.32610253 0.14970775 0.28359037 0.63070732\n",
            "  0.5261847  0.4755425  0.26395123 0.3863008  0.55512847 0.27165044\n",
            "  0.5874441  0.33248258 0.13608756 0.32448984 0.37215944 0.22656312\n",
            "  0.58666214 0.2028823  0.44874139 0.22687819 0.20853835 0.48177648\n",
            "  0.23964021 0.50637654 0.50794189 0.51763906 0.17524875 0.50593172\n",
            "  0.33847611 0.33429614 0.27024848 0.7202149  0.20089154 0.51648185\n",
            "  0.39074884 0.39711275 0.46609202 0.37620076 0.0631577  0.24143187\n",
            "  0.49687123 0.52742711 0.48426463 0.40990534 0.45167241 0.15582447\n",
            "  0.46394763 0.63237761 0.51003571 0.14125255 0.23388381 0.52748191\n",
            "  0.45333237 0.09677375 0.32750025 0.24659624 0.10949811 0.07462368\n",
            "  0.53912049 0.54058247 0.07237585 0.27670361 0.44920967 0.50134377\n",
            "  0.15674951 0.36258502 0.1832309  0.62781287 0.27311781 0.53507434\n",
            "  0.49779966 0.43888237 0.37798357 0.61160536 0.5678784  0.18862034\n",
            "  0.44909788 0.31902416 0.40655729 0.38625635 0.25868295 0.30418741\n",
            "  0.36968282 0.65819073 0.24669769 0.47195693]\n",
            " [0.45334714 0.22502068 0.3847019  0.3850183  0.24096158 0.17106151\n",
            "  0.24074951 0.11389266 0.26795787 0.56575349 0.37334552 0.45160286\n",
            "  0.         0.58524428 0.37159985 0.43192036 0.23386445 0.19997252\n",
            "  0.23075465 0.10098417 0.20986361 0.83505898 0.33588338 0.64464733\n",
            "  0.13644626 0.78122813 0.41516877 0.77086616 0.21625218 0.23364597\n",
            "  0.1690343  0.26786937 0.14836613 0.24702606 0.35802387 0.36449672\n",
            "  0.59832939 0.39032488 0.31382314 0.17596137 0.50137294 0.14374245\n",
            "  0.11323527 0.50888182 0.71264851 0.77487517 0.45474917 0.20254596\n",
            "  0.15071378 0.80582276 0.17416982 0.57917152 0.50618821 0.66945813\n",
            "  0.82705012 0.97120925 0.30568203 0.66770858 0.19854901 0.52475593\n",
            "  0.84593807 0.56139601 0.08639385 0.32511624 0.60137152 0.18657398\n",
            "  0.4749401  0.45026907 0.48464105 0.49317376 0.55649443 0.38550921\n",
            "  0.52424207 0.54912839 0.44550288 0.22367098 0.75392821 0.8101398\n",
            "  0.39438187 0.76706155 0.58029557 0.51417035 0.17914241 0.2336641\n",
            "  0.11631554 0.43694111 0.23794657 0.19827895 0.21321586 0.61655703\n",
            "  0.47637572 0.67738261 0.07457692 0.08896822 0.69071305 0.61543692\n",
            "  0.68226037 0.7296874  0.20597565 0.83024022]\n",
            " [0.64332388 0.56149599 0.21550996 0.20129478 0.60230165 0.72343018\n",
            "  0.54211487 0.49539935 0.36767155 0.09243127 0.83557618 0.22233933\n",
            "  0.58524428 0.         0.54665273 0.15340229 0.36058492 0.72680106\n",
            "  0.71503579 0.63813679 0.4445562  0.31324581 0.76068656 0.42739122\n",
            "  0.71035057 0.26936096 0.35835917 0.24957987 0.56840352 0.35633045\n",
            "  0.74369029 0.31980211 0.52577983 0.41470848 0.42813943 0.69677911\n",
            "  0.01731368 0.72271758 0.51318268 0.69449343 0.08397254 0.67599381\n",
            "  0.47863272 0.2067605  0.32703436 0.93633949 0.41989302 0.57440675\n",
            "  0.47399485 0.48862706 0.53206155 0.58565943 0.23720567 0.34256785\n",
            "  0.64383813 0.52877872 0.69133659 0.20312836 0.50673906 0.07006197\n",
            "  0.57496554 0.85431405 0.61843437 0.27208127 0.40372953 0.70548347\n",
            "  0.67566911 0.31525972 0.54722245 0.13094644 0.16445122 0.28470122\n",
            "  0.76145431 0.76272599 0.16900575 0.46797215 0.61616604 0.66019526\n",
            "  0.19086242 0.46624125 0.05376861 0.84779978 0.42735362 0.72335174\n",
            "  0.66134228 0.66068182 0.57883955 0.77147667 0.63120033 0.10887524\n",
            "  0.67143622 0.10031112 0.52132    0.50187096 0.34603751 0.09129871\n",
            "  0.14896995 0.8739031  0.40627793 0.60243847]\n",
            " [0.10889897 0.5596421  0.4596746  0.42213828 0.15776697 0.36346314\n",
            "  0.13148825 0.2801134  0.23090168 0.47415106 0.340334   0.32610253\n",
            "  0.37159985 0.54665273 0.         0.43319292 0.39525766 0.56780314\n",
            "  0.28487147 0.3197623  0.20355682 0.65917203 0.26131369 0.34556065\n",
            "  0.48502436 0.60994141 0.19482671 0.6099227  0.16234789 0.31045507\n",
            "  0.41252375 0.33032227 0.47229461 0.19436022 0.1186402  0.16612483\n",
            "  0.56393823 0.18616641 0.61229144 0.31156176 0.48613012 0.32103477\n",
            "  0.30679752 0.60652811 0.48006594 0.44626951 0.16390624 0.54599255\n",
            "  0.43011599 0.50993374 0.50019164 0.21133897 0.33605393 0.41999272\n",
            "  0.47648689 0.71354385 0.1941743  0.71977802 0.50720929 0.47771766\n",
            "  0.52269712 0.30926952 0.45761421 0.32330854 0.31061723 0.3158117\n",
            "  0.14107517 0.24579814 0.11813735 0.5365911  0.41995442 0.26321046\n",
            "  0.22283943 0.23254298 0.38057545 0.17026993 0.39882607 0.45261985\n",
            "  0.41373359 0.47198419 0.50931335 0.30171813 0.26567781 0.29353519\n",
            "  0.33198861 0.11667304 0.14612721 0.42581746 0.57458989 0.50757158\n",
            "  0.1387917  0.64479467 0.38453267 0.37317397 0.44269927 0.62223548\n",
            "  0.69075307 0.3905507  0.25518968 0.49320037]\n",
            " [0.53793091 0.42606993 0.08589599 0.05170913 0.46336371 0.57160983\n",
            "  0.40494691 0.34316421 0.22657082 0.15235854 0.69485772 0.14970775\n",
            "  0.43192036 0.15340229 0.43319292 0.         0.21095208 0.57915097\n",
            "  0.56859098 0.48603035 0.30007654 0.43246762 0.62264822 0.41709044\n",
            "  0.55817175 0.38139908 0.26758787 0.36586454 0.42744871 0.2036847\n",
            "  0.59065714 0.16685686 0.38032116 0.27468398 0.31694414 0.56905265\n",
            "  0.16705679 0.59656417 0.39529667 0.544598   0.06992085 0.52481497\n",
            "  0.32545541 0.18621239 0.37823846 0.85534449 0.33963742 0.43553618\n",
            "  0.32605283 0.52539574 0.38983201 0.52015699 0.20182458 0.3673385\n",
            "  0.64306092 0.6192519  0.55536491 0.28758787 0.3674632  0.09633532\n",
            "  0.60035277 0.74181182 0.46763514 0.12496618 0.38157058 0.55578467\n",
            "  0.57086048 0.24131923 0.46126104 0.10434497 0.18322958 0.17660853\n",
            "  0.65519617 0.66144945 0.07858158 0.32726517 0.59819122 0.64955454\n",
            "  0.03776049 0.49442512 0.15396712 0.72748726 0.27634839 0.57661747\n",
            "  0.50923604 0.5498432  0.44038329 0.61859634 0.49144356 0.2030816\n",
            "  0.56747672 0.2485951  0.36893839 0.349261   0.37979904 0.19981162\n",
            "  0.27046924 0.79423255 0.25691542 0.61413408]\n",
            " [0.50250228 0.2304055  0.15166512 0.16005432 0.3497177  0.39299615\n",
            "  0.30619477 0.1768447  0.17336519 0.35871953 0.55807143 0.28359037\n",
            "  0.23386445 0.36058492 0.39525766 0.21095208 0.         0.36824677\n",
            "  0.41739257 0.30865366 0.19670923 0.63833521 0.49805045 0.53689333\n",
            "  0.3509551  0.58582389 0.31927186 0.57200407 0.3112472  0.08736256\n",
            "  0.40124133 0.08638642 0.17129706 0.20113046 0.31191576 0.4780943\n",
            "  0.37204684 0.50733919 0.23653087 0.37855868 0.27711698 0.3522473\n",
            "  0.14759398 0.27890775 0.55270221 0.8413807  0.38602122 0.23396968\n",
            "  0.11541427 0.67798479 0.18468941 0.55741932 0.34647585 0.52448119\n",
            "  0.75179663 0.80715206 0.44203718 0.43495966 0.16817173 0.30722249\n",
            "  0.73818494 0.6743719  0.25788339 0.14307852 0.49436114 0.39024834\n",
            "  0.53299877 0.32856896 0.47344144 0.25977383 0.36938913 0.24440248\n",
            "  0.6067283  0.622525   0.24840358 0.23253339 0.69075038 0.74683331\n",
            "  0.17371251 0.64198897 0.36475884 0.64350536 0.13870882 0.42376753\n",
            "  0.33080877 0.50144951 0.3314789  0.4303031  0.28732165 0.41042225\n",
            "  0.53171063 0.44784901 0.16373609 0.14575709 0.54220928 0.38264754\n",
            "  0.44868215 0.78571516 0.14126377 0.73782073]\n",
            " [0.64134713 0.19978888 0.51235341 0.52797572 0.42523552 0.26829227\n",
            "  0.43631694 0.31062546 0.45762262 0.72590045 0.48465063 0.63070732\n",
            "  0.19997252 0.72680106 0.56780314 0.57915097 0.36824677 0.\n",
            "  0.36597609 0.25813231 0.40767988 1.00382482 0.47579804 0.84171643\n",
            "  0.09655204 0.95067076 0.61102112 0.93793709 0.40762682 0.40430214\n",
            "  0.22493495 0.43178249 0.20180044 0.44336716 0.55754845 0.53360225\n",
            "  0.73713678 0.55537001 0.3005027  0.3074797  0.64422069 0.27936068\n",
            "  0.30077072 0.60218122 0.89842783 0.9467649  0.65396591 0.17512332\n",
            "  0.25318693 1.00069812 0.20119499 0.77735242 0.68944284 0.85940684\n",
            "  1.02701053 1.15705046 0.46850915 0.76380684 0.23168449 0.67545548\n",
            "  1.04401449 0.71723738 0.12221651 0.49378601 0.79820007 0.31289453\n",
            "  0.65947179 0.64243804 0.68280122 0.61443254 0.72910317 0.57113353\n",
            "  0.69753983 0.72514208 0.61100116 0.42349787 0.95384691 1.01000564\n",
            "  0.5419572  0.96223136 0.73300543 0.66231854 0.36806989 0.36419895\n",
            "  0.25574749 0.62112345 0.4274453  0.24152885 0.12868242 0.77764058\n",
            "  0.66168908 0.8086036  0.22459877 0.24469557 0.87988163 0.7367837\n",
            "  0.79661922 0.90692744 0.39450739 1.02960278]\n",
            " [0.31371834 0.45463029 0.55020448 0.53330907 0.13442789 0.10160176\n",
            "  0.19028662 0.24077105 0.34805602 0.66833626 0.14431693 0.5261847\n",
            "  0.23075465 0.71503579 0.28487147 0.56859098 0.41739257 0.36597609\n",
            "  0.         0.12989578 0.27054408 0.90336341 0.11054899 0.62601109\n",
            "  0.26959133 0.85075273 0.43101951 0.84598189 0.1552437  0.37172795\n",
            "  0.15318789 0.40807903 0.37875525 0.30265188 0.34812387 0.17995222\n",
            "  0.73082596 0.1960453  0.54431537 0.05947769 0.63653265 0.09116007\n",
            "  0.27013285 0.69282334 0.74273206 0.58519452 0.43313602 0.43083512\n",
            "  0.37102432 0.79196322 0.40491478 0.48488309 0.56217105 0.68710995\n",
            "  0.75705796 0.9887317  0.11387587 0.84075385 0.42844703 0.6465491\n",
            "  0.80756849 0.35137089 0.29893776 0.4442434  0.58798276 0.05308346\n",
            "  0.32175479 0.48064675 0.39842951 0.65412077 0.63494414 0.45156445\n",
            "  0.34076003 0.3705332  0.55107609 0.2503551  0.67831219 0.72976324\n",
            "  0.53540139 0.75346992 0.69414029 0.29663873 0.29605918 0.00915079\n",
            "  0.11894732 0.28554415 0.15514443 0.15500946 0.43106514 0.71328421\n",
            "  0.3255823  0.8144473  0.29460171 0.29962162 0.70999394 0.76746339\n",
            "  0.83782699 0.55012847 0.31225772 0.77723129]\n",
            " [0.38443922 0.32488702 0.45271979 0.44415535 0.16874758 0.08583999\n",
            "  0.19157199 0.14286643 0.28690045 0.60535003 0.27246373 0.4755425\n",
            "  0.10098417 0.63813679 0.3197623  0.48603035 0.30865366 0.25813231\n",
            "  0.12989578 0.         0.21268865 0.86161045 0.23674229 0.62994016\n",
            "  0.16775569 0.80787404 0.41012984 0.79997982 0.15755704 0.2824001\n",
            "  0.11137605 0.31939956 0.24926713 0.25126027 0.33845369 0.27739233\n",
            "  0.6526627  0.30090361 0.41478255 0.07568546 0.5558354  0.04483623\n",
            "  0.16396729 0.58755898 0.7206259  0.69094388 0.43420801 0.30140641\n",
            "  0.24580229 0.79531859 0.27513649 0.53108614 0.52260118 0.67125731\n",
            "  0.79250845 0.97596084 0.21423155 0.74203875 0.29926601 0.57301562\n",
            "  0.82514755 0.46863753 0.17244868 0.36751142 0.58820898 0.08678396\n",
            "  0.40157159 0.45320377 0.43758185 0.56028835 0.58448289 0.40325963\n",
            "  0.4407272  0.46770902 0.48440489 0.20981794 0.71623725 0.77103459\n",
            "  0.44997629 0.75625219 0.62547374 0.41848301 0.21130971 0.13267993\n",
            "  0.02320915 0.36324012 0.17440328 0.13619665 0.30496682 0.65405916\n",
            "  0.40392272 0.73461152 0.16829659 0.17637012 0.69354221 0.679327\n",
            "  0.74832652 0.64949288 0.23447496 0.80298657]\n",
            " [0.30805852 0.36175646 0.29440364 0.26947797 0.16619689 0.29176398\n",
            "  0.11323662 0.09706081 0.07798589 0.39997763 0.39503721 0.26395123\n",
            "  0.20986361 0.4445562  0.20355682 0.30007654 0.19670923 0.40767988\n",
            "  0.27054408 0.21268865 0.         0.64934356 0.32451899 0.43479963\n",
            "  0.34396131 0.59569525 0.20567909 0.58833832 0.12868149 0.11980459\n",
            "  0.3240647  0.15041131 0.27579978 0.03894987 0.15186728 0.28625583\n",
            "  0.46043889 0.3153551  0.40892992 0.25485579 0.36687436 0.24199147\n",
            "  0.11312082 0.44297403 0.51007466 0.6472247  0.24686249 0.35102117\n",
            "  0.22896723 0.59627633 0.30261282 0.38990489 0.30992674 0.46331295\n",
            "  0.62238864 0.76716255 0.26005778 0.58003438 0.30631711 0.37600976\n",
            "  0.63645315 0.47898273 0.28707782 0.17511696 0.39150794 0.26513278\n",
            "  0.33768292 0.24374931 0.29821347 0.39152986 0.37334844 0.19081989\n",
            "  0.41006366 0.42636412 0.28114587 0.03583661 0.55176171 0.60845886\n",
            "  0.26885916 0.55744175 0.42422109 0.45137877 0.06212435 0.27893923\n",
            "  0.23447844 0.30518595 0.14446649 0.34822754 0.3866923  0.44670952\n",
            "  0.33674148 0.54414819 0.1956562  0.18024727 0.48512611 0.49982426\n",
            "  0.57045397 0.59306508 0.05624344 0.62233616]\n",
            " [0.72262644 0.85853055 0.51320703 0.48387785 0.77239409 0.94072548\n",
            "  0.7134878  0.7281779  0.57509628 0.28045776 0.9944468  0.3863008\n",
            "  0.83505898 0.31324581 0.65917203 0.43246762 0.63833521 1.00382482\n",
            "  0.90336341 0.86161045 0.64934356 0.         0.91487237 0.36784479\n",
            "  0.96952983 0.05388444 0.47520788 0.06660325 0.74814307 0.60353288\n",
            "  0.97284036 0.57296597 0.8096007  0.61143027 0.56023316 0.82528782\n",
            "  0.31282541 0.84446821 0.82127    0.90060863 0.37904271 0.8908104\n",
            "  0.72191985 0.51681594 0.19647871 0.92791197 0.49621201 0.86771917\n",
            "  0.7533648  0.3071413  0.82111214 0.5891019  0.3416817  0.25821363\n",
            "  0.50333995 0.23490452 0.844212   0.45149368 0.7997149  0.3392085\n",
            "  0.39507185 0.9284888  0.88659252 0.51200142 0.3781439  0.9099419\n",
            "  0.7492662  0.42394176 0.60093299 0.44384047 0.27871699 0.45852433\n",
            "  0.82854314 0.81775526 0.39296781 0.6586835  0.51584764 0.53673279\n",
            "  0.46721663 0.31070931 0.28360922 0.94313222 0.65823431 0.91244859\n",
            "  0.88370549 0.75038032 0.7498457  0.99750885 0.92327529 0.22938861\n",
            "  0.74361516 0.29570254 0.78371209 0.7632931  0.24002527 0.36799686\n",
            "  0.37004902 0.8678652  0.63220765 0.44460776]\n",
            " [0.2504306  0.56087995 0.61759298 0.59398744 0.15928527 0.2085687\n",
            "  0.21864771 0.32343606 0.39613388 0.70295337 0.07962054 0.55512847\n",
            "  0.33588338 0.76068656 0.26131369 0.62264822 0.49805045 0.47579804\n",
            "  0.11054899 0.23674229 0.32451899 0.91487237 0.         0.60496135\n",
            "  0.37927068 0.86411521 0.44067719 0.86213623 0.19585417 0.4390676\n",
            "  0.25754552 0.47305966 0.48192104 0.34807027 0.35570333 0.10685072\n",
            "  0.77728838 0.10818345 0.64691067 0.1700021  0.68721603 0.20118613\n",
            "  0.35548213 0.76476055 0.74050895 0.48189275 0.42405762 0.53790604\n",
            "  0.46789882 0.76699239 0.5089796  0.43285789 0.58039453 0.68101662\n",
            "  0.70586789 0.97409    0.07115508 0.90455338 0.53055093 0.69078875\n",
            "  0.7703113  0.24302585 0.40819116 0.49811317 0.57147318 0.16328748\n",
            "  0.24835539 0.49262647 0.35810497 0.71603735 0.65980815 0.48233479\n",
            "  0.24623753 0.27740614 0.59233807 0.29540312 0.62679024 0.67428409\n",
            "  0.59286833 0.72982999 0.73303913 0.18653033 0.36538031 0.11162472\n",
            "  0.22848702 0.21800284 0.18238371 0.25287529 0.54063198 0.74357518\n",
            "  0.25336981 0.86099583 0.39398555 0.39599053 0.70378278 0.82227449\n",
            "  0.89291608 0.45145367 0.37540768 0.73372447]\n",
            " [0.37759726 0.76162802 0.49368953 0.4467956  0.49267013 0.69205705\n",
            "  0.44511656 0.53150106 0.38857281 0.33524456 0.68269968 0.27165044\n",
            "  0.64464733 0.42739122 0.34556065 0.41709044 0.53689333 0.84171643\n",
            "  0.62601109 0.62994016 0.43479963 0.36784479 0.60496135 0.\n",
            "  0.77762359 0.33176944 0.23105651 0.34176866 0.48233984 0.46135094\n",
            "  0.73600923 0.45065436 0.68574002 0.39837391 0.29159216 0.50302046\n",
            "  0.44153539 0.51578958 0.77066859 0.6429456  0.42093479 0.64458789\n",
            "  0.54183455 0.59354939 0.17146989 0.56200727 0.19616244 0.75903277\n",
            "  0.62942723 0.1663996  0.70776652 0.22291837 0.21530077 0.1120744\n",
            "  0.22597225 0.36965804 0.53954188 0.63039108 0.69957109 0.38488736\n",
            "  0.20366511 0.57095039 0.72010893 0.39696923 0.04369144 0.64936729\n",
            "  0.39923175 0.20869136 0.25421135 0.50219477 0.26415231 0.29251496\n",
            "  0.47166687 0.45711522 0.33873715 0.42444217 0.18880025 0.23514297\n",
            "  0.42824986 0.12759839 0.3738336  0.59377813 0.47571672 0.63497792\n",
            "  0.6477838  0.40897153 0.47459319 0.75432899 0.80465631 0.33123278\n",
            "  0.39326188 0.49527436 0.62230097 0.60388297 0.12795182 0.51861905\n",
            "  0.56777689 0.50117922 0.45037155 0.20174682]\n",
            " [0.55211275 0.24451533 0.50196843 0.50905591 0.33649231 0.17185304\n",
            "  0.35442965 0.24968977 0.40438838 0.69734795 0.38935801 0.5874441\n",
            "  0.13644626 0.71035057 0.48502436 0.55817175 0.3509551  0.09655204\n",
            "  0.26959133 0.16775569 0.34396131 0.96952983 0.37927068 0.77762359\n",
            "  0.         0.91578056 0.54963519 0.90486199 0.32291012 0.36627121\n",
            "  0.13047883 0.39862304 0.2091572  0.38193249 0.48808745 0.43936518\n",
            "  0.72242065 0.46036237 0.34838761 0.21140694 0.62645061 0.18423524\n",
            "  0.24902783 0.61110559 0.84908038 0.85180439 0.58517505 0.21728194\n",
            "  0.24464283 0.94013998 0.22136423 0.69611773 0.64254403 0.80552296\n",
            "  0.95269782 1.1076043  0.37371103 0.77292348 0.2533607  0.65297568\n",
            "  0.97744536 0.62094048 0.0973068  0.45802163 0.73465088 0.21651135\n",
            "  0.56862338 0.58611036 0.60196167 0.60886093 0.6913559  0.5219254\n",
            "  0.60335944 0.63145452 0.57819605 0.35365394 0.87776229 0.93328078\n",
            "  0.52041132 0.9012551  0.70950806 0.56579797 0.31552392 0.26769108\n",
            "  0.16216065 0.53035124 0.3412019  0.15034941 0.19065897 0.74860677\n",
            "  0.57114055 0.79879855 0.18924898 0.20911057 0.82688434 0.73220924\n",
            "  0.79630222 0.8130807  0.34237937 0.95927795]\n",
            " [0.67668433 0.80735096 0.46330258 0.43255388 0.72027393 0.88717885\n",
            "  0.66109554 0.67429502 0.52128807 0.22905924 0.94362216 0.33248258\n",
            "  0.78122813 0.26936096 0.60994141 0.38139908 0.58582389 0.95067076\n",
            "  0.85075273 0.80787404 0.59569525 0.05388444 0.86411521 0.33176944\n",
            "  0.91578056 0.         0.42380289 0.02206651 0.69550963 0.54987411\n",
            "  0.91907845 0.51953177 0.75712072 0.55786412 0.50889923 0.77592677\n",
            "  0.2708782  0.79570705 0.77247569 0.84732908 0.33046416 0.83727649\n",
            "  0.66807554 0.4752965  0.16170463 0.89374478 0.44785843 0.81604562\n",
            "  0.70067091 0.29443768 0.76906402 0.54985759 0.28870838 0.22000054\n",
            "  0.48666725 0.26348901 0.79329495 0.42316458 0.74812191 0.28956484\n",
            "  0.38510569 0.88442397 0.83314669 0.45841184 0.33747776 0.85672817\n",
            "  0.70408343 0.37223413 0.55617835 0.39863414 0.22484125 0.40489028\n",
            "  0.78459604 0.77499678 0.33968721 0.60539439 0.49133091 0.51715598\n",
            "  0.41555468 0.2913262  0.23534528 0.89708717 0.60435043 0.85982272\n",
            "  0.83000424 0.70371125 0.69760337 0.94381349 0.87138102 0.17877653\n",
            "  0.69852396 0.26526402 0.73017733 0.70975274 0.20444838 0.33198025\n",
            "  0.34270321 0.83293847 0.57832429 0.43050326]\n",
            " [0.28529367 0.53598979 0.31928054 0.2739773  0.29814592 0.48049482\n",
            "  0.24084016 0.30148696 0.15868258 0.28085657 0.52005807 0.13608756\n",
            "  0.41516877 0.35835917 0.19482671 0.26758787 0.31927186 0.61102112\n",
            "  0.43101951 0.41012984 0.20567909 0.47520788 0.44067719 0.23105651\n",
            "  0.54963519 0.42380289 0.         0.42146318 0.27696845 0.23708264\n",
            "  0.51983207 0.23394898 0.45722836 0.1681687  0.08509941 0.35706969\n",
            "  0.37564775 0.37956405 0.55580136 0.43535486 0.30756789 0.43112315\n",
            "  0.31081432 0.45267046 0.31324649 0.58856005 0.07361565 0.53148892\n",
            "  0.40203891 0.39066598 0.48040401 0.25564514 0.14172237 0.26134194\n",
            "  0.43419981 0.56606752 0.36969841 0.54354815 0.47476985 0.2916896\n",
            "  0.43436187 0.49733795 0.48922641 0.19279277 0.18740723 0.4435395\n",
            "  0.31744993 0.05206969 0.19432176 0.37106116 0.22514643 0.09305832\n",
            "  0.40324629 0.40450364 0.20046879 0.20045847 0.37149693 0.42767687\n",
            "  0.25982764 0.35189316 0.3173767  0.49550689 0.24470409 0.4401642\n",
            "  0.42990816 0.30434472 0.27615937 0.54106816 0.57528989 0.31278475\n",
            "  0.31313957 0.45417136 0.39130843 0.37303134 0.2838044  0.43964649\n",
            "  0.505704   0.52710918 0.21957877 0.42558372]\n",
            " [0.67957223 0.79192863 0.44676188 0.41727852 0.71644989 0.88006939\n",
            "  0.65685057 0.6650481  0.51311144 0.21388758 0.94151603 0.32448984\n",
            "  0.77086616 0.24957987 0.6099227  0.36586454 0.57200407 0.93793709\n",
            "  0.84598189 0.79997982 0.58833832 0.06660325 0.86213623 0.34176866\n",
            "  0.90486199 0.02206651 0.42146318 0.         0.69078801 0.53864696\n",
            "  0.911004   0.50756547 0.74323542 0.55086983 0.50649833 0.77560435\n",
            "  0.25049124 0.7959818  0.75520417 0.84106043 0.3129592  0.8302312\n",
            "  0.65787326 0.45495624 0.17400196 0.90359793 0.44901198 0.80113608\n",
            "  0.68712038 0.31283798 0.75459576 0.55745561 0.28395305 0.2296945\n",
            "  0.50350146 0.28517628 0.7911578  0.4011217  0.73312526 0.27278088\n",
            "  0.40382644 0.88854007 0.82113144 0.44696968 0.34487718 0.85063003\n",
            "  0.70753419 0.36957464 0.56015924 0.37946488 0.21563963 0.39781005\n",
            "  0.78887678 0.78010712 0.3274247  0.59924493 0.50568802 0.53308547\n",
            "  0.40065025 0.30800692 0.2175745  0.89969766 0.5948828  0.85501835\n",
            "  0.82228003 0.7059727  0.69359129 0.93607955 0.85672248 0.16278668\n",
            "  0.70205067 0.24324596 0.71844712 0.69804527 0.21570621 0.31047274\n",
            "  0.32063801 0.84247079 0.56910153 0.44813859]\n",
            " [0.23711159 0.42380619 0.42245379 0.39813463 0.03862377 0.20980131\n",
            "  0.03729041 0.14924611 0.20145162 0.5164027  0.26763077 0.37215944\n",
            "  0.21625218 0.56840352 0.16234789 0.42744871 0.3112472  0.40762682\n",
            "  0.1552437  0.15755704 0.12868149 0.74814307 0.19585417 0.48233984\n",
            "  0.32291012 0.69550963 0.27696845 0.69078801 0.         0.24501663\n",
            "  0.25542254 0.27799003 0.33711283 0.15379175 0.19595912 0.16877315\n",
            "  0.58471153 0.19779677 0.49270008 0.16089058 0.49297747 0.16332138\n",
            "  0.18163547 0.57040634 0.58980734 0.56408086 0.28651275 0.40617248\n",
            "  0.30646097 0.64870213 0.36566188 0.37367786 0.40693778 0.53565848\n",
            "  0.6357141  0.8390975  0.13243201 0.70870738 0.37938701 0.49893389\n",
            "  0.67270548 0.36873569 0.30252558 0.30264787 0.44224634 0.16800283\n",
            "  0.25946324 0.32588204 0.28003113 0.52018372 0.48041347 0.29766553\n",
            "  0.31548587 0.33783215 0.40156252 0.10056462 0.55904445 0.61363583\n",
            "  0.39714155 0.60978137 0.5439843  0.33323662 0.17385302 0.16431444\n",
            "  0.1709211  0.22185477 0.02290895 0.27224464 0.4268077  0.56010049\n",
            "  0.26062226 0.66854495 0.24510958 0.23907413 0.55844901 0.62723705\n",
            "  0.69789882 0.5161814  0.18075805 0.64807893]\n",
            " [0.41859711 0.30032167 0.17923367 0.16282387 0.28343056 0.3680704\n",
            "  0.23296035 0.13955117 0.08608226 0.33210757 0.5055824  0.22656312\n",
            "  0.23364597 0.35633045 0.31045507 0.2036847  0.08736256 0.40430214\n",
            "  0.37172795 0.2824001  0.11980459 0.60353288 0.4390676  0.46135094\n",
            "  0.36627121 0.54987411 0.23708264 0.53864696 0.24501663 0.\n",
            "  0.38741952 0.03710529 0.22626047 0.11625738 0.22459593 0.40604594\n",
            "  0.37054753 0.43515636 0.32102152 0.34290411 0.27355532 0.32177273\n",
            "  0.12294404 0.32570935 0.4957113  0.756678   0.30107235 0.29810819\n",
            "  0.1688794  0.6095795  0.24684816 0.47034966 0.28645701 0.460734\n",
            "  0.67122545 0.75373288 0.37743384 0.46916908 0.23845484 0.2929196\n",
            "  0.66442859 0.59793809 0.2843072  0.09175972 0.4180866  0.35429152\n",
            "  0.44971453 0.25299243 0.38608364 0.28249911 0.3261267  0.17254206\n",
            "  0.5258011  0.54010376 0.21207412 0.15483424 0.60795312 0.66436241\n",
            "  0.16762448 0.57241417 0.34746894 0.57117664 0.07567213 0.37922045\n",
            "  0.30559937 0.41952656 0.26278722 0.41514667 0.34598063 0.38296624\n",
            "  0.44811582 0.45222725 0.18085021 0.1604338  0.48008456 0.39829733\n",
            "  0.46804314 0.70029379 0.06442454 0.6604612 ]\n",
            " [0.45996645 0.35833479 0.55045384 0.54649216 0.25496992 0.05235607\n",
            "  0.29204673 0.24952275 0.39790046 0.71460894 0.25975359 0.58666214\n",
            "  0.1690343  0.74369029 0.41252375 0.59065714 0.40124133 0.22493495\n",
            "  0.15318789 0.11137605 0.3240647  0.97284036 0.25754552 0.73600923\n",
            "  0.13047883 0.91907845 0.51983207 0.911004   0.25542254 0.38741952\n",
            "  0.         0.42389861 0.30156899 0.36261474 0.44558569 0.33228042\n",
            "  0.75770552 0.34922468 0.45900125 0.10394819 0.66057504 0.09213518\n",
            "  0.26525544 0.6777625  0.83131432 0.73763121 0.53985026 0.33166725\n",
            "  0.31734516 0.90203019 0.3217045  0.62146449 0.63397341 0.78116501\n",
            "  0.88892464 1.08589842 0.26569933 0.83599863 0.3513281  0.67996591\n",
            "  0.92809879 0.50055706 0.19559269 0.47521809 0.69497372 0.1037007\n",
            "  0.47124105 0.56385043 0.53033654 0.65889611 0.69542509 0.51458803\n",
            "  0.49393754 0.52362249 0.59349002 0.32014934 0.81134469 0.86487403\n",
            "  0.55385698 0.86299808 0.73344635 0.44296246 0.31954524 0.14887825\n",
            "  0.09012542 0.43398338 0.26739938 0.02924576 0.31545641 0.76381556\n",
            "  0.47464323 0.83863084 0.24333062 0.25784227 0.80357099 0.78002035\n",
            "  0.84790361 0.7032926  0.34381346 0.90315879]\n",
            " [0.43915839 0.31360503 0.14453767 0.12581551 0.31608109 0.40510749\n",
            "  0.26330053 0.17658651 0.09966006 0.29873305 0.54074814 0.2028823\n",
            "  0.26786937 0.31980211 0.33032227 0.16685686 0.08638642 0.43178249\n",
            "  0.40807903 0.31939956 0.15041131 0.57296597 0.47305966 0.45065436\n",
            "  0.39862304 0.51953177 0.23394898 0.50756547 0.27799003 0.03710529\n",
            "  0.42389861 0.         0.24585925 0.13947926 0.23493923 0.43572997\n",
            "  0.33384536 0.46465661 0.32238481 0.37993673 0.23676847 0.35887663\n",
            "  0.15888966 0.29260839 0.47313078 0.77521511 0.30237145 0.31441386\n",
            "  0.18786656 0.59356611 0.26366783 0.47736673 0.26475539 0.44165858\n",
            "  0.66556582 0.72988247 0.4101074  0.43330371 0.25113485 0.25723225\n",
            "  0.65231464 0.62460914 0.31362685 0.06235038 0.40803566 0.39130618\n",
            "  0.47094491 0.24221651 0.39697939 0.24604799 0.29733712 0.15828854\n",
            "  0.5492564  0.56202691 0.18016001 0.18396526 0.60515105 0.66107981\n",
            "  0.13057885 0.55715751 0.31244004 0.60019335 0.1121749  0.4156665\n",
            "  0.34259167 0.44240839 0.29475999 0.45176445 0.36509231 0.3499971\n",
            "  0.46896227 0.41529981 0.21093001 0.19055652 0.46012374 0.36124007\n",
            "  0.43105029 0.71769116 0.09771414 0.65146408]\n",
            " [0.56785045 0.08753077 0.31081532 0.32873358 0.36916112 0.31519323\n",
            "  0.35108795 0.19304603 0.29861975 0.52975633 0.52170102 0.44874139\n",
            "  0.14836613 0.52577983 0.47229461 0.38032116 0.17129706 0.20180044\n",
            "  0.37875525 0.24926713 0.27579978 0.8096007  0.48192104 0.68574002\n",
            "  0.2091572  0.75712072 0.45722836 0.74323542 0.33711283 0.22626047\n",
            "  0.30156899 0.24585925 0.         0.30182258 0.42412062 0.49936072\n",
            "  0.53576797 0.52681618 0.16556074 0.32430254 0.44379907 0.29197968\n",
            "  0.16559629 0.40500576 0.71898984 0.90086851 0.51362905 0.07542827\n",
            "  0.05799512 0.83582293 0.02854941 0.66569951 0.51043588 0.68642539\n",
            "  0.88950076 0.9754443  0.4455183  0.56713537 0.05057749 0.47657443\n",
            "  0.88928223 0.69939811 0.1128305  0.3077992  0.64220359 0.33482856\n",
            "  0.59348603 0.47835577 0.57375668 0.41273301 0.53971043 0.39879969\n",
            "  0.6525585  0.67476916 0.41918477 0.30422932 0.82223097 0.87901514\n",
            "  0.34377283 0.79857672 0.53423737 0.6557195  0.21874525 0.38190461\n",
            "  0.26429917 0.5569406  0.3600158  0.32972263 0.11973846 0.58140279\n",
            "  0.59391213 0.6068033  0.09218748 0.09952652 0.70536891 0.53532166\n",
            "  0.59612546 0.85156818 0.24036336 0.88279775]\n",
            " [0.30234289 0.38592872 0.27889437 0.24908951 0.1888127  0.32931645\n",
            "  0.13042852 0.13332515 0.04811884 0.36580818 0.42134173 0.22687819\n",
            "  0.24702606 0.41470848 0.19436022 0.27468398 0.20113046 0.44336716\n",
            "  0.30265188 0.25126027 0.03894987 0.61143027 0.34807027 0.39837391\n",
            "  0.38193249 0.55786412 0.1681687  0.55086983 0.15379175 0.11625738\n",
            "  0.36261474 0.13947926 0.30182258 0.         0.1223114  0.29913824\n",
            "  0.43096236 0.32767534 0.42513374 0.29082011 0.33935958 0.27942486\n",
            "  0.1447995  0.42814864 0.471131   0.64062931 0.21388367 0.37724223\n",
            "  0.25134731 0.55879947 0.32755048 0.36640031 0.27139194 0.42459147\n",
            "  0.59038875 0.7282985  0.28077493 0.55888175 0.32809214 0.34539136\n",
            "  0.60077048 0.48525981 0.32198583 0.15074959 0.35490495 0.30077336\n",
            "  0.33348414 0.20497513 0.27738448 0.37046838 0.33637611 0.1530667\n",
            "  0.4102904  0.42401355 0.24870598 0.05326629 0.52127585 0.57806293\n",
            "  0.24605139 0.52005424 0.39164235 0.46230385 0.08307739 0.31129722\n",
            "  0.27284247 0.30369737 0.16572388 0.38647284 0.41598789 0.41152419\n",
            "  0.33186087 0.51479652 0.22696658 0.21007123 0.44634357 0.47420998\n",
            "  0.54484746 0.58463065 0.06423373 0.58823339]\n",
            " [0.22098864 0.50810708 0.35086383 0.31030389 0.21433911 0.40347123\n",
            "  0.1590057  0.24796775 0.13855301 0.35736904 0.43502425 0.20853835\n",
            "  0.35802387 0.42813943 0.1186402  0.31694414 0.31191576 0.55754845\n",
            "  0.34812387 0.33845369 0.15186728 0.56023316 0.35570333 0.29159216\n",
            "  0.48808745 0.50889923 0.08509941 0.50649833 0.19595912 0.22459593\n",
            "  0.44558569 0.23493923 0.42412062 0.1223114  0.         0.27457162\n",
            "  0.44541317 0.29834067 0.54340631 0.35631499 0.36789685 0.3549694\n",
            "  0.2647021  0.49462518 0.39461656 0.54597993 0.09708767 0.49954439\n",
            "  0.37335301 0.45688878 0.44984065 0.24634128 0.225263   0.33973643\n",
            "  0.4706279  0.64322773 0.28467223 0.60231069 0.44976312 0.35909879\n",
            "  0.48941627 0.4275875  0.4380762  0.21459031 0.24976251 0.36383205\n",
            "  0.25391775 0.13693377 0.16211593 0.4209978  0.30682918 0.14466479\n",
            "  0.33848865 0.34461602 0.26200166 0.13463978 0.39997886 0.45670923\n",
            "  0.30014278 0.41782433 0.39168058 0.4197699  0.20538031 0.35727393\n",
            "  0.35668077 0.23420846 0.19297964 0.46511613 0.5376252  0.3931337\n",
            "  0.2505492  0.52657268 0.34729611 0.33125552 0.36254877 0.50375649\n",
            "  0.57214314 0.48674738 0.18528563 0.4722201 ]\n",
            " [0.14390163 0.58421367 0.57783037 0.5477217  0.13211543 0.2800423\n",
            "  0.17312867 0.31721147 0.34602381 0.63092519 0.18061108 0.48177648\n",
            "  0.36449672 0.69677911 0.16612483 0.56905265 0.4780943  0.53360225\n",
            "  0.17995222 0.27739233 0.28625583 0.82528782 0.10685072 0.50302046\n",
            "  0.43936518 0.77592677 0.35706969 0.77560435 0.16877315 0.40604594\n",
            "  0.33228042 0.43572997 0.49936072 0.29913824 0.27457162 0.\n",
            "  0.71383977 0.02924692 0.6589067  0.23096186 0.62904123 0.25527104\n",
            "  0.34987623 0.72706243 0.64511552 0.41358905 0.32975682 0.56432918\n",
            "  0.47331514 0.66315481 0.52772037 0.32600726 0.49875885 0.5843273\n",
            "  0.59909002 0.87266809 0.06663781 0.85594863 0.54411236 0.62682425\n",
            "  0.664108   0.20073048 0.44661676 0.44827429 0.47142611 0.22899904\n",
            "  0.1448636  0.40893007 0.25287189 0.668242   0.5812789  0.41268214\n",
            "  0.16400197 0.19237402 0.52795063 0.25179938 0.51999405 0.56780953\n",
            "  0.54338499 0.62647233 0.6639216  0.16548464 0.33951794 0.18571115\n",
            "  0.27785576 0.11199516 0.14718374 0.33487539 0.57742312 0.66768814\n",
            "  0.14938578 0.79654827 0.4073728  0.40395403 0.60685697 0.76576285\n",
            "  0.83579828 0.37375151 0.34199424 0.62698928]\n",
            " [0.66063159 0.56930682 0.22499958 0.21363454 0.61878172 0.73807955\n",
            "  0.55867898 0.50984398 0.38377413 0.10751972 0.8520021  0.23964021\n",
            "  0.59832939 0.01731368 0.56393823 0.16705679 0.37204684 0.73713678\n",
            "  0.73082596 0.6526627  0.46043889 0.31282541 0.77728838 0.44153539\n",
            "  0.72242065 0.2708782  0.37564775 0.25049124 0.58471153 0.37054753\n",
            "  0.75770552 0.33384536 0.53576797 0.43096236 0.44541317 0.71383977\n",
            "  0.         0.73983052 0.51827377 0.70968043 0.09716265 0.69084747\n",
            "  0.49251216 0.20446584 0.3366991  0.9531362  0.43699597 0.5828539\n",
            "  0.48472059 0.49866776 0.54129611 0.60216467 0.25375879 0.35462963\n",
            "  0.65661084 0.53211895 0.70804257 0.18891629 0.51542352 0.08702277\n",
            "  0.58574579 0.87162654 0.62991492 0.28736164 0.41869265 0.72071631\n",
            "  0.69297187 0.33240795 0.56432582 0.13444689 0.17959561 0.30189127\n",
            "  0.7787582  0.77999175 0.18596371 0.48422834 0.63021512 0.67365368\n",
            "  0.20415637 0.477204   0.06785132 0.8650519  0.44216993 0.73910399\n",
            "  0.67587171 0.6779931  0.5953409  0.78560982 0.63972538 0.1184339\n",
            "  0.68873474 0.08383433 0.53360989 0.51431284 0.35726878 0.0774327\n",
            "  0.13217549 0.89068175 0.42143949 0.61432723]\n",
            " [0.14651886 0.61124099 0.60649023 0.57595864 0.16080797 0.29740084\n",
            "  0.20228909 0.34591913 0.37432909 0.65546529 0.17400978 0.50637654\n",
            "  0.39032488 0.72271758 0.18616641 0.59656417 0.50733919 0.55537001\n",
            "  0.1960453  0.30090361 0.3153551  0.84446821 0.10818345 0.51578958\n",
            "  0.46036237 0.79570705 0.37956405 0.7959818  0.19779677 0.43515636\n",
            "  0.34922468 0.46465661 0.52681618 0.32767534 0.29834067 0.02924692\n",
            "  0.73983052 0.         0.68702568 0.25009981 0.65591293 0.27616375\n",
            "  0.37863143 0.75574027 0.66194005 0.3914551  0.34828283 0.59099285\n",
            "  0.50166957 0.67367591 0.55510711 0.3299141  0.52125367 0.60057206\n",
            "  0.60129211 0.88525971 0.0869418  0.88370238 0.57197849 0.65285374\n",
            "  0.67080887 0.17265998 0.47145332 0.47636309 0.48582116 0.24705924\n",
            "  0.14081313 0.43114109 0.26297139 0.69621719 0.60440503 0.43824324\n",
            "  0.14471473 0.17465794 0.55409434 0.28078163 0.52244932 0.56855197\n",
            "  0.57134939 0.6375872  0.68898881 0.13624668 0.36876474 0.20083416\n",
            "  0.2998943  0.11333687 0.17634195 0.34972046 0.60282383 0.69130284\n",
            "  0.14604131 0.82228211 0.43497779 0.43199189 0.62291557 0.79269444\n",
            "  0.86258927 0.35425899 0.37115173 0.63177622]\n",
            " [0.7142685  0.10408036 0.31032194 0.34747946 0.52718727 0.4779703\n",
            "  0.50124041 0.34383095 0.40624383 0.54553531 0.68715423 0.50794189\n",
            "  0.31382314 0.51318268 0.61229144 0.39529667 0.23653087 0.3005027\n",
            "  0.54431537 0.41478255 0.40892992 0.82127    0.64691067 0.77066859\n",
            "  0.34838761 0.77247569 0.55580136 0.75520417 0.49270008 0.32102152\n",
            "  0.45900125 0.32238481 0.16556074 0.42513374 0.54340631 0.6589067\n",
            "  0.51827377 0.68702568 0.         0.48963177 0.44225178 0.45719617\n",
            "  0.31227577 0.34009584 0.76884823 1.05181054 0.62191851 0.13122337\n",
            "  0.18632251 0.90502474 0.14011957 0.78974257 0.57084607 0.74844382\n",
            "  0.98784437 1.014472   0.60793806 0.49281053 0.11637199 0.48299079\n",
            "  0.9698818  0.85960227 0.26348949 0.37373075 0.72874494 0.50003101\n",
            "  0.742117   0.56347316 0.70241653 0.38403045 0.57612558 0.47868083\n",
            "  0.80687521 0.82711903 0.45764666 0.44217032 0.92728024 0.98334162\n",
            "  0.36644476 0.87042002 0.53767278 0.81817845 0.34696266 0.54744383\n",
            "  0.42936025 0.7070784  0.51546351 0.48579714 0.17210926 0.59403702\n",
            "  0.74187316 0.57332844 0.25368686 0.25505499 0.76423798 0.49391668\n",
            "  0.54166827 0.99976717 0.36098484 0.97221746]\n",
            " [0.3560384  0.39773354 0.51823405 0.50572767 0.15392138 0.05241706\n",
            "  0.19817912 0.20548251 0.33257935 0.65460393 0.19763767 0.51763906\n",
            "  0.17596137 0.69449343 0.31156176 0.544598   0.37855868 0.3074797\n",
            "  0.05947769 0.07568546 0.25485579 0.90060863 0.1700021  0.6429456\n",
            "  0.21140694 0.84732908 0.43535486 0.84106043 0.16089058 0.34290411\n",
            "  0.10394819 0.37993673 0.32430254 0.29082011 0.35631499 0.23096186\n",
            "  0.70968043 0.25009981 0.48963177 0.         0.61377771 0.03268339\n",
            "  0.23138899 0.65680674 0.74859692 0.64111577 0.44732942 0.37342938\n",
            "  0.32128021 0.80934161 0.34968561 0.51883316 0.55908111 0.69557491\n",
            "  0.78788938 0.99951655 0.16442743 0.80875801 0.37450384 0.62748232\n",
            "  0.83110921 0.4098178  0.24022343 0.4224136  0.60307978 0.01169024\n",
            "  0.36776039 0.48251723 0.42869603 0.62447555 0.62712717 0.44348598\n",
            "  0.39423985 0.42322343 0.53496511 0.24193505 0.7098811  0.76287553\n",
            "  0.50977207 0.77046476 0.67769174 0.35583602 0.2683825  0.05980415\n",
            "  0.06082778 0.33031222 0.16905538 0.11428294 0.37203376 0.70156507\n",
            "  0.37105156 0.79264431 0.24386877 0.25124646 0.71828834 0.74117344\n",
            "  0.81093953 0.60410079 0.28824154 0.80411789]\n",
            " [0.5876283  0.48338678 0.13591014 0.11742679 0.52808329 0.64135906\n",
            "  0.46875347 0.41297755 0.29152639 0.10876791 0.76060811 0.17524875\n",
            "  0.50137294 0.08397254 0.48613012 0.06992085 0.27711698 0.64422069\n",
            "  0.63653265 0.5558354  0.36687436 0.37904271 0.68721603 0.42093479\n",
            "  0.62645061 0.33046416 0.30756789 0.3129592  0.49297747 0.27355532\n",
            "  0.66057504 0.23676847 0.44379907 0.33935958 0.36789685 0.62904123\n",
            "  0.09716265 0.65591293 0.44225178 0.61377771 0.         0.59438873\n",
            "  0.39536247 0.17421969 0.35332742 0.89497595 0.37564975 0.49495803\n",
            "  0.39113494 0.50918354 0.45124893 0.55110171 0.21080421 0.35403544\n",
            "  0.64498114 0.57977247 0.61895646 0.23603443 0.42697786 0.04345069\n",
            "  0.59000721 0.79537934 0.53483121 0.1922948  0.39033664 0.62490237\n",
            "  0.62042851 0.27201512 0.50137558 0.08281997 0.16342189 0.22343635\n",
            "  0.70572505 0.70972862 0.10725945 0.39244635 0.60767193 0.65604113\n",
            "  0.1070424  0.48173481 0.09543395 0.7845038  0.34577605 0.64467434\n",
            "  0.57904345 0.60210526 0.50484645 0.68851653 0.55150324 0.15301489\n",
            "  0.61663921 0.17894443 0.43737655 0.41790551 0.36270861 0.13680589\n",
            "  0.20678655 0.83308818 0.32570857 0.61013484]\n",
            " [0.3739955  0.36505137 0.49464789 0.48431076 0.16404301 0.04994355\n",
            "  0.20006282 0.18266312 0.31861896 0.63965265 0.23023447 0.50593172\n",
            "  0.14374245 0.67599381 0.32103477 0.52481497 0.3522473  0.27936068\n",
            "  0.09116007 0.04483623 0.24199147 0.8908104  0.20118613 0.64458789\n",
            "  0.18423524 0.83727649 0.43112315 0.8302312  0.16332138 0.32177273\n",
            "  0.09213518 0.35887663 0.29197968 0.27942486 0.3549694  0.25527104\n",
            "  0.69084747 0.27616375 0.45719617 0.03268339 0.59438873 0.\n",
            "  0.2062491  0.63104532 0.74376275 0.6676188  0.44844419 0.340756\n",
            "  0.29044571 0.81076438 0.31719029 0.53083546 0.55007545 0.69231875\n",
            "  0.797201   0.99688901 0.1894763  0.78459461 0.34227001 0.60989715\n",
            "  0.83602487 0.43905398 0.20785603 0.40431143 0.60384023 0.04284898\n",
            "  0.38788703 0.47660503 0.43904552 0.60171228 0.61533967 0.43247538\n",
            "  0.419219   0.44754026 0.51921971 0.23341488 0.71981451 0.77361687\n",
            "  0.48930518 0.77176183 0.66128912 0.38618273 0.24867765 0.09223389\n",
            "  0.02814646 0.34993893 0.17546157 0.11017306 0.33990638 0.68751805\n",
            "  0.3908249  0.77332622 0.21287936 0.2212043  0.71487024 0.71977438\n",
            "  0.78914469 0.62902202 0.2702377  0.81104878]\n",
            " [0.40418576 0.25285014 0.28875349 0.28150716 0.21782346 0.24961931\n",
            "  0.18912478 0.03282873 0.15733345 0.45415392 0.41193866 0.33847611\n",
            "  0.11323527 0.47863272 0.30679752 0.32545541 0.14759398 0.30077072\n",
            "  0.27013285 0.16396729 0.11312082 0.72191985 0.35548213 0.54183455\n",
            "  0.24902783 0.66807554 0.31081432 0.65787326 0.18163547 0.12294404\n",
            "  0.26525544 0.15888966 0.16559629 0.1447995  0.2647021  0.34987623\n",
            "  0.49251216 0.37863143 0.31227577 0.23138899 0.39536247 0.2062491\n",
            "  0.         0.42541783 0.60115689 0.74009955 0.3584717  0.23995701\n",
            "  0.12615815 0.6999416  0.19339675 0.50179812 0.39374577 0.55972165\n",
            "  0.73474405 0.85992162 0.30506426 0.5783602  0.2017915  0.41583375\n",
            "  0.74483253 0.55027379 0.1786511  0.21326208 0.4982098  0.24306647\n",
            "  0.43097553 0.34181208 0.40906865 0.39639715 0.44330286 0.2734429\n",
            "  0.49461504 0.51496094 0.3334137  0.13898699 0.66468089 0.72140894\n",
            "  0.28860155 0.66151038 0.47036552 0.51280188 0.06756517 0.27634152\n",
            "  0.18683343 0.39532897 0.20410866 0.29338151 0.27368095 0.50459481\n",
            "  0.43103349 0.57339488 0.08259453 0.0675121  0.58058392 0.51601834\n",
            "  0.58469707 0.68910269 0.09433604 0.73301449]\n",
            " [0.71398253 0.41262358 0.14925667 0.18453878 0.60861952 0.67177284\n",
            "  0.55552061 0.45258282 0.38236156 0.27716662 0.83017572 0.33429614\n",
            "  0.50888182 0.2067605  0.60652811 0.18621239 0.27890775 0.60218122\n",
            "  0.69282334 0.58755898 0.44297403 0.51681594 0.76476055 0.59354939\n",
            "  0.61110559 0.4752965  0.45267046 0.45495624 0.57040634 0.32570935\n",
            "  0.6777625  0.29260839 0.40500576 0.42814864 0.49462518 0.72706243\n",
            "  0.20446584 0.75574027 0.34009584 0.65680674 0.17421969 0.63104532\n",
            "  0.42541783 0.         0.52390631 1.03826325 0.52532554 0.43206137\n",
            "  0.36729944 0.68205033 0.40115602 0.70627318 0.38017874 0.5279527\n",
            "  0.81844552 0.73553828 0.70266288 0.16212981 0.37053202 0.21488784\n",
            "  0.76392617 0.91094708 0.51386959 0.28345985 0.56113815 0.66848344\n",
            "  0.74677257 0.42747206 0.64511568 0.09160548 0.33747218 0.36035281\n",
            "  0.82931152 0.83813844 0.2619479  0.47593927 0.77872385 0.82828868\n",
            "  0.1948522  0.65545588 0.25066021 0.89038972 0.3998679  0.69969155\n",
            "  0.60969743 0.72260317 0.58736787 0.70697808 0.48764145 0.31139594\n",
            "  0.7438668  0.23950661 0.43532938 0.41994715 0.53591648 0.15857426\n",
            "  0.20159285 0.97768407 0.38968489 0.78431817]\n",
            " [0.53315759 0.78291086 0.46384747 0.4223131  0.60872533 0.79333778\n",
            "  0.55325952 0.59987763 0.44469234 0.24675727 0.81992953 0.27024848\n",
            "  0.71264851 0.32703436 0.48006594 0.37823846 0.55270221 0.89842783\n",
            "  0.74273206 0.7206259  0.51007466 0.19647871 0.74050895 0.17146989\n",
            "  0.84908038 0.16170463 0.31324649 0.17400196 0.58980734 0.4957113\n",
            "  0.83131432 0.47313078 0.71898984 0.471131   0.39461656 0.64511552\n",
            "  0.3366991  0.66194005 0.76884823 0.74859692 0.35332742 0.74376275\n",
            "  0.60115689 0.52390631 0.         0.7327295  0.31647682 0.78630115\n",
            "  0.66099728 0.16215832 0.73612485 0.39281596 0.2092664  0.06289303\n",
            "  0.33686829 0.25880125 0.67130722 0.51930057 0.72084461 0.310443\n",
            "  0.25097932 0.7353005  0.77683561 0.41135802 0.18337608 0.75677273\n",
            "  0.55822307 0.26746456 0.40989503 0.43482213 0.19511454 0.32781971\n",
            "  0.6353966  0.62330185 0.3112145  0.51117892 0.33254082 0.36306112\n",
            "  0.40307163 0.14467535 0.27596151 0.75305339 0.53389107 0.75188141\n",
            "  0.74119427 0.56237789 0.58759149 0.85339172 0.83807246 0.21836715\n",
            "  0.55243495 0.36812969 0.67382952 0.65376525 0.04355025 0.41215765\n",
            "  0.44624578 0.67224945 0.50700707 0.28625094]\n",
            " [0.33919711 0.98781988 0.8966895  0.85505423 0.5345718  0.68672858\n",
            "  0.55102346 0.70953423 0.67556233 0.84876971 0.50922758 0.7202149\n",
            "  0.77487517 0.93633949 0.44626951 0.85534449 0.8413807  0.9467649\n",
            "  0.58519452 0.69094388 0.6472247  0.92791197 0.48189275 0.56200727\n",
            "  0.85180439 0.89374478 0.58856005 0.90359793 0.56408086 0.756678\n",
            "  0.73763121 0.77521511 0.90086851 0.64062931 0.54597993 0.41358905\n",
            "  0.9531362  0.3914551  1.05181054 0.64111577 0.89497595 0.6676188\n",
            "  0.74009955 1.03826325 0.7327295  0.         0.51937467 0.97017055\n",
            "  0.86621633 0.65355273 0.92940589 0.35386812 0.69972063 0.67399682\n",
            "  0.48461134 0.86472901 0.47825783 1.1301019  0.94145707 0.87455046\n",
            "  0.59901768 0.24519589 0.85877173 0.76057021 0.56158809 0.63740073\n",
            "  0.30995751 0.62369803 0.39426626 0.95932807 0.77982183 0.67880968\n",
            "  0.25074725 0.22628971 0.78851139 0.61224292 0.43247083 0.44129517\n",
            "  0.84347188 0.63261637 0.88852991 0.30783187 0.70893609 0.58886555\n",
            "  0.69112175 0.34478565 0.54124664 0.73467446 0.98800958 0.86433282\n",
            "  0.3105803  1.02406546 0.80908426 0.80202732 0.68948498 1.02298478\n",
            "  1.08529249 0.06256681 0.70072453 0.54238907]\n",
            " [0.23382526 0.59540509 0.39289607 0.34753834 0.29889775 0.49606009\n",
            "  0.24923774 0.34371905 0.21754288 0.33657348 0.50345415 0.20089154\n",
            "  0.45474917 0.41989302 0.16390624 0.33963742 0.38602122 0.65396591\n",
            "  0.43313602 0.43420801 0.24686249 0.49621201 0.42405762 0.19616244\n",
            "  0.58517505 0.44785843 0.07361565 0.44901198 0.28651275 0.30107235\n",
            "  0.53985026 0.30237145 0.51362905 0.21388367 0.09708767 0.32975682\n",
            "  0.43699597 0.34828283 0.62191851 0.44732942 0.37564975 0.44844419\n",
            "  0.3584717  0.52532554 0.31647682 0.51937467 0.         0.58877645\n",
            "  0.46051382 0.36234388 0.53826066 0.18204298 0.1886051  0.25722012\n",
            "  0.37655602 0.55578118 0.35515798 0.61079325 0.53537505 0.35593602\n",
            "  0.39236098 0.44633172 0.53388558 0.26522176 0.15575214 0.45404465\n",
            "  0.26407262 0.10482164 0.12733015 0.44234749 0.27326646 0.1665956\n",
            "  0.34882875 0.34611853 0.26958805 0.23166817 0.30875979 0.36550664\n",
            "  0.33319573 0.323368   0.37510239 0.45198592 0.29597914 0.44220694\n",
            "  0.45176315 0.25801383 0.27978437 0.55825278 0.62941617 0.36155735\n",
            "  0.25908931 0.51229871 0.44081933 0.42391053 0.28006521 0.50452191\n",
            "  0.56858103 0.4574393  0.27327436 0.3756418 ]\n",
            " [0.63963464 0.02723874 0.35933255 0.38394194 0.43629847 0.35531591\n",
            "  0.42259966 0.26597813 0.37310608 0.58726453 0.57039177 0.51648185\n",
            "  0.20254596 0.57440675 0.54599255 0.43553618 0.23396968 0.17512332\n",
            "  0.43083512 0.30140641 0.35102117 0.86771917 0.53790604 0.75903277\n",
            "  0.21728194 0.81604562 0.53148892 0.80113608 0.40617248 0.29810819\n",
            "  0.33166725 0.31441386 0.07542827 0.37724223 0.49954439 0.56432918\n",
            "  0.5828539  0.59099285 0.13122337 0.37342938 0.49495803 0.340756\n",
            "  0.23995701 0.43206137 0.78630115 0.97017055 0.58877645 0.\n",
            "  0.12962935 0.90713847 0.05127609 0.74091693 0.57890839 0.75607064\n",
            "  0.96437755 1.04112056 0.50748597 0.59248194 0.06809779 0.53069873\n",
            "  0.96236632 0.76290683 0.13691569 0.37524844 0.71560266 0.38298733\n",
            "  0.66443068 0.55102088 0.64874687 0.45404835 0.60289048 0.47014596\n",
            "  0.72069438 0.7438828  0.48165578 0.37889505 0.89745318 0.95422962\n",
            "  0.4005286  0.87023979 0.58810565 0.71659398 0.29416586 0.43278936\n",
            "  0.3126109  0.62741849 0.42896058 0.35752793 0.05692304 0.63846126\n",
            "  0.66509887 0.64895056 0.16223617 0.17288045 0.77447614 0.57378986\n",
            "  0.63012303 0.92209058 0.31557817 0.95689999]\n",
            " [0.52972147 0.13496588 0.26073493 0.27479896 0.34134431 0.32161561\n",
            "  0.31528043 0.15750939 0.24393057 0.47405176 0.51533742 0.39074884\n",
            "  0.15071378 0.47399485 0.43011599 0.32605283 0.11541427 0.25318693\n",
            "  0.37102432 0.24580229 0.22896723 0.7533648  0.46789882 0.62942723\n",
            "  0.24464283 0.70067091 0.40203891 0.68712038 0.30646097 0.1688794\n",
            "  0.31734516 0.18786656 0.05799512 0.25134731 0.37335301 0.47331514\n",
            "  0.48472059 0.50166957 0.18632251 0.32128021 0.39113494 0.29044571\n",
            "  0.12615815 0.36729944 0.66099728 0.86621633 0.46051382 0.12962935\n",
            "  0.         0.77840447 0.07840932 0.61737248 0.45245316 0.6285749\n",
            "  0.83539303 0.91752793 0.42434521 0.52871828 0.07735306 0.42238289\n",
            "  0.83280916 0.67404085 0.14812619 0.24984529 0.58598285 0.33253649\n",
            "  0.55690855 0.42155165 0.52680292 0.36573275 0.48228625 0.34131182\n",
            "  0.62061118 0.64111479 0.36206179 0.26007897 0.76926852 0.82599968\n",
            "  0.28900595 0.74128906 0.47998008 0.63408794 0.16894837 0.3754457\n",
            "  0.26442993 0.52143292 0.32919082 0.34643965 0.17752209 0.52577155\n",
            "  0.55686403 0.55806254 0.07760021 0.07192467 0.64744987 0.48902146\n",
            "  0.55210282 0.81493264 0.18819266 0.82733261]\n",
            " [0.53082803 0.90716969 0.60910958 0.56472224 0.65890286 0.85837522\n",
            "  0.61146386 0.69207383 0.54379358 0.4055208  0.84365166 0.39711275\n",
            "  0.80582276 0.48862706 0.50993374 0.52539574 0.67798479 1.00069812\n",
            "  0.79196322 0.79531859 0.59627633 0.3071413  0.76699239 0.1663996\n",
            "  0.94013998 0.29443768 0.39066598 0.31283798 0.64870213 0.6095795\n",
            "  0.90203019 0.59356611 0.83582293 0.55879947 0.45688878 0.66315481\n",
            "  0.49866776 0.67367591 0.90502474 0.80934161 0.50918354 0.81076438\n",
            "  0.6999416  0.68205033 0.16215832 0.65355273 0.36234388 0.90713847\n",
            "  0.77840447 0.         0.85600527 0.35771776 0.33418714 0.15816704\n",
            "  0.19688172 0.21871065 0.70313906 0.68125799 0.84470089 0.46729048\n",
            "  0.09131563 0.70882709 0.87858646 0.53501169 0.20713506 0.81576293\n",
            "  0.54846851 0.3591079  0.41076673 0.59169335 0.34655069 0.43709567\n",
            "  0.61253544 0.59336763 0.45205399 0.58829565 0.22265693 0.23279224\n",
            "  0.54538742 0.03906665 0.43684352 0.73926883 0.63282697 0.80089669\n",
            "  0.81350349 0.56340386 0.6409669  0.92059597 0.95550742 0.38024969\n",
            "  0.54242712 0.528806   0.77857928 0.75947946 0.14658593 0.57430726\n",
            "  0.60736512 0.59791438 0.60668456 0.13746656]\n",
            " [0.59620558 0.05945557 0.31655234 0.33812401 0.39765215 0.33825181\n",
            "  0.37951763 0.22132461 0.32215106 0.54075232 0.54728808 0.46609202\n",
            "  0.17416982 0.53206155 0.50019164 0.38983201 0.18468941 0.20119499\n",
            "  0.40491478 0.27513649 0.30261282 0.82111214 0.5089796  0.70776652\n",
            "  0.22136423 0.76906402 0.48040401 0.75459576 0.36566188 0.24684816\n",
            "  0.3217045  0.26366783 0.02854941 0.32755048 0.44984065 0.52772037\n",
            "  0.54129611 0.55510711 0.14011957 0.34968561 0.45124893 0.31719029\n",
            "  0.19339675 0.40115602 0.73612485 0.92940589 0.53826066 0.05127609\n",
            "  0.07840932 0.85600527 0.         0.69236787 0.52834364 0.70525227\n",
            "  0.91355282 0.99152831 0.47352255 0.56298619 0.03214856 0.48564676\n",
            "  0.911091   0.7276524  0.12832492 0.32484233 0.66434437 0.36000647\n",
            "  0.62193935 0.49974622 0.60077589 0.41523812 0.5540686  0.41896661\n",
            "  0.68110441 0.70331434 0.43300404 0.33166765 0.84700384 0.90376319\n",
            "  0.35407407 0.81905559 0.54324298 0.68364833 0.24456364 0.40780661\n",
            "  0.28930128 0.58543477 0.3885646  0.34930291 0.10265044 0.5921922\n",
            "  0.62234084 0.61005172 0.12069873 0.12785793 0.72379157 0.53676838\n",
            "  0.595677   0.88004307 0.26528657 0.90573872]\n",
            " [0.18341289 0.75131995 0.57490214 0.5295734  0.36679734 0.57119302\n",
            "  0.34182366 0.47945462 0.38431042 0.49651009 0.50386708 0.37620076\n",
            "  0.57917152 0.58565943 0.21133897 0.52015699 0.55741932 0.77735242\n",
            "  0.48488309 0.53108614 0.38990489 0.5891019  0.43285789 0.22291837\n",
            "  0.69611773 0.54985759 0.25564514 0.55745561 0.37367786 0.47034966\n",
            "  0.62146449 0.47736673 0.66569951 0.36640031 0.24634128 0.32600726\n",
            "  0.60216467 0.3299141  0.78974257 0.51883316 0.55110171 0.53083546\n",
            "  0.50179812 0.70627318 0.39281596 0.35386812 0.18204298 0.74091693\n",
            "  0.61737248 0.35771776 0.69236787 0.         0.34845582 0.33095605\n",
            "  0.27361502 0.57574191 0.37907575 0.78322857 0.69437249 0.52667779\n",
            "  0.3426854  0.35206691 0.66421479 0.44559995 0.21258041 0.52187056\n",
            "  0.19465958 0.27997356 0.09456403 0.62160813 0.42666862 0.34863253\n",
            "  0.25486819 0.23687506 0.44743514 0.36325883 0.19447913 0.24488089\n",
            "  0.51509314 0.32563707 0.53649704 0.38175536 0.44843426 0.4928596\n",
            "  0.54295492 0.21657778 0.35710791 0.63283741 0.77494665 0.51053445\n",
            "  0.18870392 0.67105601 0.58325038 0.56930941 0.34938111 0.67405514\n",
            "  0.73424703 0.2913738  0.43042443 0.30189158]\n",
            " [0.42063866 0.57681037 0.28022242 0.23402052 0.43259453 0.60001895\n",
            "  0.37289883 0.39481336 0.239242   0.14936421 0.65941215 0.0631577\n",
            "  0.50618821 0.23720567 0.33605393 0.20182458 0.34647585 0.68944284\n",
            "  0.56217105 0.52260118 0.30992674 0.3416817  0.58039453 0.21530077\n",
            "  0.64254403 0.28870838 0.14172237 0.28395305 0.40693778 0.28645701\n",
            "  0.63397341 0.26475539 0.51043588 0.27139194 0.225263   0.49875885\n",
            "  0.25375879 0.52125367 0.57084607 0.55908111 0.21080421 0.55007545\n",
            "  0.39374577 0.38017874 0.2092664  0.69972063 0.1886051  0.57890839\n",
            "  0.45245316 0.33418714 0.52834364 0.34845582 0.         0.17827991\n",
            "  0.44126981 0.4676238  0.50925187 0.43620062 0.51444442 0.18044425\n",
            "  0.40260816 0.63354738 0.56808777 0.20373988 0.18101587 0.56832929\n",
            "  0.45170583 0.09025833 0.31465609 0.28956871 0.08499005 0.1209015\n",
            "  0.53694866 0.53472354 0.12367525 0.31725121 0.39856029 0.44869779\n",
            "  0.21501266 0.30004091 0.18887615 0.63523502 0.3270458  0.57122595\n",
            "  0.54423295 0.44241148 0.409674   0.657817   0.62982737 0.17342688\n",
            "  0.44691029 0.32527775 0.46488426 0.44474728 0.19574114 0.32602013\n",
            "  0.38590407 0.63721379 0.30022609 0.41309268]\n",
            " [0.47056812 0.75464253 0.45094341 0.40665732 0.55276014 0.74154245\n",
            "  0.4987413  0.5558342  0.40239665 0.2543951  0.76025686 0.24143187\n",
            "  0.66945813 0.34256785 0.41999272 0.3673385  0.52448119 0.85940684\n",
            "  0.68710995 0.67125731 0.46331295 0.25821363 0.68101662 0.1120744\n",
            "  0.80552296 0.22000054 0.26134194 0.2296945  0.53565848 0.460734\n",
            "  0.78116501 0.44165858 0.68642539 0.42459147 0.33973643 0.5843273\n",
            "  0.35462963 0.60057206 0.74844382 0.69557491 0.35403544 0.69231875\n",
            "  0.55972165 0.5279527  0.06289303 0.67399682 0.25722012 0.75607064\n",
            "  0.6285749  0.15816704 0.70525227 0.33095605 0.17827991 0.\n",
            "  0.30295248 0.3047383  0.61236855 0.54218197 0.69221321 0.31323719\n",
            "  0.2359833  0.67241468 0.73729244 0.38149027 0.12052811 0.70335616\n",
            "  0.4954302  0.21963444 0.34716311 0.43684077 0.19062476 0.28905071\n",
            "  0.5725069  0.56051824 0.29397395 0.46144478 0.2865545  0.32352916\n",
            "  0.3873121  0.12787702 0.28917657 0.69031163 0.49215844 0.69624507\n",
            "  0.69120742 0.50000429 0.5321903  0.80234228 0.80609604 0.23796047\n",
            "  0.48963081 0.39803804 0.6352576  0.61555207 0.02290933 0.43187829\n",
            "  0.4738364  0.61302787 0.46541797 0.25988619]\n",
            " [0.45555643 0.96983431 0.71902592 0.67197216 0.63424389 0.83991153\n",
            "  0.60093646 0.71853593 0.59146479 0.55341395 0.77515389 0.49687123\n",
            "  0.82705012 0.64383813 0.47648689 0.64306092 0.75179663 1.02701053\n",
            "  0.75705796 0.79250845 0.62238864 0.50333995 0.70586789 0.22597225\n",
            "  0.95269782 0.48666725 0.43419981 0.50350146 0.6357141  0.67122545\n",
            "  0.88892464 0.66556582 0.88950076 0.59038875 0.4706279  0.59909002\n",
            "  0.65661084 0.60129211 0.98784437 0.78788938 0.64498114 0.797201\n",
            "  0.73474405 0.81844552 0.33686829 0.48461134 0.37655602 0.96437755\n",
            "  0.83539303 0.19688172 0.91355282 0.27361502 0.44126981 0.30295248\n",
            "  0.         0.38604693 0.65261873 0.84481464 0.90886946 0.60734945\n",
            "  0.1192975  0.59035444 0.90848968 0.61607544 0.26329066 0.79175245\n",
            "  0.46218072 0.42511615 0.35933198 0.72690864 0.48464388 0.51000813\n",
            "  0.50467307 0.47899451 0.56467999 0.60362756 0.0791454  0.04332282\n",
            "  0.65361935 0.19549511 0.59011875 0.63313222 0.6724902  0.76522562\n",
            "  0.80663297 0.48835706 0.62178012 0.90217229 1.0058943  0.54081201\n",
            "  0.45652687 0.70041039 0.81721669 0.80044972 0.3044023  0.73402035\n",
            "  0.77670379 0.43572351 0.64939775 0.06201654]\n",
            " [0.74509392 1.03626828 0.70473573 0.66736862 0.85434207 1.04599273\n",
            "  0.80198181 0.85817417 0.70327216 0.4718119  1.05215466 0.52742711\n",
            "  0.97120925 0.52877872 0.71354385 0.6192519  0.80715206 1.15705046\n",
            "  0.9887317  0.97596084 0.76716255 0.23490452 0.97409    0.36965804\n",
            "  1.1076043  0.26348901 0.56606752 0.28517628 0.8390975  0.75373288\n",
            "  1.08589842 0.72988247 0.9754443  0.7282985  0.64322773 0.87266809\n",
            "  0.53211895 0.88525971 1.014472   0.99951655 0.57977247 0.99688901\n",
            "  0.85992162 0.73553828 0.25880125 0.86472901 0.55578118 1.04112056\n",
            "  0.91752793 0.21871065 0.99152831 0.57574191 0.4676238  0.3047383\n",
            "  0.38604693 0.         0.90770082 0.68487186 0.97473379 0.53669597\n",
            "  0.26737677 0.92733668 1.03556399 0.66770693 0.40295029 1.00704872\n",
            "  0.76441195 0.52350301 0.62284841 0.6544642  0.43979031 0.58662033\n",
            "  0.83059717 0.81189144 0.56074163 0.76614291 0.43255027 0.42813982\n",
            "  0.64870531 0.2503815  0.4882713  0.95666438 0.7926069  0.99782601\n",
            "  0.99594566 0.77713048 0.83450831 1.10696641 1.09390995 0.42776186\n",
            "  0.75837782 0.52764019 0.9324691  0.91235814 0.28242391 0.59542421\n",
            "  0.60370867 0.81130896 0.76572693 0.32496575]\n",
            " [0.2022105  0.52854617 0.55440915 0.52865881 0.09404681 0.21343265\n",
            "  0.1504189  0.27229302 0.32888305 0.63233248 0.15035981 0.48426463\n",
            "  0.30568203 0.69133659 0.1941743  0.55536491 0.44203718 0.46850915\n",
            "  0.11387587 0.21423155 0.26005778 0.844212   0.07115508 0.53954188\n",
            "  0.37371103 0.79329495 0.36969841 0.7911578  0.13243201 0.37743384\n",
            "  0.26569933 0.4101074  0.4455183  0.28077493 0.28467223 0.06663781\n",
            "  0.70804257 0.0869418  0.60793806 0.16442743 0.61895646 0.1894763\n",
            "  0.30506426 0.70266288 0.67130722 0.47825783 0.35515798 0.50748597\n",
            "  0.42434521 0.70313906 0.47352255 0.37907575 0.50925187 0.61236855\n",
            "  0.65261873 0.90770082 0.         0.83912225 0.49204737 0.62134763\n",
            "  0.71082094 0.25573324 0.38546924 0.43143811 0.50475613 0.16236169\n",
            "  0.20822691 0.42160589 0.29807716 0.65055203 0.58869246 0.41174278\n",
            "  0.22995658 0.25879653 0.52267964 0.22897807 0.57351538 0.62328222\n",
            "  0.52660629 0.66549113 0.66280691 0.21029274 0.30586129 0.1201161\n",
            "  0.21295958 0.17269931 0.11574321 0.26887815 0.51730128 0.6726235\n",
            "  0.21222898 0.7916372  0.35451032 0.35334075 0.63519866 0.7545963\n",
            "  0.82516805 0.43983841 0.31312733 0.67681368]\n",
            " [0.8228286  0.57205316 0.29074449 0.31058786 0.74586292 0.82718788\n",
            "  0.68917151 0.60330346 0.51101791 0.29553766 0.97382299 0.40990534\n",
            "  0.66770858 0.20312836 0.71977802 0.28758787 0.43495966 0.76380684\n",
            "  0.84075385 0.74203875 0.58003438 0.45149368 0.90455338 0.63039108\n",
            "  0.77292348 0.42316458 0.54354815 0.4011217  0.70870738 0.46916908\n",
            "  0.83599863 0.43330371 0.56713537 0.55888175 0.60231069 0.85594863\n",
            "  0.18891629 0.88370238 0.49281053 0.80875801 0.23603443 0.78459461\n",
            "  0.5783602  0.16212981 0.51930057 1.1301019  0.61079325 0.59248194\n",
            "  0.52871828 0.68125799 0.56298619 0.78322857 0.43620062 0.54218197\n",
            "  0.84481464 0.68487186 0.83912225 0.         0.53212676 0.25655284\n",
            "  0.77008415 1.0288572  0.6757536  0.40824904 0.60671956 0.82035666\n",
            "  0.85569621 0.50643075 0.73707668 0.18857993 0.36745585 0.4585975\n",
            "  0.94071498 0.94539354 0.34328485 0.61014447 0.81910921 0.86245962\n",
            "  0.3128992  0.66231265 0.25655934 1.01506304 0.54481428 0.84811519\n",
            "  0.76462248 0.83623751 0.72345487 0.8651214  0.64741002 0.30429366\n",
            "  0.85202619 0.1580208  0.59495983 0.57878941 0.54339167 0.11182965\n",
            "  0.08152653 1.06802457 0.53066    0.80115754]\n",
            " [0.60596738 0.06247526 0.29147363 0.31588982 0.41288782 0.36575054\n",
            "  0.39048895 0.23192352 0.31798707 0.51927153 0.57172671 0.45167241\n",
            "  0.19854901 0.50673906 0.50720929 0.3674632  0.16817173 0.23168449\n",
            "  0.42844703 0.29926601 0.30631711 0.7997149  0.53055093 0.69957109\n",
            "  0.2533607  0.74812191 0.47476985 0.73312526 0.37938701 0.23845484\n",
            "  0.3513281  0.25113485 0.05057749 0.32809214 0.44976312 0.54411236\n",
            "  0.51542352 0.57197849 0.11637199 0.37450384 0.42697786 0.34227001\n",
            "  0.2017915  0.37053202 0.72084461 0.94145707 0.53537505 0.06809779\n",
            "  0.07735306 0.84470089 0.03214856 0.69437249 0.51444442 0.69221321\n",
            "  0.90886946 0.97473379 0.49204737 0.53212676 0.         0.46260252\n",
            "  0.90228545 0.74463538 0.15951557 0.3107572  0.65641525 0.38511186\n",
            "  0.63268866 0.49095973 0.60405876 0.38765115 0.53590487 0.40859132\n",
            "  0.69460809 0.71586091 0.41461852 0.33731591 0.84392182 0.90057077\n",
            "  0.33257203 0.80823583 0.52001785 0.70233694 0.24607673 0.43178463\n",
            "  0.31467661 0.5968113  0.40226441 0.37924464 0.12453925 0.57042418\n",
            "  0.63279817 0.58261131 0.13755527 0.14040913 0.71018047 0.50837782\n",
            "  0.56627205 0.89085207 0.26447918 0.89891445]\n",
            " [0.57574639 0.52029868 0.17399888 0.1478411  0.5325621  0.65786537\n",
            "  0.47227436 0.43076023 0.29870056 0.06532696 0.76588975 0.15582447\n",
            "  0.52475593 0.07006197 0.47771766 0.09633532 0.30722249 0.67545548\n",
            "  0.6465491  0.57301562 0.37600976 0.3392085  0.69078875 0.38488736\n",
            "  0.65297568 0.28956484 0.2916896  0.27278088 0.49893389 0.2929196\n",
            "  0.67996591 0.25723225 0.47657443 0.34539136 0.35909879 0.62682425\n",
            "  0.08702277 0.65285374 0.48299079 0.62748232 0.04345069 0.60989715\n",
            "  0.41583375 0.21488784 0.310443   0.87455046 0.35593602 0.53069873\n",
            "  0.42238289 0.46729048 0.48564676 0.52667779 0.18044425 0.31323719\n",
            "  0.60734945 0.53669597 0.62134763 0.25655284 0.46260252 0.\n",
            "  0.549151   0.78598884 0.5633622  0.20562427 0.35642711 0.63834611\n",
            "  0.60826286 0.25115055 0.482982   0.12452745 0.12327548 0.21512716\n",
            "  0.69397548 0.69612354 0.09895325 0.39862529 0.57281015 0.61992356\n",
            "  0.13358034 0.44060042 0.05766362 0.77849011 0.36174367 0.65494657\n",
            "  0.59618353 0.59232067 0.50907423 0.70736943 0.5868808  0.11107956\n",
            "  0.60416234 0.17030185 0.46376935 0.4438711  0.32104496 0.148586\n",
            "  0.21409268 0.81231277 0.33969425 0.57082313]\n",
            " [0.52465958 0.9644911  0.68202342 0.63636121 0.67785037 0.8818117\n",
            "  0.63608703 0.7334435  0.59221762 0.48930091 0.84404328 0.46394763\n",
            "  0.84593807 0.57496554 0.52269712 0.60035277 0.73818494 1.04401449\n",
            "  0.80756849 0.82514755 0.63645315 0.39507185 0.7703113  0.20366511\n",
            "  0.97744536 0.38510569 0.43436187 0.40382644 0.67270548 0.66442859\n",
            "  0.92809879 0.65231464 0.88928223 0.60077048 0.48941627 0.664108\n",
            "  0.58574579 0.67080887 0.9698818  0.83110921 0.59000721 0.83602487\n",
            "  0.74483253 0.76392617 0.25097932 0.59901768 0.39236098 0.96236632\n",
            "  0.83280916 0.09131563 0.911091   0.3426854  0.40260816 0.2359833\n",
            "  0.1192975  0.26737677 0.71082094 0.77008415 0.90228545 0.549151\n",
            "  0.         0.68341305 0.92275163 0.59662966 0.24732486 0.83644059\n",
            "  0.53734024 0.41144497 0.41285015 0.67281814 0.4265867  0.49405852\n",
            "  0.59166883 0.5689935  0.52449686 0.62380496 0.17004124 0.16082156\n",
            "  0.61721052 0.1088729  0.52239256 0.72042728 0.67905646 0.81622448\n",
            "  0.84170785 0.55787502 0.66213894 0.94443409 1.00828657 0.46741131\n",
            "  0.5313886  0.61886486 0.82566283 0.80736943 0.22923501 0.66206306\n",
            "  0.69716616 0.54737778 0.6538739  0.05763411]\n",
            " [0.21290909 0.7835186  0.76230111 0.727729   0.33275429 0.45135944\n",
            "  0.36829193 0.51770248 0.52915551 0.77802337 0.26405243 0.63237761\n",
            "  0.56139601 0.85431405 0.30926952 0.74181182 0.6743719  0.71723738\n",
            "  0.35137089 0.46863753 0.47898273 0.9284888  0.24302585 0.57095039\n",
            "  0.62094048 0.88442397 0.49733795 0.88854007 0.36873569 0.59793809\n",
            "  0.50055706 0.62460914 0.69939811 0.48525981 0.4275875  0.20073048\n",
            "  0.87162654 0.17265998 0.85960227 0.4098178  0.79537934 0.43905398\n",
            "  0.55027379 0.91094708 0.7353005  0.24519589 0.44633172 0.76290683\n",
            "  0.67404085 0.70882709 0.7276524  0.35206691 0.63354738 0.67241468\n",
            "  0.59035444 0.92733668 0.25573324 1.0288572  0.74463538 0.78598884\n",
            "  0.68341305 0.         0.64071146 0.62787387 0.55195644 0.40443736\n",
            "  0.18230473 0.54493179 0.32838153 0.84458582 0.7185368  0.57224808\n",
            "  0.09995573 0.11546034 0.68954861 0.44337586 0.51741468 0.55070777\n",
            "  0.72069979 0.67757815 0.81470069 0.06275144 0.53578413 0.35368157\n",
            "  0.46478646 0.19366862 0.34656877 0.49488115 0.77283017 0.80697423\n",
            "  0.18743433 0.95130377 0.60761796 0.60460095 0.69287124 0.93134141\n",
            "  0.9995553  0.22789932 0.53522553 0.63466156]\n",
            " [0.53955589 0.16314726 0.40753632 0.41749956 0.32617738 0.21869098\n",
            "  0.32702575 0.19018488 0.33540662 0.61077765 0.43551816 0.51003571\n",
            "  0.08639385 0.61843437 0.45761421 0.46763514 0.25788339 0.12221651\n",
            "  0.29893776 0.17244868 0.28707782 0.88659252 0.40819116 0.72010893\n",
            "  0.0973068  0.83314669 0.48922641 0.82113144 0.30252558 0.2843072\n",
            "  0.19559269 0.31362685 0.1128305  0.32198583 0.4380762  0.44661676\n",
            "  0.62991492 0.47145332 0.26348949 0.24022343 0.53483121 0.20785603\n",
            "  0.1786511  0.51386959 0.77683561 0.85877173 0.53388558 0.13691569\n",
            "  0.14812619 0.87858646 0.12832492 0.66421479 0.56808777 0.73729244\n",
            "  0.90848968 1.03556399 0.38546924 0.6757536  0.15951557 0.5633622\n",
            "  0.92275163 0.64071146 0.         0.37496165 0.67653649 0.24906981\n",
            "  0.56076313 0.52022643 0.56978258 0.51353195 0.61022236 0.44927731\n",
            "  0.60802451 0.63355387 0.49370938 0.30516487 0.83640316 0.89283824\n",
            "  0.42997993 0.84016142 0.6204812  0.59092771 0.24586809 0.3000119\n",
            "  0.17999755 0.52266476 0.32405499 0.22232911 0.13255952 0.6623912\n",
            "  0.56230557 0.70488244 0.10351608 0.12389378 0.75784021 0.63688018\n",
            "  0.70022589 0.81459437 0.27229088 0.90941398]\n",
            " [0.43128339 0.37316464 0.13668412 0.09998369 0.33888093 0.45224683\n",
            "  0.28116731 0.22570733 0.10277906 0.24089392 0.56993288 0.14125255\n",
            "  0.32511624 0.27208127 0.32330854 0.12496618 0.14307852 0.49378601\n",
            "  0.4442434  0.36751142 0.17511696 0.51200142 0.49811317 0.39696923\n",
            "  0.45802163 0.45841184 0.19279277 0.44696968 0.30264787 0.09175972\n",
            "  0.47521809 0.06235038 0.3077992  0.15074959 0.21459031 0.44827429\n",
            "  0.28736164 0.47636309 0.37373075 0.4224136  0.1922948  0.40431143\n",
            "  0.21326208 0.28345985 0.41135802 0.76057021 0.26522176 0.37524844\n",
            "  0.24984529 0.53501169 0.32484233 0.44559995 0.20373988 0.38149027\n",
            "  0.61607544 0.66770693 0.43143811 0.40824904 0.3107572  0.20562427\n",
            "  0.59662966 0.62787387 0.37496165 0.         0.3552678  0.43340439\n",
            "  0.46394832 0.19097213 0.37247585 0.22004994 0.23537443 0.10618668\n",
            "  0.54596569 0.55542942 0.12039328 0.20274759 0.55914324 0.61426641\n",
            "  0.09535133 0.49921056 0.25823366 0.60940191 0.15620173 0.45237955\n",
            "  0.39065733 0.43917824 0.31607428 0.50230977 0.42671705 0.29147052\n",
            "  0.46122702 0.37062523 0.27179993 0.25136945 0.39944691 0.32475417\n",
            "  0.39540173 0.70122723 0.13423652 0.5986036 ]\n",
            " [0.35188715 0.7184023  0.45593525 0.40881435 0.45407564 0.65168383\n",
            "  0.40496412 0.48810281 0.34489619 0.31131978 0.64991384 0.23388381\n",
            "  0.60137152 0.40372953 0.31061723 0.38157058 0.49436114 0.79820007\n",
            "  0.58798276 0.58820898 0.39150794 0.3781439  0.57147318 0.04369144\n",
            "  0.73465088 0.33747776 0.18740723 0.34487718 0.44224634 0.4180866\n",
            "  0.69497372 0.40803566 0.64220359 0.35490495 0.24976251 0.47142611\n",
            "  0.41869265 0.48582116 0.72874494 0.60307978 0.39033664 0.60384023\n",
            "  0.4982098  0.56113815 0.18337608 0.56158809 0.15575214 0.71560266\n",
            "  0.58598285 0.20713506 0.66434437 0.21258041 0.18101587 0.12052811\n",
            "  0.26329066 0.40295029 0.50475613 0.60671956 0.65641525 0.35642711\n",
            "  0.24732486 0.55195644 0.67653649 0.3552678  0.         0.60978254\n",
            "  0.3758054  0.16584164 0.22805955 0.47030435 0.23928498 0.25017283\n",
            "  0.45207682 0.44000863 0.3029902  0.38180208 0.21759728 0.26799221\n",
            "  0.39058458 0.16807532 0.35086777 0.57081802 0.43204103 0.59700841\n",
            "  0.60637119 0.38212269 0.43536712 0.71378133 0.76105558 0.31345883\n",
            "  0.36995203 0.47768049 0.5786198  0.56019252 0.14100994 0.49495272\n",
            "  0.54759197 0.49976079 0.40668105 0.24352655]\n",
            " [0.35687293 0.4074955  0.52980653 0.51710988 0.1586664  0.05135358\n",
            "  0.20522369 0.21706387 0.34296113 0.6650243  0.18758432 0.52748191\n",
            "  0.18657398 0.70548347 0.3158117  0.55578467 0.39024834 0.31289453\n",
            "  0.05308346 0.08678396 0.26513278 0.9099419  0.16328748 0.64936729\n",
            "  0.21651135 0.85672817 0.4435395  0.85063003 0.16800283 0.35429152\n",
            "  0.1037007  0.39130618 0.33482856 0.30077336 0.36383205 0.22899904\n",
            "  0.72071631 0.24705924 0.50003101 0.01169024 0.62490237 0.04284898\n",
            "  0.24306647 0.66848344 0.75677273 0.63740073 0.45404465 0.38298733\n",
            "  0.33253649 0.81576293 0.36000647 0.52187056 0.56832929 0.70335616\n",
            "  0.79175245 1.00704872 0.16236169 0.82035666 0.38511186 0.63834611\n",
            "  0.83644059 0.40443736 0.24906981 0.43340439 0.60978254 0.\n",
            "  0.36759566 0.49108354 0.43243445 0.63597521 0.6369471  0.45322487\n",
            "  0.39157174 0.42088731 0.54555335 0.2513929  0.71355536 0.76623508\n",
            "  0.52104816 0.77693633 0.68835799 0.34961821 0.27965069 0.05190178\n",
            "  0.07074746 0.33044578 0.17491766 0.11105677 0.38047072 0.71181003\n",
            "  0.37104551 0.80373927 0.25506844 0.26266605 0.72610452 0.75253017\n",
            "  0.8223345  0.60130414 0.29928632 0.8087955 ]\n",
            " [0.03292978 0.6808505  0.60048538 0.56224809 0.23509251 0.41893657\n",
            "  0.24245245 0.40101891 0.37175804 0.59726676 0.31351894 0.45333237\n",
            "  0.4749401  0.67566911 0.14107517 0.57086048 0.53299877 0.65947179\n",
            "  0.32175479 0.40157159 0.33768292 0.7492662  0.24835539 0.39923175\n",
            "  0.56862338 0.70408343 0.31744993 0.70753419 0.25946324 0.44971453\n",
            "  0.47124105 0.47094491 0.59348603 0.33348414 0.25391775 0.1448636\n",
            "  0.69297187 0.14081313 0.742117   0.36776039 0.62042851 0.38788703\n",
            "  0.43097553 0.74677257 0.55822307 0.30995751 0.26407262 0.66443068\n",
            "  0.55690855 0.54846851 0.62193935 0.19465958 0.45170583 0.4954302\n",
            "  0.46218072 0.76441195 0.20822691 0.85569621 0.63268866 0.60826286\n",
            "  0.53734024 0.18230473 0.56076313 0.46394832 0.3758054  0.36759566\n",
            "  0.         0.36371847 0.14845246 0.67486283 0.53666709 0.39713552\n",
            "  0.08579692 0.09150903 0.51357395 0.30248216 0.38375528 0.42845843\n",
            "  0.55316436 0.5142838  0.63451697 0.19501938 0.39917696 0.32828204\n",
            "  0.40686673 0.03834964 0.23720948 0.47644884 0.68626959 0.62509373\n",
            "  0.00604145 0.7715204  0.50241429 0.49414845 0.51661825 0.75514462\n",
            "  0.8223227  0.25819105 0.39187399 0.49546678]\n",
            " [0.33215627 0.55309393 0.30384746 0.25691093 0.34862465 0.52630405\n",
            "  0.29037444 0.33648149 0.18490353 0.23365081 0.57195758 0.09677375\n",
            "  0.45026907 0.31525972 0.24579814 0.24131923 0.32856896 0.64243804\n",
            "  0.48064675 0.45320377 0.24374931 0.42394176 0.49262647 0.20869136\n",
            "  0.58611036 0.37223413 0.05206969 0.36957464 0.32588204 0.25299243\n",
            "  0.56385043 0.24221651 0.47835577 0.20497513 0.13693377 0.40893007\n",
            "  0.33240795 0.43114109 0.56347316 0.48251723 0.27201512 0.47660503\n",
            "  0.34181208 0.42747206 0.26746456 0.62369803 0.10482164 0.55102088\n",
            "  0.42155165 0.3591079  0.49974622 0.27997356 0.09025833 0.21963444\n",
            "  0.42511615 0.52350301 0.42160589 0.50643075 0.49095973 0.25115055\n",
            "  0.41144497 0.54493179 0.52022643 0.19097213 0.16584164 0.49108354\n",
            "  0.36371847 0.         0.23206232 0.34172051 0.17459416 0.08491963\n",
            "  0.44932341 0.44866434 0.16746165 0.24372594 0.36919416 0.4238051\n",
            "  0.24052306 0.32116459 0.2714482  0.54529747 0.27437738 0.48977457\n",
            "  0.47372978 0.35294167 0.32629149 0.58604516 0.59773741 0.26276264\n",
            "  0.35911633 0.40869432 0.41957153 0.40039278 0.24137762 0.39973376\n",
            "  0.46383017 0.56159396 0.24796497 0.40925187]\n",
            " [0.12388092 0.6599653  0.50653337 0.46328968 0.27537721 0.48083243\n",
            "  0.24754665 0.38586576 0.30028961 0.4634171  0.43347911 0.32750025\n",
            "  0.48464105 0.54722245 0.11813735 0.46126104 0.47344144 0.68280122\n",
            "  0.39842951 0.43758185 0.29821347 0.60093299 0.35810497 0.25421135\n",
            "  0.60196167 0.55617835 0.19432176 0.56015924 0.28003113 0.38608364\n",
            "  0.53033654 0.39697939 0.57375668 0.27738448 0.16211593 0.25287189\n",
            "  0.56432582 0.26297139 0.70241653 0.42869603 0.50137558 0.43904552\n",
            "  0.40906865 0.64511568 0.40989503 0.39426626 0.12733015 0.64874687\n",
            "  0.52680292 0.41076673 0.60077589 0.09456403 0.31465609 0.34716311\n",
            "  0.35933198 0.62284841 0.29807716 0.73707668 0.60405876 0.482982\n",
            "  0.41285015 0.32838153 0.56978258 0.37247585 0.22805955 0.43243445\n",
            "  0.14845246 0.23206232 0.         0.56511649 0.39856521 0.28494017\n",
            "  0.2287819  0.22210203 0.39455352 0.27016047 0.28118533 0.33457544\n",
            "  0.45074551 0.37462345 0.50219216 0.34315849 0.35803735 0.40676668\n",
            "  0.4500981  0.1547808  0.26426117 0.54296666 0.68159936 0.48634424\n",
            "  0.1427386  0.63929988 0.48999581 0.47654389 0.3685287  0.63154054\n",
            "  0.69588461 0.33297594 0.3416141  0.37931781]\n",
            " [0.64193483 0.43887722 0.1085151  0.12205189 0.55728819 0.64601136\n",
            "  0.50066965 0.41926416 0.32272026 0.18843502 0.78573669 0.24659624\n",
            "  0.49317376 0.13094644 0.5365911  0.10434497 0.25977383 0.61443254\n",
            "  0.65412077 0.56028835 0.39152986 0.44384047 0.71603735 0.50219477\n",
            "  0.60886093 0.39863414 0.37106116 0.37946488 0.52018372 0.28249911\n",
            "  0.65889611 0.24604799 0.41273301 0.37046838 0.4209978  0.668242\n",
            "  0.13444689 0.69621719 0.38403045 0.62447555 0.08281997 0.60171228\n",
            "  0.39639715 0.09160548 0.43482213 0.95932807 0.44234749 0.45404835\n",
            "  0.36573275 0.59169335 0.41523812 0.62160813 0.28956871 0.43684077\n",
            "  0.72690864 0.6544642  0.65055203 0.18857993 0.38765115 0.12452745\n",
            "  0.67281814 0.84458582 0.51353195 0.22004994 0.47030435 0.63597521\n",
            "  0.67486283 0.34172051 0.56511649 0.         0.2462377  0.28082565\n",
            "  0.75895735 0.76559167 0.17445526 0.42157668 0.68789271 0.73707911\n",
            "  0.12486783 0.56450587 0.16624176 0.82855126 0.35811135 0.66167893\n",
            "  0.58321899 0.65326191 0.53487655 0.68768602 0.51094813 0.22702727\n",
            "  0.67154425 0.19496271 0.42341769 0.40551224 0.44531251 0.12336366\n",
            "  0.1891146  0.89807471 0.34283271 0.69275383]\n",
            " [0.50562832 0.59703696 0.26899752 0.2286804  0.50853158 0.66508784\n",
            "  0.44801073 0.44958517 0.29758251 0.07209062 0.73827699 0.10949811\n",
            "  0.55649443 0.16445122 0.41995442 0.18322958 0.36938913 0.72910317\n",
            "  0.63494414 0.58448289 0.37334844 0.27871699 0.65980815 0.26415231\n",
            "  0.6913559  0.22484125 0.22514643 0.21563963 0.48041347 0.3261267\n",
            "  0.69542509 0.29733712 0.53971043 0.33637611 0.30682918 0.5812789\n",
            "  0.17959561 0.60440503 0.57612558 0.62712717 0.16342189 0.61533967\n",
            "  0.44330286 0.33747218 0.19511454 0.77982183 0.27326646 0.60289048\n",
            "  0.48228625 0.34655069 0.5540686  0.42666862 0.08499005 0.19062476\n",
            "  0.48464388 0.43979031 0.58869246 0.36745585 0.53590487 0.12327548\n",
            "  0.4265867  0.7185368  0.61022236 0.23537443 0.23928498 0.6369471\n",
            "  0.53666709 0.17459416 0.39856521 0.2462377  0.         0.18380847\n",
            "  0.6218537  0.61929621 0.12128832 0.38599309 0.45286613 0.49845346\n",
            "  0.20968295 0.31838963 0.11194126 0.71988823 0.37955066 0.64387832\n",
            "  0.60686291 0.52729418 0.48522764 0.72063199 0.65670927 0.08843781\n",
            "  0.53185264 0.2443874  0.50689574 0.48646451 0.19996838 0.25567064\n",
            "  0.30991171 0.7172554  0.3536134  0.44754769]\n",
            " [0.36429425 0.47095266 0.22648935 0.18094275 0.32745164 0.48234892\n",
            "  0.26659586 0.27391187 0.11836416 0.22061857 0.55956358 0.07462368\n",
            "  0.38550921 0.28470122 0.26321046 0.17660853 0.24440248 0.57113353\n",
            "  0.45156445 0.40325963 0.19081989 0.45852433 0.48233479 0.29251496\n",
            "  0.5219254  0.40489028 0.09305832 0.39781005 0.29766553 0.17254206\n",
            "  0.51458803 0.15828854 0.39879969 0.1530667  0.14466479 0.41268214\n",
            "  0.30189127 0.43824324 0.47868083 0.44348598 0.22343635 0.43247538\n",
            "  0.2734429  0.36035281 0.32781971 0.67880968 0.1665956  0.47014596\n",
            "  0.34131182 0.43709567 0.41896661 0.34863253 0.1209015  0.28905071\n",
            "  0.51000813 0.58662033 0.41174278 0.4585975  0.40859132 0.21512716\n",
            "  0.49405852 0.57224808 0.44927731 0.10618668 0.25017283 0.45322487\n",
            "  0.39713552 0.08491963 0.28494017 0.28082565 0.18380847 0.\n",
            "  0.48232391 0.48685506 0.11736641 0.20218758 0.45312406 0.50812732\n",
            "  0.1668397  0.40009383 0.25166693 0.56340684 0.20641215 0.46045166\n",
            "  0.42523548 0.37879334 0.30394009 0.53901966 0.51852269 0.26258609\n",
            "  0.39343319 0.38404772 0.34664271 0.32677868 0.30902413 0.35909341\n",
            "  0.42755996 0.6178244  0.1795469  0.49369937]\n",
            " [0.11824366 0.73902674 0.68207213 0.64496795 0.28447382 0.44207421\n",
            "  0.30613445 0.46316181 0.45106307 0.68293078 0.29421935 0.53912049\n",
            "  0.52424207 0.76145431 0.22283943 0.65519617 0.6067283  0.69753983\n",
            "  0.34076003 0.4407272  0.41006366 0.82854314 0.24623753 0.47166687\n",
            "  0.60335944 0.78459604 0.40324629 0.78887678 0.31548587 0.5258011\n",
            "  0.49393754 0.5492564  0.6525585  0.4102904  0.33848865 0.16400197\n",
            "  0.7787582  0.14471473 0.80687521 0.39423985 0.70572505 0.419219\n",
            "  0.49461504 0.82931152 0.6353966  0.25074725 0.34882875 0.72069438\n",
            "  0.62061118 0.61253544 0.68110441 0.25486819 0.53694866 0.5725069\n",
            "  0.50467307 0.83059717 0.22995658 0.94071498 0.69460809 0.69397548\n",
            "  0.59166883 0.09995573 0.60802451 0.54596569 0.45207682 0.39157174\n",
            "  0.08579692 0.44932341 0.2287819  0.75895735 0.6218537  0.48232391\n",
            "  0.         0.03146466 0.59901243 0.37428547 0.42910138 0.46698673\n",
            "  0.63650712 0.58039497 0.72026679 0.12891823 0.47009763 0.34548352\n",
            "  0.44181074 0.10703391 0.29257694 0.49412663 0.73742957 0.71024452\n",
            "  0.09021717 0.85729615 0.56047101 0.55446082 0.59302697 0.84069221\n",
            "  0.90801192 0.20988313 0.46560553 0.54514726]\n",
            " [0.12416885 0.76162072 0.69198545 0.65360188 0.30846637 0.47161365\n",
            "  0.32588114 0.48400243 0.4630177  0.68215047 0.32556679 0.54058247\n",
            "  0.54912839 0.76272599 0.23254298 0.66144945 0.622525   0.72514208\n",
            "  0.3705332  0.46770902 0.42636412 0.81775526 0.27740614 0.45711522\n",
            "  0.63145452 0.77499678 0.40450364 0.78010712 0.33783215 0.54010376\n",
            "  0.52362249 0.56202691 0.67476916 0.42401355 0.34461602 0.19237402\n",
            "  0.77999175 0.17465794 0.82711903 0.42322343 0.70972862 0.44754026\n",
            "  0.51496094 0.83813844 0.62330185 0.22628971 0.34611853 0.7438828\n",
            "  0.64111479 0.59336763 0.70331434 0.23687506 0.53472354 0.56051824\n",
            "  0.47899451 0.81189144 0.25879653 0.94539354 0.71586091 0.69612354\n",
            "  0.5689935  0.11546034 0.63355387 0.55542942 0.44000863 0.42088731\n",
            "  0.09150903 0.44866434 0.22210203 0.76559167 0.61929621 0.48685506\n",
            "  0.03146466 0.         0.60262044 0.3908038  0.40446976 0.44053736\n",
            "  0.64433051 0.56221511 0.7201082  0.15444751 0.48724316 0.37547075\n",
            "  0.46958173 0.12118651 0.31498213 0.52436187 0.76211003 0.70745208\n",
            "  0.09427299 0.85734315 0.58289596 0.57611917 0.58050052 0.84367983\n",
            "  0.91018684 0.18180292 0.48126364 0.52121319]\n",
            " [0.48083007 0.47577266 0.15755519 0.11268416 0.43453456 0.56803437\n",
            "  0.37403244 0.3442402  0.20321115 0.12114338 0.66789024 0.07237585\n",
            "  0.44550288 0.16900575 0.38057545 0.07858158 0.24840358 0.61100116\n",
            "  0.55107609 0.48440489 0.28114587 0.39296781 0.59233807 0.33873715\n",
            "  0.57819605 0.33968721 0.20046879 0.3274247  0.40156252 0.21207412\n",
            "  0.59349002 0.18016001 0.41918477 0.24870598 0.26200166 0.52795063\n",
            "  0.18596371 0.55409434 0.45764666 0.53496511 0.10725945 0.51921971\n",
            "  0.3334137  0.2619479  0.3112145  0.78851139 0.26958805 0.48165578\n",
            "  0.36206179 0.45205399 0.43300404 0.44743514 0.12367525 0.29397395\n",
            "  0.56467999 0.56074163 0.52267964 0.34328485 0.41461852 0.09895325\n",
            "  0.52449686 0.68954861 0.49370938 0.12039328 0.3029902  0.54555335\n",
            "  0.51357395 0.16746165 0.39455352 0.17445526 0.12128832 0.11736641\n",
            "  0.59901243 0.60262044 0.         0.30171023 0.51967563 0.57097298\n",
            "  0.09333846 0.41979738 0.14309796 0.68051676 0.27397545 0.55962448\n",
            "  0.50738334 0.49601762 0.41099841 0.62007524 0.53565448 0.17118191\n",
            "  0.50971096 0.26915665 0.39108084 0.37069504 0.30811291 0.24183956\n",
            "  0.31019962 0.72678794 0.24994202 0.5366219 ]\n",
            " [0.27322442 0.39107022 0.32692819 0.29972342 0.13613919 0.28329481\n",
            "  0.07963066 0.11658923 0.10093233 0.41802983 0.36817388 0.27670361\n",
            "  0.22367098 0.46797215 0.17026993 0.32726517 0.23253339 0.42349787\n",
            "  0.2503551  0.20981794 0.03583661 0.6586835  0.29540312 0.42444217\n",
            "  0.35365394 0.60539439 0.20045847 0.59924493 0.10056462 0.15483424\n",
            "  0.32014934 0.18396526 0.30422932 0.05326629 0.13463978 0.25179938\n",
            "  0.48422834 0.28078163 0.44217032 0.24193505 0.39244635 0.23341488\n",
            "  0.13898699 0.47593927 0.51117892 0.61224292 0.23166817 0.37889505\n",
            "  0.26007897 0.58829565 0.33166765 0.36325883 0.31725121 0.46144478\n",
            "  0.60362756 0.76614291 0.22897807 0.61014447 0.33731591 0.39862529\n",
            "  0.62380496 0.44337586 0.30516487 0.20274759 0.38180208 0.2513929\n",
            "  0.30248216 0.24372594 0.27016047 0.42157668 0.38599309 0.20218758\n",
            "  0.37428547 0.3908038  0.30171023 0.         0.53123863 0.58769032\n",
            "  0.29772582 0.5492741  0.44450602 0.41656823 0.09670047 0.25910582\n",
            "  0.2300434  0.26961737 0.11337769 0.34242364 0.41168836 0.46301855\n",
            "  0.30167277 0.56806243 0.21999187 0.20640882 0.48372478 0.52696802\n",
            "  0.59762417 0.55854171 0.09193783 0.60675135]\n",
            " [0.37654356 0.90413889 0.66991256 0.62265808 0.55646298 0.7620086\n",
            "  0.52476717 0.64703142 0.5259368  0.52404479 0.69638142 0.44920967\n",
            "  0.75392821 0.61616604 0.39882607 0.59819122 0.69075038 0.95384691\n",
            "  0.67831219 0.71623725 0.55176171 0.51584764 0.62679024 0.18880025\n",
            "  0.87776229 0.49133091 0.37149693 0.50568802 0.55904445 0.60795312\n",
            "  0.81134469 0.60515105 0.82223097 0.52127585 0.39997886 0.51999405\n",
            "  0.63021512 0.52244932 0.92728024 0.7098811  0.60767193 0.71981451\n",
            "  0.66468089 0.77872385 0.33254082 0.43247083 0.30875979 0.89745318\n",
            "  0.76926852 0.22265693 0.84700384 0.19447913 0.39856029 0.2865545\n",
            "  0.0791454  0.43255027 0.57351538 0.81910921 0.84392182 0.57281015\n",
            "  0.17004124 0.51741468 0.83640316 0.55914324 0.21759728 0.71355536\n",
            "  0.38375528 0.36919416 0.28118533 0.68789271 0.45286613 0.45312406\n",
            "  0.42910138 0.40446976 0.51967563 0.53123863 0.         0.05679366\n",
            "  0.60499274 0.20699892 0.56257117 0.55792347 0.60403479 0.68643521\n",
            "  0.72986753 0.40940454 0.54454716 0.82414944 0.93725861 0.51857961\n",
            "  0.37804997 0.68185281 0.74727463 0.73109506 0.29390888 0.70736756\n",
            "  0.75554183 0.37883582 0.58188135 0.11757479]\n",
            " [0.4239195  0.96085261 0.72284345 0.67561061 0.60990425 0.81513092\n",
            "  0.57975618 0.70360281 0.58258451 0.5686953  0.74195613 0.50134377\n",
            "  0.8101398  0.66019526 0.45261985 0.64955454 0.74683331 1.01000564\n",
            "  0.72976324 0.77103459 0.60845886 0.53673279 0.67428409 0.23514297\n",
            "  0.93328078 0.51715598 0.42767687 0.53308547 0.61363583 0.66436241\n",
            "  0.86487403 0.66107981 0.87901514 0.57806293 0.45670923 0.56780953\n",
            "  0.67365368 0.56855197 0.98334162 0.76287553 0.65604113 0.77361687\n",
            "  0.72140894 0.82828868 0.36306112 0.44129517 0.36550664 0.95422962\n",
            "  0.82599968 0.23279224 0.90376319 0.24488089 0.44869779 0.32352916\n",
            "  0.04332282 0.42813982 0.62328222 0.86245962 0.90057077 0.61992356\n",
            "  0.16082156 0.55070777 0.89283824 0.61426641 0.26799221 0.76623508\n",
            "  0.42845843 0.4238051  0.33457544 0.73707911 0.49845346 0.50812732\n",
            "  0.46698673 0.44053736 0.57097298 0.58769032 0.05679366 0.\n",
            "  0.65769648 0.22638301 0.60643905 0.59493539 0.6608282  0.73773738\n",
            "  0.78427072 0.45630801 0.59863874 0.87705797 0.99404262 0.55971864\n",
            "  0.42294666 0.72142645 0.80400345 0.78786056 0.32768008 0.75104619\n",
            "  0.79656084 0.39251275 0.63866178 0.1031915 ]\n",
            " [0.52028927 0.39201052 0.06543981 0.01936048 0.43376493 0.53568427\n",
            "  0.376432   0.30716184 0.19812748 0.18676267 0.66386433 0.15674951\n",
            "  0.39438187 0.19086242 0.41373359 0.03776049 0.17371251 0.5419572\n",
            "  0.53540139 0.44997629 0.26885916 0.46721663 0.59286833 0.42824986\n",
            "  0.52041132 0.41555468 0.25982764 0.40065025 0.39714155 0.16762448\n",
            "  0.55385698 0.13057885 0.34377283 0.24605139 0.30014278 0.54338499\n",
            "  0.20415637 0.57134939 0.36644476 0.50977207 0.1070424  0.48930518\n",
            "  0.28860155 0.1948522  0.40307163 0.84347188 0.33319573 0.4005286\n",
            "  0.28900595 0.54538742 0.35407407 0.51509314 0.21501266 0.3873121\n",
            "  0.65361935 0.64870531 0.52660629 0.3128992  0.33257203 0.13358034\n",
            "  0.61721052 0.72069979 0.42997993 0.09535133 0.39058458 0.52104816\n",
            "  0.55316436 0.24052306 0.45074551 0.12486783 0.20968295 0.1668397\n",
            "  0.63650712 0.64433051 0.09333846 0.29772582 0.60499274 0.65769648\n",
            "  0.         0.51298913 0.19105523 0.70382139 0.24139748 0.5432824\n",
            "  0.4731663  0.53027297 0.4111031  0.58192185 0.45607976 0.23812193\n",
            "  0.55008516 0.2848581  0.33117817 0.31150808 0.40130971 0.23207192\n",
            "  0.30244226 0.78300799 0.22317001 0.62782869]\n",
            " [0.49569484 0.87068165 0.57725204 0.53226781 0.62024702 0.81942052\n",
            "  0.57253294 0.653355   0.5056227  0.38045174 0.80682289 0.36258502\n",
            "  0.76706155 0.46624125 0.47198419 0.49442512 0.64198897 0.96223136\n",
            "  0.75346992 0.75625219 0.55744175 0.31070931 0.72982999 0.12759839\n",
            "  0.9012551  0.2913262  0.35189316 0.30800692 0.60978137 0.57241417\n",
            "  0.86299808 0.55715751 0.79857672 0.52005424 0.41782433 0.62647233\n",
            "  0.477204   0.6375872  0.87042002 0.77046476 0.48173481 0.77176183\n",
            "  0.66151038 0.65545588 0.14467535 0.63261637 0.323368   0.87023979\n",
            "  0.74128906 0.03906665 0.81905559 0.32563707 0.30004091 0.12787702\n",
            "  0.19549511 0.2503815  0.66549113 0.66231265 0.80823583 0.44060042\n",
            "  0.1088729  0.67757815 0.84016142 0.49921056 0.16807532 0.77693633\n",
            "  0.5142838  0.32116459 0.37462345 0.56450587 0.31838963 0.40009383\n",
            "  0.58039497 0.56221511 0.41979738 0.5492741  0.20699892 0.22638301\n",
            "  0.51298913 0.         0.41356786 0.70628321 0.59448753 0.76242019\n",
            "  0.77444624 0.52804492 0.60218583 0.88161795 0.91820247 0.35898832\n",
            "  0.5082453  0.51257709 0.74041346 0.72139748 0.12036706 0.55373409\n",
            "  0.59041396 0.57554156 0.56842788 0.14189548]\n",
            " [0.60255674 0.57739993 0.23039302 0.20550444 0.57623169 0.70976229\n",
            "  0.5154896  0.48394097 0.34630484 0.04012426 0.80940186 0.1832309\n",
            "  0.58029557 0.05376861 0.50931335 0.15396712 0.36475884 0.73300543\n",
            "  0.69414029 0.62547374 0.42422109 0.28360922 0.73303913 0.3738336\n",
            "  0.70950806 0.23534528 0.3173767  0.2175745  0.5439843  0.34746894\n",
            "  0.73344635 0.31244004 0.53423737 0.39164235 0.39168058 0.6639216\n",
            "  0.06785132 0.68898881 0.53767278 0.67769174 0.09543395 0.66128912\n",
            "  0.47036552 0.25066021 0.27596151 0.88852991 0.37510239 0.58810565\n",
            "  0.47998008 0.43684352 0.54324298 0.53649704 0.18887615 0.28917657\n",
            "  0.59011875 0.4882713  0.66280691 0.25655934 0.52001785 0.05766362\n",
            "  0.52239256 0.81470069 0.6204812  0.25823366 0.35086777 0.68835799\n",
            "  0.63451697 0.2714482  0.50219216 0.16624176 0.11194126 0.25166693\n",
            "  0.72026679 0.7201082  0.14309796 0.44450602 0.56257117 0.60643905\n",
            "  0.19105523 0.41356786 0.         0.81103045 0.41426355 0.70270293\n",
            "  0.64856925 0.62149872 0.55265929 0.76052548 0.64436375 0.06093981\n",
            "  0.63006234 0.13725572 0.52041345 0.50041371 0.29323574 0.14479764\n",
            "  0.19825723 0.8260053  0.39124626 0.54906054]\n",
            " [0.22050769 0.7381897  0.7411587  0.70930845 0.2955241  0.39489965\n",
            "  0.33845743 0.47998568 0.50822494 0.77574959 0.20160537 0.62781287\n",
            "  0.51417035 0.84779978 0.30171813 0.72748726 0.64350536 0.66231854\n",
            "  0.29663873 0.41848301 0.45137877 0.94313222 0.18653033 0.59377813\n",
            "  0.56579797 0.89708717 0.49550689 0.89969766 0.33323662 0.57117664\n",
            "  0.44296246 0.60019335 0.6557195  0.46230385 0.4197699  0.16548464\n",
            "  0.8650519  0.13624668 0.81817845 0.35583602 0.7845038  0.38618273\n",
            "  0.51280188 0.89038972 0.75305339 0.30783187 0.45198592 0.71659398\n",
            "  0.63408794 0.73926883 0.68364833 0.38175536 0.63523502 0.69031163\n",
            "  0.63313222 0.95666438 0.21029274 1.01506304 0.70233694 0.77849011\n",
            "  0.72042728 0.06275144 0.59092771 0.60940191 0.57081802 0.34961821\n",
            "  0.19501938 0.54529747 0.34315849 0.82855126 0.71988823 0.56340684\n",
            "  0.12891823 0.15444751 0.68051676 0.41656823 0.55792347 0.59493539\n",
            "  0.70382139 0.70628321 0.81103045 0.         0.5049813  0.2981218\n",
            "  0.41275471 0.19398267 0.31221622 0.43587415 0.72344624 0.80800457\n",
            "  0.20089571 0.94633406 0.56480296 0.5634053  0.71158532 0.92120681\n",
            "  0.99046874 0.28979113 0.5072846  0.67406421]\n",
            " [0.36986739 0.30312575 0.25462082 0.23786285 0.2124743  0.2961835\n",
            "  0.1675226  0.0704123  0.08976844 0.39511369 0.43050911 0.27311781\n",
            "  0.17914241 0.42735362 0.26567781 0.27634839 0.13870882 0.36806989\n",
            "  0.29605918 0.21130971 0.06212435 0.65823431 0.36538031 0.47571672\n",
            "  0.31552392 0.60435043 0.24470409 0.5948828  0.17385302 0.07567213\n",
            "  0.31954524 0.1121749  0.21874525 0.08307739 0.20538031 0.33951794\n",
            "  0.44216993 0.36876474 0.34696266 0.2683825  0.34577605 0.24867765\n",
            "  0.06756517 0.3998679  0.53389107 0.70893609 0.29597914 0.29416586\n",
            "  0.16894837 0.63282697 0.24456364 0.44843426 0.3270458  0.49215844\n",
            "  0.6724902  0.7926069  0.30586129 0.54481428 0.24607673 0.36174367\n",
            "  0.67905646 0.53578413 0.24586809 0.15620173 0.43204103 0.27965069\n",
            "  0.39917696 0.27437738 0.35803735 0.35811135 0.37955066 0.20641215\n",
            "  0.47009763 0.48724316 0.27397545 0.09670047 0.60403479 0.6608282\n",
            "  0.24139748 0.59448753 0.41426355 0.5049813  0.         0.30357203\n",
            "  0.23445874 0.36608058 0.19334155 0.3463366  0.33343867 0.44460308\n",
            "  0.39837124 0.52472011 0.14660639 0.1285752  0.5130403  0.47303355\n",
            "  0.54302721 0.65505093 0.02688517 0.66868664]\n",
            " [0.32085167 0.45684598 0.55748973 0.54101886 0.14354439 0.09800972\n",
            "  0.19942063 0.24736091 0.35654361 0.67703519 0.14014275 0.53507434\n",
            "  0.2336641  0.72335174 0.29353519 0.57661747 0.42376753 0.36419895\n",
            "  0.00915079 0.13267993 0.27893923 0.91244859 0.11162472 0.63497792\n",
            "  0.26769108 0.85982272 0.4401642  0.85501835 0.16431444 0.37922045\n",
            "  0.14887825 0.4156665  0.38190461 0.31129722 0.35727393 0.18571115\n",
            "  0.73910399 0.20083416 0.54744383 0.05980415 0.64467434 0.09223389\n",
            "  0.27634152 0.69969155 0.75188141 0.58886555 0.44220694 0.43278936\n",
            "  0.3754457  0.80089669 0.40780661 0.4928596  0.57122595 0.69624507\n",
            "  0.76522562 0.99782601 0.1201161  0.84811519 0.43178463 0.65494657\n",
            "  0.81622448 0.35368157 0.3000119  0.45237955 0.59700841 0.05190178\n",
            "  0.32828204 0.48977457 0.40676668 0.66167893 0.64387832 0.46045166\n",
            "  0.34548352 0.37547075 0.55962448 0.25910582 0.68643521 0.73773738\n",
            "  0.5432824  0.76242019 0.70270293 0.2981218  0.30357203 0.\n",
            "  0.12030475 0.29233753 0.16429465 0.14923053 0.43182601 0.72208167\n",
            "  0.33219986 0.82269398 0.29871814 0.30426779 0.71912986 0.77535383\n",
            "  0.84567869 0.55454982 0.32011422 0.78568865]\n",
            " [0.39135138 0.33691485 0.47554538 0.46728864 0.17757565 0.06279652\n",
            "  0.2063184  0.16607184 0.30931451 0.62828338 0.25829256 0.49779966\n",
            "  0.11631554 0.66134228 0.33198861 0.50923604 0.33080877 0.25574749\n",
            "  0.11894732 0.02320915 0.23447844 0.88370549 0.22848702 0.6477838\n",
            "  0.16216065 0.83000424 0.42990816 0.82228003 0.1709211  0.30559937\n",
            "  0.09012542 0.34259167 0.26429917 0.27284247 0.35668077 0.27785576\n",
            "  0.67587171 0.2998943  0.42936025 0.06082778 0.57904345 0.02814646\n",
            "  0.18683343 0.60969743 0.74119427 0.69112175 0.45176315 0.3126109\n",
            "  0.26442993 0.81350349 0.28930128 0.54295492 0.54423295 0.69120742\n",
            "  0.80663297 0.99594566 0.21295958 0.76462248 0.31467661 0.59618353\n",
            "  0.84170785 0.46478646 0.17999755 0.39065733 0.60637119 0.07074746\n",
            "  0.40686673 0.47372978 0.4500981  0.58321899 0.60686291 0.42523548\n",
            "  0.44181074 0.46958173 0.50738334 0.2300434  0.72986753 0.78427072\n",
            "  0.4731663  0.77444624 0.64856925 0.41275471 0.23445874 0.12030475\n",
            "  0.         0.36867061 0.18589117 0.11381297 0.31223812 0.6768858\n",
            "  0.40952375 0.7578152  0.1868397  0.19623489 0.71357954 0.70241077\n",
            "  0.771354   0.65131626 0.25748572 0.81846501]\n",
            " [0.03323168 0.64419007 0.57514126 0.53839082 0.19682668 0.38174151\n",
            "  0.20632238 0.36493156 0.34405362 0.58520096 0.28731768 0.43888237\n",
            "  0.43694111 0.66068182 0.11667304 0.5498432  0.50144951 0.62112345\n",
            "  0.28554415 0.36324012 0.30518595 0.75038032 0.21800284 0.40897153\n",
            "  0.53035124 0.70371125 0.30434472 0.7059727  0.22185477 0.41952656\n",
            "  0.43398338 0.44240839 0.5569406  0.30369737 0.23420846 0.11199516\n",
            "  0.6779931  0.11333687 0.7070784  0.33031222 0.60210526 0.34993893\n",
            "  0.39532897 0.72260317 0.56237789 0.34478565 0.25801383 0.62741849\n",
            "  0.52143292 0.56340386 0.58543477 0.21657778 0.44241148 0.50000429\n",
            "  0.48835706 0.77713048 0.17269931 0.83623751 0.5968113  0.59232067\n",
            "  0.55787502 0.19366862 0.52266476 0.43917824 0.38212269 0.33044578\n",
            "  0.03834964 0.35294167 0.1547808  0.65326191 0.52729418 0.37879334\n",
            "  0.10703391 0.12118651 0.49601762 0.26961737 0.40940454 0.45630801\n",
            "  0.53027297 0.52804492 0.62149872 0.19398267 0.36608058 0.29233753\n",
            "  0.36867061 0.         0.19944306 0.4398386  0.64857114 0.61562659\n",
            "  0.04088957 0.75788616 0.46558662 0.45776787 0.5217845  0.73784843\n",
            "  0.80592912 0.29470286 0.36018742 0.5184489 ]\n",
            " [0.2155386  0.44668159 0.43886968 0.41294648 0.02357572 0.21976432\n",
            "  0.03734423 0.1718524  0.21381888 0.52393089 0.25689195 0.37798357\n",
            "  0.23794657 0.57883955 0.14612721 0.44038329 0.3314789  0.4274453\n",
            "  0.15514443 0.17440328 0.14446649 0.7498457  0.18238371 0.47459319\n",
            "  0.3412019  0.69760337 0.27615937 0.69359129 0.02290895 0.26278722\n",
            "  0.26739938 0.29475999 0.3600158  0.16572388 0.19297964 0.14718374\n",
            "  0.5953409  0.17634195 0.51546351 0.16905538 0.50484645 0.17546157\n",
            "  0.20410866 0.58736787 0.58759149 0.54124664 0.27978437 0.42896058\n",
            "  0.32919082 0.6409669  0.3885646  0.35710791 0.409674   0.5321903\n",
            "  0.62178012 0.83450831 0.11574321 0.72345487 0.40226441 0.50907423\n",
            "  0.66213894 0.34656877 0.32405499 0.31607428 0.43536712 0.17491766\n",
            "  0.23720948 0.32629149 0.26426117 0.53487655 0.48522764 0.30394009\n",
            "  0.29257694 0.31498213 0.41099841 0.11337769 0.54454716 0.59863874\n",
            "  0.4111031  0.60218583 0.55265929 0.31221622 0.19334155 0.16429465\n",
            "  0.18589117 0.19944306 0.         0.28239377 0.44912815 0.56647588\n",
            "  0.23850416 0.67911825 0.26799836 0.26196893 0.55505794 0.63993013\n",
            "  0.71056303 0.49355516 0.19836361 0.63594032]\n",
            " [0.46708173 0.38438565 0.57927988 0.57480463 0.26810735 0.06263096\n",
            "  0.3093301  0.27664904 0.4230587  0.74112863 0.24638083 0.61160536\n",
            "  0.19827895 0.77147667 0.42581746 0.61859634 0.4303031  0.24152885\n",
            "  0.15500946 0.13619665 0.34822754 0.99750885 0.25287529 0.75432899\n",
            "  0.15034941 0.94381349 0.54106816 0.93607955 0.27224464 0.41514667\n",
            "  0.02924576 0.45176445 0.32972263 0.38647284 0.46511613 0.33487539\n",
            "  0.78560982 0.34972046 0.48579714 0.11428294 0.68851653 0.11017306\n",
            "  0.29338151 0.70697808 0.85339172 0.73467446 0.55825278 0.35752793\n",
            "  0.34643965 0.92059597 0.34930291 0.63283741 0.657817   0.80234228\n",
            "  0.90217229 1.10696641 0.26887815 0.8651214  0.37924464 0.70736943\n",
            "  0.94443409 0.49488115 0.22232911 0.50230977 0.71378133 0.11105677\n",
            "  0.47644884 0.58604516 0.54296666 0.68768602 0.72063199 0.53901966\n",
            "  0.49412663 0.52436187 0.62007524 0.34242364 0.82414944 0.87705797\n",
            "  0.58192185 0.88161795 0.76052548 0.43587415 0.3463366  0.14923053\n",
            "  0.11381297 0.4398386  0.28239377 0.         0.33878204 0.79005975\n",
            "  0.48014647 0.86675716 0.27256983 0.28707191 0.82486087 0.80862709\n",
            "  0.87664491 0.70248569 0.37018021 0.91811289]\n",
            " [0.66325411 0.07547138 0.41600574 0.4397794  0.45369258 0.34645576\n",
            "  0.44721292 0.29578729 0.4166296  0.64283756 0.56548029 0.5678784\n",
            "  0.21321586 0.63120033 0.57458989 0.49144356 0.28732165 0.12868242\n",
            "  0.43106514 0.30496682 0.3866923  0.92327529 0.54063198 0.80465631\n",
            "  0.19065897 0.87138102 0.57528989 0.85672248 0.4268077  0.34598063\n",
            "  0.31545641 0.36509231 0.11973846 0.41598789 0.5376252  0.57742312\n",
            "  0.63972538 0.60282383 0.17210926 0.37203376 0.55150324 0.33990638\n",
            "  0.27368095 0.48764145 0.83807246 0.98800958 0.62941617 0.05692304\n",
            "  0.17752209 0.95550742 0.10265044 0.77494665 0.62982737 0.80609604\n",
            "  1.0058943  1.09390995 0.51730128 0.64741002 0.12453925 0.5868808\n",
            "  1.00828657 0.77283017 0.13255952 0.42671705 0.76105558 0.38047072\n",
            "  0.68626959 0.59773741 0.68159936 0.51094813 0.65670927 0.51852269\n",
            "  0.73742957 0.76211003 0.53565448 0.41168836 0.93725861 0.99404262\n",
            "  0.45607976 0.91820247 0.64436375 0.72344624 0.33343867 0.43182601\n",
            "  0.31223812 0.64857114 0.44912815 0.33878204 0.         0.69416625\n",
            "  0.68740166 0.70583324 0.19170127 0.20647561 0.82495265 0.63051032\n",
            "  0.68638364 0.94225332 0.35670253 1.00078087]\n",
            " [0.59406554 0.62914203 0.28453868 0.25454089 0.58996203 0.73678545\n",
            "  0.52913489 0.51498198 0.36912309 0.05174376 0.82144904 0.18862034\n",
            "  0.61655703 0.10887524 0.50757158 0.2030816  0.41042225 0.77764058\n",
            "  0.71328421 0.65405916 0.44670952 0.22938861 0.74357518 0.33123278\n",
            "  0.74860677 0.17877653 0.31278475 0.16278668 0.56010049 0.38296624\n",
            "  0.76381556 0.3499971  0.58140279 0.41152419 0.3931337  0.66768814\n",
            "  0.1184339  0.69130284 0.59403702 0.70156507 0.15301489 0.68751805\n",
            "  0.50459481 0.31139594 0.21836715 0.86433282 0.36155735 0.63846126\n",
            "  0.52577155 0.38024969 0.5921922  0.51053445 0.17342688 0.23796047\n",
            "  0.54081201 0.42776186 0.6726235  0.30429366 0.57042418 0.11107956\n",
            "  0.46741131 0.80697423 0.6623912  0.29147052 0.31345883 0.71181003\n",
            "  0.62509373 0.26276264 0.48634424 0.22702727 0.08843781 0.26258609\n",
            "  0.71024452 0.70745208 0.17118191 0.46301855 0.51857961 0.55971864\n",
            "  0.23812193 0.35898832 0.06093981 0.80800457 0.44460308 0.72208167\n",
            "  0.6768858  0.61562659 0.56647588 0.79005975 0.69416625 0.\n",
            "  0.62026864 0.16435068 0.5605901  0.54030281 0.23936363 0.1947616\n",
            "  0.23701951 0.80179326 0.4200021  0.49694833]\n",
            " [0.02996184 0.68132377 0.59782199 0.5593297  0.2369655  0.42236797\n",
            "  0.2428247  0.40127506 0.36965247 0.59271503 0.31900969 0.44909788\n",
            "  0.47637572 0.67143622 0.1387917  0.56747672 0.53171063 0.66168908\n",
            "  0.3255823  0.40392272 0.33674148 0.74361516 0.25336981 0.39326188\n",
            "  0.57114055 0.69852396 0.31313957 0.70205067 0.26062226 0.44811582\n",
            "  0.47464323 0.46896227 0.59391213 0.33186087 0.2505492  0.14938578\n",
            "  0.68873474 0.14604131 0.74187316 0.37105156 0.61663921 0.3908249\n",
            "  0.43103349 0.7438668  0.55243495 0.3105803  0.25908931 0.66509887\n",
            "  0.55686403 0.54242712 0.62234084 0.18870392 0.44691029 0.48963081\n",
            "  0.45652687 0.75837782 0.21222898 0.85202619 0.63279817 0.60416234\n",
            "  0.5313886  0.18743433 0.56230557 0.46122702 0.36995203 0.37104551\n",
            "  0.00604145 0.35911633 0.1427386  0.67154425 0.53185264 0.39343319\n",
            "  0.09021717 0.09427299 0.50971096 0.30167277 0.37804997 0.42294666\n",
            "  0.55008516 0.5082453  0.63006234 0.20089571 0.39837124 0.33219986\n",
            "  0.40952375 0.04088957 0.23850416 0.48014647 0.68740166 0.62026864\n",
            "  0.         0.76711237 0.50300349 0.49451249 0.51079029 0.75119037\n",
            "  0.81824156 0.25807616 0.39067884 0.48961307]\n",
            " [0.73945747 0.63340296 0.29740753 0.29253133 0.70257023 0.82020492\n",
            "  0.64241589 0.59174573 0.46758631 0.17596939 0.93581427 0.31902416\n",
            "  0.67738261 0.10031112 0.64479467 0.2485951  0.44784901 0.8086036\n",
            "  0.8144473  0.73461152 0.54414819 0.29570254 0.86099583 0.49527436\n",
            "  0.79879855 0.26526402 0.45417136 0.24324596 0.66854495 0.45222725\n",
            "  0.83863084 0.41529981 0.6068033  0.51479652 0.52657268 0.79654827\n",
            "  0.08383433 0.82228211 0.57332844 0.79264431 0.17894443 0.77332622\n",
            "  0.57339488 0.23950661 0.36812969 1.02406546 0.51229871 0.64895056\n",
            "  0.55806254 0.528806   0.61005172 0.67105601 0.32527775 0.39803804\n",
            "  0.70041039 0.52764019 0.7916372  0.1580208  0.58261131 0.17030185\n",
            "  0.61886486 0.95130377 0.70488244 0.37062523 0.47768049 0.80373927\n",
            "  0.7715204  0.40869432 0.63929988 0.19496271 0.2443874  0.38404772\n",
            "  0.85729615 0.85734315 0.26915665 0.56806243 0.68185281 0.72142645\n",
            "  0.2848581  0.51257709 0.13725572 0.94633406 0.52472011 0.82269398\n",
            "  0.7578152  0.75788616 0.67911825 0.86675716 0.70583324 0.16435068\n",
            "  0.76711237 0.         0.61088776 0.59200501 0.39622922 0.08093352\n",
            "  0.07906374 0.96150403 0.50447313 0.65335175]\n",
            " [0.47741418 0.17873634 0.31540044 0.32005733 0.27697684 0.24455139\n",
            "  0.26038414 0.10455195 0.23479365 0.50912497 0.43880081 0.40655729\n",
            "  0.07457692 0.52132    0.38453267 0.36893839 0.16373609 0.22459877\n",
            "  0.29460171 0.16829659 0.1956562  0.78371209 0.39398555 0.62230097\n",
            "  0.18924898 0.73017733 0.39130843 0.71844712 0.24510958 0.18085021\n",
            "  0.24333062 0.21093001 0.09218748 0.22696658 0.34729611 0.4073728\n",
            "  0.53360989 0.43497779 0.25368686 0.24386877 0.43737655 0.21287936\n",
            "  0.08259453 0.43532938 0.67382952 0.80908426 0.44081933 0.16223617\n",
            "  0.07760021 0.77857928 0.12069873 0.58325038 0.46488426 0.6352576\n",
            "  0.81721669 0.9324691  0.35451032 0.59495983 0.13755527 0.46376935\n",
            "  0.82566283 0.60761796 0.10351608 0.27179993 0.5786198  0.25506844\n",
            "  0.50241429 0.41957153 0.48999581 0.42341769 0.50689574 0.34664271\n",
            "  0.56047101 0.58289596 0.39108084 0.21999187 0.74727463 0.80400345\n",
            "  0.33117817 0.74041346 0.52041345 0.56480296 0.14660639 0.29871814\n",
            "  0.1868397  0.46558662 0.26799836 0.27256983 0.19170127 0.5605901\n",
            "  0.50300349 0.61088776 0.         0.02043345 0.65555607 0.54637994\n",
            "  0.612135   0.76028827 0.17210529 0.81486361]\n",
            " [0.46834959 0.18705505 0.297254   0.3006919  0.27251782 0.25575297\n",
            "  0.25170187 0.09352517 0.21583333 0.48886435 0.44392388 0.38625635\n",
            "  0.08896822 0.50187096 0.37317397 0.349261   0.14575709 0.24469557\n",
            "  0.29962162 0.17637012 0.18024727 0.7632931  0.39599053 0.60388297\n",
            "  0.20911057 0.70975274 0.37303134 0.69804527 0.23907413 0.1604338\n",
            "  0.25784227 0.19055652 0.09952652 0.21007123 0.33125552 0.40395403\n",
            "  0.51431284 0.43199189 0.25505499 0.25124646 0.41790551 0.2212043\n",
            "  0.0675121  0.41994715 0.65376525 0.80202732 0.42391053 0.17288045\n",
            "  0.07192467 0.75947946 0.12785793 0.56930941 0.44474728 0.61555207\n",
            "  0.80044972 0.91235814 0.35334075 0.57878941 0.14040913 0.4438711\n",
            "  0.80736943 0.60460095 0.12389378 0.25136945 0.56019252 0.26266605\n",
            "  0.49414845 0.40039278 0.47654389 0.40551224 0.48646451 0.32677868\n",
            "  0.55446082 0.57611917 0.37069504 0.20640882 0.73109506 0.78786056\n",
            "  0.31150808 0.72139748 0.50041371 0.5634053  0.1285752  0.30426779\n",
            "  0.19623489 0.45776787 0.26196893 0.28707191 0.20647561 0.54030281\n",
            "  0.49451249 0.59200501 0.02043345 0.         0.63576228 0.52824589\n",
            "  0.59443735 0.75229277 0.15351148 0.79725051]\n",
            " [0.49212031 0.7725513  0.46421928 0.42066993 0.57565154 0.76413856\n",
            "  0.52155422 0.57720537 0.42332004 0.26020409 0.78299397 0.25868295\n",
            "  0.69071305 0.34603751 0.44269927 0.37979904 0.54220928 0.87988163\n",
            "  0.70999394 0.69354221 0.48512611 0.24002527 0.70378278 0.12795182\n",
            "  0.82688434 0.20444838 0.2838044  0.21570621 0.55844901 0.48008456\n",
            "  0.80357099 0.46012374 0.70536891 0.44634357 0.36254877 0.60685697\n",
            "  0.35726878 0.62291557 0.76423798 0.71828834 0.36270861 0.71487024\n",
            "  0.58058392 0.53591648 0.04355025 0.68948498 0.28006521 0.77447614\n",
            "  0.64744987 0.14658593 0.72379157 0.34938111 0.19574114 0.02290933\n",
            "  0.3044023  0.28242391 0.63519866 0.54339167 0.71018047 0.32104496\n",
            "  0.22923501 0.69287124 0.75784021 0.39944691 0.14100994 0.72610452\n",
            "  0.51661825 0.24137762 0.3685287  0.44531251 0.19996838 0.30902413\n",
            "  0.59302697 0.58050052 0.30811291 0.48372478 0.29390888 0.32768008\n",
            "  0.40130971 0.12036706 0.29323574 0.71158532 0.5130403  0.71912986\n",
            "  0.71357954 0.5217845  0.55505794 0.82486087 0.82495265 0.23936363\n",
            "  0.51079029 0.39622922 0.65555607 0.63576228 0.         0.43407787\n",
            "  0.47310794 0.62889679 0.48625086 0.25783684]\n",
            " [0.7224672  0.55719624 0.23100185 0.23550477 0.66299788 0.76516651\n",
            "  0.60421705 0.53713481 0.4261419  0.18371435 0.89466916 0.30418741\n",
            "  0.61543692 0.09129871 0.62223548 0.19981162 0.38264754 0.7367837\n",
            "  0.76746339 0.679327   0.49982426 0.36799686 0.82227449 0.51861905\n",
            "  0.73220924 0.33198025 0.43964649 0.31047274 0.62723705 0.39829733\n",
            "  0.78002035 0.36124007 0.53532166 0.47420998 0.50375649 0.76576285\n",
            "  0.0774327  0.79269444 0.49391668 0.74117344 0.13680589 0.71977438\n",
            "  0.51601834 0.15857426 0.41215765 1.02298478 0.50452191 0.57378986\n",
            "  0.48902146 0.57430726 0.53676838 0.67405514 0.32602013 0.43187829\n",
            "  0.73402035 0.59542421 0.7545963  0.11182965 0.50837782 0.148586\n",
            "  0.66206306 0.93134141 0.63688018 0.32475417 0.49495272 0.75253017\n",
            "  0.75514462 0.39973376 0.63154054 0.12336366 0.25567064 0.35909341\n",
            "  0.84069221 0.84367983 0.24183956 0.52696802 0.70736756 0.75104619\n",
            "  0.23207192 0.55373409 0.14479764 0.92120681 0.47303355 0.77535383\n",
            "  0.70241077 0.73784843 0.63993013 0.80862709 0.63051032 0.1947616\n",
            "  0.75119037 0.08093352 0.54637994 0.52824589 0.43407787 0.\n",
            "  0.07066176 0.96069846 0.4552419  0.69143446]\n",
            " [0.78977274 0.61198439 0.29762894 0.30523489 0.73364327 0.83414254\n",
            "  0.67480692 0.60648344 0.49678737 0.23838121 0.96532473 0.36968282\n",
            "  0.68226037 0.14896995 0.69075307 0.27046924 0.44868215 0.79661922\n",
            "  0.83782699 0.74832652 0.57045397 0.37004902 0.89291608 0.56777689\n",
            "  0.79630222 0.34270321 0.505704   0.32063801 0.69789882 0.46804314\n",
            "  0.84790361 0.43105029 0.59612546 0.54484746 0.57214314 0.83579828\n",
            "  0.13217549 0.86258927 0.54166827 0.81093953 0.20678655 0.78914469\n",
            "  0.58469707 0.20159285 0.44624578 1.08529249 0.56858103 0.63012303\n",
            "  0.55210282 0.60736512 0.595677   0.73424703 0.38590407 0.4738364\n",
            "  0.77670379 0.60370867 0.82516805 0.08152653 0.56627205 0.21409268\n",
            "  0.69716616 0.9995553  0.70022589 0.39540173 0.54759197 0.8223345\n",
            "  0.8223227  0.46383017 0.69588461 0.1891146  0.30991171 0.42755996\n",
            "  0.90801192 0.91018684 0.31019962 0.59762417 0.75554183 0.79656084\n",
            "  0.30244226 0.59041396 0.19825723 0.99046874 0.54302721 0.84567869\n",
            "  0.771354   0.80592912 0.71056303 0.87664491 0.68638364 0.23701951\n",
            "  0.81824156 0.07906374 0.612135   0.59443735 0.47310794 0.07066176\n",
            "  0.         1.02284576 0.52557258 0.73071032]\n",
            " [0.28552684 0.93886624 0.83700529 0.79490355 0.48872845 0.65161515\n",
            "  0.5006221  0.65920859 0.61814449 0.7862317  0.48739665 0.65819073\n",
            "  0.7296874  0.8739031  0.3905507  0.79423255 0.78571516 0.90692744\n",
            "  0.55012847 0.64949288 0.59306508 0.8678652  0.45145367 0.50117922\n",
            "  0.8130807  0.83293847 0.52710918 0.84247079 0.5161814  0.70029379\n",
            "  0.7032926  0.71769116 0.85156818 0.58463065 0.48674738 0.37375151\n",
            "  0.89068175 0.35425899 0.99976717 0.60410079 0.83308818 0.62902202\n",
            "  0.68910269 0.97768407 0.67224945 0.06256681 0.4574393  0.92209058\n",
            "  0.81493264 0.59791438 0.88004307 0.2913738  0.63721379 0.61302787\n",
            "  0.43572351 0.81130896 0.43983841 1.06802457 0.89085207 0.81231277\n",
            "  0.54737778 0.22789932 0.81459437 0.70122723 0.49976079 0.60130414\n",
            "  0.25819105 0.56159396 0.33297594 0.89807471 0.7172554  0.6178244\n",
            "  0.20988313 0.18180292 0.72678794 0.55854171 0.37883582 0.39251275\n",
            "  0.78300799 0.57554156 0.8260053  0.28979113 0.65505093 0.55454982\n",
            "  0.65131626 0.29470286 0.49355516 0.70248569 0.94225332 0.80179326\n",
            "  0.25807616 0.96150403 0.76028827 0.75229277 0.62889679 0.96069846\n",
            "  1.02284576 0.         0.6456843  0.49158044]\n",
            " [0.36161637 0.32309668 0.24220366 0.22133883 0.21909569 0.318519\n",
            "  0.16886605 0.0959741  0.06312302 0.37095228 0.4431899  0.24669769\n",
            "  0.20597565 0.40627793 0.25518968 0.25691542 0.14126377 0.39450739\n",
            "  0.31225772 0.23447496 0.05624344 0.63220765 0.37540768 0.45037155\n",
            "  0.34237937 0.57832429 0.21957877 0.56910153 0.18075805 0.06442454\n",
            "  0.34381346 0.09771414 0.24036336 0.06423373 0.18528563 0.34199424\n",
            "  0.42143949 0.37115173 0.36098484 0.28824154 0.32570857 0.2702377\n",
            "  0.09433604 0.38968489 0.50700707 0.70072453 0.27327436 0.31557817\n",
            "  0.18819266 0.60668456 0.26528657 0.43042443 0.30022609 0.46541797\n",
            "  0.64939775 0.76572693 0.31312733 0.53066    0.26447918 0.33969425\n",
            "  0.6538739  0.53522553 0.27229088 0.13423652 0.40668105 0.29928632\n",
            "  0.39187399 0.24796497 0.3416141  0.34283271 0.3536134  0.1795469\n",
            "  0.46560553 0.48126364 0.24994202 0.09193783 0.58188135 0.63866178\n",
            "  0.22317001 0.56842788 0.39124626 0.5072846  0.02688517 0.32011422\n",
            "  0.25748572 0.36018742 0.19836361 0.37018021 0.35670253 0.4200021\n",
            "  0.39067884 0.50447313 0.17210529 0.15351148 0.48625086 0.4552419\n",
            "  0.52557258 0.6456843  0.         0.64440437]\n",
            " [0.48525788 0.96064337 0.69318006 0.64664765 0.65024049 0.85553325\n",
            "  0.61215528 0.71930062 0.58425612 0.51387544 0.80567236 0.47195693\n",
            "  0.83024022 0.60243847 0.49320037 0.61413408 0.73782073 1.02960278\n",
            "  0.77723129 0.80298657 0.62233616 0.44460776 0.73372447 0.20174682\n",
            "  0.95927795 0.43050326 0.42558372 0.44813859 0.64807893 0.6604612\n",
            "  0.90315879 0.65146408 0.88279775 0.58823339 0.4722201  0.62698928\n",
            "  0.61432723 0.63177622 0.97221746 0.80411789 0.61013484 0.81104878\n",
            "  0.73301449 0.78431817 0.28625094 0.54238907 0.3756418  0.95689999\n",
            "  0.82733261 0.13746656 0.90573872 0.30189158 0.41309268 0.25988619\n",
            "  0.06201654 0.32496575 0.67681368 0.80115754 0.89891445 0.57082313\n",
            "  0.05763411 0.63466156 0.90941398 0.5986036  0.24352655 0.8087955\n",
            "  0.49546678 0.40925187 0.37931781 0.69275383 0.44754769 0.49369937\n",
            "  0.54514726 0.52121319 0.5366219  0.60675135 0.11757479 0.1031915\n",
            "  0.62782869 0.14189548 0.54906054 0.67406421 0.66868664 0.78568865\n",
            "  0.81846501 0.5184489  0.63594032 0.91811289 1.00078087 0.49694833\n",
            "  0.48961307 0.65335175 0.81486361 0.79725051 0.25783684 0.69143446\n",
            "  0.73071032 0.49158044 0.64440437 0.        ]]\n"
          ]
        }
      ],
      "source": [
        "Z = np.random.random((100,2))\n",
        "X,Y = np.atleast_2d(Z[:,0], Z[:,1])\n",
        "D = np.sqrt( (X-X.T)**2 + (Y-Y.T)**2)\n",
        "print(D)\n"
      ]
    },
    {
      "cell_type": "markdown",
      "metadata": {
        "id": "Dzkyu-Bi-bK0"
      },
      "source": [
        "#### 53. How to convert a float (32 bits) array into an integer (32 bits) in place? \n",
        "(**hint**: astype(copy=False))"
      ]
    },
    {
      "cell_type": "code",
      "execution_count": 156,
      "metadata": {
        "colab": {
          "base_uri": "https://localhost:8080/"
        },
        "id": "XiQlElE2-bLL",
        "outputId": "2cbe07d7-f379-4832-e68e-36bb87f0ef78"
      },
      "outputs": [
        {
          "output_type": "stream",
          "name": "stdout",
          "text": [
            "[0. 1. 2. 3. 4. 5. 6. 7. 8. 9.]\n"
          ]
        }
      ],
      "source": [
        "array = np.arange(10, dtype=np.int32)\n",
        "array = array.astype(np.float32, copy=False)\n",
        "print(array)"
      ]
    },
    {
      "cell_type": "markdown",
      "metadata": {
        "id": "s9we8COg-bLS"
      },
      "source": [
        "#### 54. How to read the following file? (★★☆) \n",
        "(**hint**: np.genfromtxt)"
      ]
    },
    {
      "cell_type": "markdown",
      "metadata": {
        "id": "pUeNoU9N-bLS"
      },
      "source": [
        "```\n",
        "1, 2, 3, 4, 5\n",
        "6,  ,  , 7, 8\n",
        " ,  , 9,10,11\n",
        "```"
      ]
    },
    {
      "cell_type": "code",
      "execution_count": 157,
      "metadata": {
        "colab": {
          "base_uri": "https://localhost:8080/"
        },
        "id": "YGmLoSdp-bLT",
        "outputId": "52f0041b-9b1f-43c0-d16d-ebe4c197086a"
      },
      "outputs": [
        {
          "output_type": "stream",
          "name": "stdout",
          "text": [
            "[[ 1  2  3  4  5]\n",
            " [ 6 -1 -1  7  8]\n",
            " [-1 -1  9 10 11]]\n"
          ]
        },
        {
          "output_type": "stream",
          "name": "stderr",
          "text": [
            "/usr/local/lib/python3.7/dist-packages/ipykernel_launcher.py:5: DeprecationWarning: `np.int` is a deprecated alias for the builtin `int`. To silence this warning, use `int` by itself. Doing this will not modify any behavior and is safe. When replacing `np.int`, you may wish to use e.g. `np.int64` or `np.int32` to specify the precision. If you wish to review your current use, check the release note link for additional information.\n",
            "Deprecated in NumPy 1.20; for more details and guidance: https://numpy.org/devdocs/release/1.20.0-notes.html#deprecations\n",
            "  \"\"\"\n"
          ]
        }
      ],
      "source": [
        "from io import StringIO\n",
        "s = StringIO(\"\"\"1, 2, 3, 4, 5\\n\n",
        "                6,  ,  , 7, 8\\n\n",
        "                 ,  , 9,10,11\\n\"\"\")\n",
        "x = np.genfromtxt(s, delimiter=\",\", dtype=np.int)\n",
        "print(x)"
      ]
    },
    {
      "cell_type": "markdown",
      "metadata": {
        "id": "fEMAmUfN-bLT"
      },
      "source": [
        "#### 55. What is the equivalent of enumerate for numpy arrays? (★★☆) \n",
        "(**hint**: np.ndenumerate, np.ndindex)"
      ]
    },
    {
      "cell_type": "code",
      "execution_count": 160,
      "metadata": {
        "colab": {
          "base_uri": "https://localhost:8080/"
        },
        "id": "oyljZy9_-bLT",
        "outputId": "5d4d4188-cd00-460d-b026-60de6286b346"
      },
      "outputs": [
        {
          "output_type": "stream",
          "name": "stdout",
          "text": [
            "(0, 0) 0\n",
            "(0, 1) 1\n",
            "(0, 2) 2\n",
            "(1, 0) 3\n",
            "(1, 1) 4\n",
            "(1, 2) 5\n",
            "(2, 0) 6\n",
            "(2, 1) 7\n",
            "(2, 2) 8\n",
            "(0, 0) 0\n",
            "(0, 1) 1\n",
            "(0, 2) 2\n",
            "(1, 0) 3\n",
            "(1, 1) 4\n",
            "(1, 2) 5\n",
            "(2, 0) 6\n",
            "(2, 1) 7\n",
            "(2, 2) 8\n"
          ]
        }
      ],
      "source": [
        "array= np.arange(9).reshape(3,3)\n",
        "\n",
        "for index, value in np.ndenumerate(array):\n",
        "  print(index, value)\n",
        "\n",
        "for index in np.ndindex(array.shape):\n",
        "  print(index, array[index])"
      ]
    },
    {
      "cell_type": "markdown",
      "metadata": {
        "id": "qIwdFJGB-bLT"
      },
      "source": [
        "#### 56. Generate a generic 2D Gaussian-like array (★★☆) \n",
        "(**hint**: np.meshgrid, np.exp)"
      ]
    },
    {
      "cell_type": "code",
      "execution_count": 162,
      "metadata": {
        "colab": {
          "base_uri": "https://localhost:8080/"
        },
        "id": "hVsr2HuM-bLU",
        "outputId": "430b26ed-5e85-4487-a538-5b2816a95ae6"
      },
      "outputs": [
        {
          "output_type": "stream",
          "name": "stdout",
          "text": [
            "[[0.36787944 0.44822088 0.51979489 0.57375342 0.60279818 0.60279818\n",
            "  0.57375342 0.51979489 0.44822088 0.36787944]\n",
            " [0.44822088 0.54610814 0.63331324 0.69905581 0.73444367 0.73444367\n",
            "  0.69905581 0.63331324 0.54610814 0.44822088]\n",
            " [0.51979489 0.63331324 0.73444367 0.81068432 0.85172308 0.85172308\n",
            "  0.81068432 0.73444367 0.63331324 0.51979489]\n",
            " [0.57375342 0.69905581 0.81068432 0.89483932 0.9401382  0.9401382\n",
            "  0.89483932 0.81068432 0.69905581 0.57375342]\n",
            " [0.60279818 0.73444367 0.85172308 0.9401382  0.98773022 0.98773022\n",
            "  0.9401382  0.85172308 0.73444367 0.60279818]\n",
            " [0.60279818 0.73444367 0.85172308 0.9401382  0.98773022 0.98773022\n",
            "  0.9401382  0.85172308 0.73444367 0.60279818]\n",
            " [0.57375342 0.69905581 0.81068432 0.89483932 0.9401382  0.9401382\n",
            "  0.89483932 0.81068432 0.69905581 0.57375342]\n",
            " [0.51979489 0.63331324 0.73444367 0.81068432 0.85172308 0.85172308\n",
            "  0.81068432 0.73444367 0.63331324 0.51979489]\n",
            " [0.44822088 0.54610814 0.63331324 0.69905581 0.73444367 0.73444367\n",
            "  0.69905581 0.63331324 0.54610814 0.44822088]\n",
            " [0.36787944 0.44822088 0.51979489 0.57375342 0.60279818 0.60279818\n",
            "  0.57375342 0.51979489 0.44822088 0.36787944]]\n"
          ]
        }
      ],
      "source": [
        "x, y = np.meshgrid(np.linspace(-1,1,10), np.linspace(-1,1,10))\n",
        "d = np.sqrt(x*x+y*y)\n",
        "sigma, mu = 1.0, 0.0\n",
        "g = np.exp(-( (d-mu)**2 / ( 2.0 * sigma**2 ) ) )\n",
        "print(g)"
      ]
    },
    {
      "cell_type": "markdown",
      "metadata": {
        "id": "BflZ72eO-bLU"
      },
      "source": [
        "#### 57. How to randomly place p elements in a 2D array? (★★☆) \n",
        "(**hint**: np.put, np.random.choice)"
      ]
    },
    {
      "cell_type": "code",
      "execution_count": 174,
      "metadata": {
        "colab": {
          "base_uri": "https://localhost:8080/"
        },
        "id": "bxrirCDJ-bLU",
        "outputId": "83c678be-13a6-4c60-a6ff-0c4177052709"
      },
      "outputs": [
        {
          "output_type": "stream",
          "name": "stdout",
          "text": [
            "[[ 0.  0.  0.  0.  0.  0.  0.  0.  0.  0.]\n",
            " [20.  0.  0.  0.  0.  0.  0.  0.  0.  0.]\n",
            " [ 0.  0. 20.  0.  0.  0.  0.  0.  0.  0.]\n",
            " [ 0.  0.  0.  0.  0.  0.  0.  0.  0.  0.]\n",
            " [ 0.  0.  0.  0.  0.  0.  0.  0.  0.  0.]\n",
            " [ 0.  0.  0.  0.  0.  0. 20.  0.  0.  0.]\n",
            " [ 0.  0.  0.  0.  0.  0.  0.  0.  0.  0.]\n",
            " [ 0.  0.  0.  0.  0.  0.  0.  0.  0.  0.]\n",
            " [20.  0.  0.  0.  0.  0.  0.  0.  0.  0.]\n",
            " [ 0.  0.  0. 20.  0.  0.  0.  0.  0.  0.]]\n"
          ]
        }
      ],
      "source": [
        "place= 5\n",
        "array= np.zeros((10,10))\n",
        "np.put(array, np.random.choice(range(10*10),place, replace=False),20)\n",
        "print(array)"
      ]
    },
    {
      "cell_type": "markdown",
      "metadata": {
        "id": "2whaGxR_-bLU"
      },
      "source": [
        "#### 58. Subtract the mean of each row of a matrix (★★☆) \n",
        "(**hint**: mean(axis=,keepdims=))"
      ]
    },
    {
      "cell_type": "code",
      "execution_count": 177,
      "metadata": {
        "colab": {
          "base_uri": "https://localhost:8080/"
        },
        "id": "rt8G9L_R-bLV",
        "outputId": "7bedbd79-8c1b-4c43-c655-68970f06e1b2"
      },
      "outputs": [
        {
          "output_type": "stream",
          "name": "stdout",
          "text": [
            "[[ 0.09279235 -0.50757344 -0.01121953  0.28339385  0.14260677]\n",
            " [ 0.16356055 -0.39569653 -0.07214697  0.08373305  0.2205499 ]\n",
            " [-0.40376326  0.41631569 -0.0561859   0.06338536 -0.0197519 ]\n",
            " [-0.48520755  0.34739442  0.40560927  0.21454209 -0.48233822]\n",
            " [ 0.03693936  0.36470653  0.38241737 -0.41495074 -0.36911252]]\n"
          ]
        }
      ],
      "source": [
        "X = np.random.rand(5,5)\n",
        "Y = X - X.mean(axis=1, keepdims=True)\n",
        "print(Y)"
      ]
    },
    {
      "cell_type": "markdown",
      "metadata": {
        "id": "ZI1_nf0l-bLV"
      },
      "source": [
        "#### 59. How to sort an array by the nth column? (★★☆) \n",
        "(**hint**: argsort)"
      ]
    },
    {
      "cell_type": "code",
      "execution_count": 179,
      "metadata": {
        "colab": {
          "base_uri": "https://localhost:8080/"
        },
        "id": "YEvnzauy-bLV",
        "outputId": "5959ffd3-8114-4101-979d-470a7edd07da"
      },
      "outputs": [
        {
          "output_type": "stream",
          "name": "stdout",
          "text": [
            "[[6 5 4]\n",
            " [4 1 5]\n",
            " [7 2 7]]\n",
            "[[4 1 5]\n",
            " [7 2 7]\n",
            " [6 5 4]]\n"
          ]
        }
      ],
      "source": [
        "array= np.random.randint(0,10,(3,3))\n",
        "\n",
        "print(array)\n",
        "\n",
        "print(array[array[:,1].argsort()])"
      ]
    },
    {
      "cell_type": "markdown",
      "metadata": {
        "id": "YYl54J5o-bLV"
      },
      "source": [
        "#### 60. How to tell if a given 2D array has null columns? (★★☆) \n",
        "(**hint**: any, ~)"
      ]
    },
    {
      "cell_type": "code",
      "execution_count": 181,
      "metadata": {
        "colab": {
          "base_uri": "https://localhost:8080/"
        },
        "id": "YRYXOmfN-bLV",
        "outputId": "4b968d0f-26ec-482d-ba83-f8f7a5155d19"
      },
      "outputs": [
        {
          "output_type": "stream",
          "name": "stdout",
          "text": [
            "False\n"
          ]
        }
      ],
      "source": [
        "x = np.random.randint(0,5,(10,10))\n",
        "print((~x.any(axis=0)).any())"
      ]
    },
    {
      "cell_type": "markdown",
      "metadata": {
        "id": "O1onxErJ-bLW"
      },
      "source": [
        "#### 61. Find the nearest value from a given value in an array (★★☆) \n",
        "(**hint**: np.abs, argmin, flat)"
      ]
    },
    {
      "cell_type": "code",
      "execution_count": 184,
      "metadata": {
        "colab": {
          "base_uri": "https://localhost:8080/"
        },
        "id": "NSqIfnyo-bLW",
        "outputId": "6fd505b1-93dd-41c7-bcb2-a04bff14413b"
      },
      "outputs": [
        {
          "output_type": "stream",
          "name": "stdout",
          "text": [
            "0.49700401975121067\n"
          ]
        }
      ],
      "source": [
        "val = np.random.uniform(0,1,10)\n",
        "\n",
        "num = 0.5\n",
        "\n",
        "m = val.flat[np.abs(val - num).argmin()]\n",
        "\n",
        "print(m)"
      ]
    },
    {
      "cell_type": "markdown",
      "metadata": {
        "id": "nwIULXpX-bLd"
      },
      "source": [
        "#### 62. Considering two arrays with shape (1,3) and (3,1), how to compute their sum using an iterator? (★★☆) \n",
        "(**hint**: np.nditer)"
      ]
    },
    {
      "cell_type": "code",
      "execution_count": 185,
      "metadata": {
        "colab": {
          "base_uri": "https://localhost:8080/"
        },
        "id": "dXguwEMB-bLe",
        "outputId": "27aee1d2-2847-41a5-adca-68fb2759f508"
      },
      "outputs": [
        {
          "output_type": "stream",
          "name": "stdout",
          "text": [
            "[[0 1 2]\n",
            " [1 2 3]\n",
            " [2 3 4]]\n"
          ]
        }
      ],
      "source": [
        "A = np.arange(3).reshape(3,1)\n",
        "B = np.arange(3).reshape(1,3)\n",
        "it = np.nditer([A,B,None])\n",
        "for x,y,z in it: z[...] = x + y\n",
        "print(it.operands[2])"
      ]
    },
    {
      "cell_type": "markdown",
      "metadata": {
        "id": "LuUUZe9l-bLe"
      },
      "source": [
        "#### 63. Create an array class that has a name attribute (★★☆) \n",
        "(**hint**: class method)"
      ]
    },
    {
      "cell_type": "code",
      "execution_count": 186,
      "metadata": {
        "colab": {
          "base_uri": "https://localhost:8080/"
        },
        "id": "WZiuM2bn-bLe",
        "outputId": "13ba2843-c1ff-477f-84b7-9a2738b4f601"
      },
      "outputs": [
        {
          "output_type": "stream",
          "name": "stdout",
          "text": [
            "range_10\n"
          ]
        }
      ],
      "source": [
        "class NamedArray(np.ndarray):\n",
        "    def __new__(cls, array, name=\"no name\"):\n",
        "        obj = np.asarray(array).view(cls)\n",
        "        obj.name = name\n",
        "        return obj\n",
        "    def __array_finalize__(self, obj):\n",
        "        if obj is None: return\n",
        "        self.info = getattr(obj, 'name', \"no name\")\n",
        "\n",
        "array = NamedArray(np.arange(10), \"range_10\")\n",
        "print (array.name)"
      ]
    },
    {
      "cell_type": "markdown",
      "metadata": {
        "id": "nGo4oUU3-bLf"
      },
      "source": [
        "#### 64. Consider a given vector, how to add 1 to each element indexed by a second vector (be careful with repeated indices)? (★★★) \n",
        "(**hint**: np.bincount | np.add.at)"
      ]
    },
    {
      "cell_type": "code",
      "execution_count": 191,
      "metadata": {
        "colab": {
          "base_uri": "https://localhost:8080/"
        },
        "id": "y8FNm2IS-bLf",
        "outputId": "7378f15e-7bd4-4360-85b7-9c0465a3914b"
      },
      "outputs": [
        {
          "output_type": "stream",
          "name": "stdout",
          "text": [
            "[1. 3. 5. 4. 3. 3. 3. 4. 2. 2.]\n",
            "[1. 5. 9. 7. 5. 5. 5. 7. 3. 3.]\n"
          ]
        }
      ],
      "source": [
        "Z = np.ones(10)\n",
        "I = np.random.randint(0,len(Z),20)\n",
        "Z += np.bincount(I, minlength=len(Z))\n",
        "print(Z)\n",
        "\n",
        "np.add.at(Z, I, 1)\n",
        "print(Z)"
      ]
    },
    {
      "cell_type": "markdown",
      "metadata": {
        "id": "Sd0Q0goW-bLf"
      },
      "source": [
        "#### 65. How to accumulate elements of a vector (X) to an array (F) based on an index list (I)? (★★★) \n",
        "(**hint**: np.bincount)"
      ]
    },
    {
      "cell_type": "code",
      "execution_count": 193,
      "metadata": {
        "colab": {
          "base_uri": "https://localhost:8080/"
        },
        "id": "GPGgeZRx-bLf",
        "outputId": "f418cd20-34da-4696-96c2-1cc9554acff8"
      },
      "outputs": [
        {
          "output_type": "stream",
          "name": "stdout",
          "text": [
            "[0. 7. 0. 6. 5. 0. 0. 0. 0. 3.]\n"
          ]
        }
      ],
      "source": [
        "X = [1,2,3,4,5,6]\n",
        "I = [1,3,9,3,4,1]\n",
        "F = np.bincount(I,X)\n",
        "print(F)"
      ]
    },
    {
      "cell_type": "markdown",
      "metadata": {
        "id": "564L0o_l-bLg"
      },
      "source": [
        "#### 66. Considering a (w,h,3) image of (dtype=ubyte), compute the number of unique colors (★★★) \n",
        "(**hint**: np.unique)"
      ]
    },
    {
      "cell_type": "code",
      "execution_count": 195,
      "metadata": {
        "colab": {
          "base_uri": "https://localhost:8080/"
        },
        "id": "9jwA6KGb-bLg",
        "outputId": "8baa740d-1e80-4402-ff44-f49587d4630c"
      },
      "outputs": [
        {
          "output_type": "stream",
          "name": "stdout",
          "text": [
            "[0 1]\n"
          ]
        }
      ],
      "source": [
        "w,h = 16,16\n",
        "I = np.random.randint(0,2,(h,w,3)).astype(np.ubyte)\n",
        "F = I[...,0]*256*256 + I[...,1]*256 +I[...,2]\n",
        "n = len(np.unique(F))\n",
        "print(np.unique(I))"
      ]
    },
    {
      "cell_type": "markdown",
      "metadata": {
        "id": "sGXGcy2y-bLg"
      },
      "source": [
        "#### 67. Considering a four dimensions array, how to get sum over the last two axis at once? (★★★) \n",
        "(**hint**: sum(axis=(-2,-1)))"
      ]
    },
    {
      "cell_type": "code",
      "execution_count": 196,
      "metadata": {
        "colab": {
          "base_uri": "https://localhost:8080/"
        },
        "id": "8dbb8oyJ-bLg",
        "outputId": "a425f21a-8b67-4823-e586-7a28e3a639df"
      },
      "outputs": [
        {
          "output_type": "stream",
          "name": "stdout",
          "text": [
            "[[55 56 45 38]\n",
            " [54 63 28 57]\n",
            " [55 44 59 40]]\n"
          ]
        }
      ],
      "source": [
        "array= np.random.randint(0,10,(3,4,3,4))\n",
        "sum = array.sum(axis=(-2,-1))\n",
        "print(sum)"
      ]
    },
    {
      "cell_type": "markdown",
      "metadata": {
        "id": "7iUtzCmu-bLg"
      },
      "source": [
        "#### 68. Considering a one-dimensional vector D, how to compute means of subsets of D using a vector S of same size describing subset  indices? (★★★) \n",
        "(**hint**: np.bincount)"
      ]
    },
    {
      "cell_type": "code",
      "execution_count": 197,
      "metadata": {
        "colab": {
          "base_uri": "https://localhost:8080/"
        },
        "id": "_LLtzNfV-bLh",
        "outputId": "b4c5a450-ab93-4cd2-e664-dee31c8bd299"
      },
      "outputs": [
        {
          "output_type": "stream",
          "name": "stdout",
          "text": [
            "[0.62777463 0.6228346  0.45345323 0.44699313 0.51778538 0.52981783\n",
            " 0.59625031 0.29877697 0.50699517 0.40802726]\n"
          ]
        }
      ],
      "source": [
        "D = np.random.uniform(0,1,100)\n",
        "S = np.random.randint(0,10,100)\n",
        "D_sums = np.bincount(S, weights=D)\n",
        "D_counts = np.bincount(S)\n",
        "D_means = D_sums / D_counts\n",
        "print(D_means)"
      ]
    },
    {
      "cell_type": "markdown",
      "metadata": {
        "id": "vRVoXJhK-bLh"
      },
      "source": [
        "#### 69. How to get the diagonal of a dot product? (★★★) \n",
        "(**hint**: np.diag)"
      ]
    },
    {
      "cell_type": "code",
      "execution_count": 198,
      "metadata": {
        "colab": {
          "base_uri": "https://localhost:8080/"
        },
        "id": "R_DAWD9y-bLh",
        "outputId": "5c7a45aa-04a0-41f8-82d7-4706cbfc4255"
      },
      "outputs": [
        {
          "output_type": "execute_result",
          "data": {
            "text/plain": [
              "array([1.11225233, 0.94993459, 1.32731753, 1.23745222, 1.64828822])"
            ]
          },
          "metadata": {},
          "execution_count": 198
        }
      ],
      "source": [
        "A = np.random.uniform(0,1,(5,5))\n",
        "B = np.random.uniform(0,1,(5,5))\n",
        "np.diag(np.dot(A, B))"
      ]
    },
    {
      "cell_type": "markdown",
      "metadata": {
        "id": "iQoQIXM7-bLh"
      },
      "source": [
        "#### 70. Consider the vector \\[1, 2, 3, 4, 5\\], how to build a new vector with 3 consecutive zeros interleaved between each value? (★★★) \n",
        "(**hint**: array\\[::4\\])"
      ]
    },
    {
      "cell_type": "code",
      "execution_count": 205,
      "metadata": {
        "colab": {
          "base_uri": "https://localhost:8080/"
        },
        "id": "r9x_aZ3m-bLi",
        "outputId": "ce09caf5-bebb-4bcf-ea40-57011ff3d4fe"
      },
      "outputs": [
        {
          "output_type": "stream",
          "name": "stdout",
          "text": [
            "[1. 0. 0. 0. 2. 0. 0. 0. 3. 0. 0. 0. 4. 0. 0. 0. 5.]\n"
          ]
        }
      ],
      "source": [
        "x = np.array([1,2,3,4,5])\n",
        "vector = np.zeros(len(x) + (len(x)-1)*(3))\n",
        "vector[::4] = x\n",
        "print(vector)"
      ]
    },
    {
      "cell_type": "markdown",
      "metadata": {
        "id": "NuvDOFj5-bLi"
      },
      "source": [
        "#### 71. Consider an array of dimension (5,5,3), how to mulitply it by an array with dimensions (5,5)? (★★★) \n",
        "(**hint**: array\\[:, :, None\\])"
      ]
    },
    {
      "cell_type": "code",
      "execution_count": 206,
      "metadata": {
        "collapsed": true,
        "colab": {
          "base_uri": "https://localhost:8080/"
        },
        "id": "Z_6d3VTM-bLi",
        "outputId": "a84e589a-78db-4ea0-c02c-a52b6a9b4551"
      },
      "outputs": [
        {
          "output_type": "stream",
          "name": "stdout",
          "text": [
            "[[[2. 2. 2.]\n",
            "  [2. 2. 2.]\n",
            "  [2. 2. 2.]\n",
            "  [2. 2. 2.]\n",
            "  [2. 2. 2.]]\n",
            "\n",
            " [[2. 2. 2.]\n",
            "  [2. 2. 2.]\n",
            "  [2. 2. 2.]\n",
            "  [2. 2. 2.]\n",
            "  [2. 2. 2.]]\n",
            "\n",
            " [[2. 2. 2.]\n",
            "  [2. 2. 2.]\n",
            "  [2. 2. 2.]\n",
            "  [2. 2. 2.]\n",
            "  [2. 2. 2.]]\n",
            "\n",
            " [[2. 2. 2.]\n",
            "  [2. 2. 2.]\n",
            "  [2. 2. 2.]\n",
            "  [2. 2. 2.]\n",
            "  [2. 2. 2.]]\n",
            "\n",
            " [[2. 2. 2.]\n",
            "  [2. 2. 2.]\n",
            "  [2. 2. 2.]\n",
            "  [2. 2. 2.]\n",
            "  [2. 2. 2.]]]\n"
          ]
        }
      ],
      "source": [
        "A = np.ones((5,5,3))\n",
        "B = 2*np.ones((5,5))\n",
        "print(A * B[:,:,None])"
      ]
    },
    {
      "cell_type": "markdown",
      "metadata": {
        "id": "Tgk1cffR-bLl"
      },
      "source": [
        "#### 72. How to swap two rows of an array? (★★★) \n",
        "(**hint**: array\\[\\[\\]\\] = array\\[\\[\\]\\])"
      ]
    },
    {
      "cell_type": "code",
      "execution_count": 211,
      "metadata": {
        "colab": {
          "base_uri": "https://localhost:8080/"
        },
        "id": "ADHb-YFQ-bLl",
        "outputId": "33394592-ed60-41dc-a178-67406273508d"
      },
      "outputs": [
        {
          "output_type": "stream",
          "name": "stdout",
          "text": [
            "[[ 5  6  7  8  9]\n",
            " [ 0  1  2  3  4]\n",
            " [10 11 12 13 14]\n",
            " [15 16 17 18 19]\n",
            " [20 21 22 23 24]]\n"
          ]
        }
      ],
      "source": [
        "array = np.arange(25).reshape(5,5)\n",
        "\n",
        "array[[0,1]] = array[[1,0]]\n",
        "\n",
        "print(array)"
      ]
    },
    {
      "cell_type": "markdown",
      "metadata": {
        "id": "b5cI5_rM-bLm"
      },
      "source": [
        "#### 73. Consider a set of 10 triplets describing 10 triangles (with shared vertices), find the set of unique line segments composing all the  triangles (★★★) \n",
        "(**hint**: repeat, np.roll, np.sort, view, np.unique)"
      ]
    },
    {
      "cell_type": "code",
      "execution_count": 212,
      "metadata": {
        "colab": {
          "base_uri": "https://localhost:8080/"
        },
        "id": "IW5Ib2nB-bLm",
        "outputId": "beba2bf7-2b59-4b77-dd15-e8f6aae8f58b"
      },
      "outputs": [
        {
          "output_type": "stream",
          "name": "stdout",
          "text": [
            "[( 1,  8) ( 1, 17) ( 1, 65) ( 1, 70) ( 1, 75) ( 1, 93) ( 6, 33) ( 6, 51)\n",
            " ( 8, 65) (17, 70) (26, 46) (26, 59) (33, 51) (35, 64) (35, 70) (39, 47)\n",
            " (39, 92) (45, 69) (45, 92) (46, 59) (47, 92) (48, 72) (48, 81) (48, 88)\n",
            " (48, 90) (64, 70) (69, 92) (72, 90) (75, 93) (81, 88)]\n"
          ]
        }
      ],
      "source": [
        "faces = np.random.randint(0,100,(10,3))\n",
        "\n",
        "F = np.roll(faces.repeat(2,axis=1),-1,axis=1)\n",
        "\n",
        "F = F.reshape(len(F)*3,2)\n",
        "\n",
        "F = np.sort(F,axis=1)\n",
        "\n",
        "G = F.view( dtype=[('p0',F.dtype),('p1',F.dtype)] )\n",
        "\n",
        "G = np.unique(G)\n",
        "\n",
        "print(G)"
      ]
    },
    {
      "cell_type": "markdown",
      "metadata": {
        "id": "SM7pmlwH-bLm"
      },
      "source": [
        "#### 74. Given an array C that is a bincount, how to produce an array A such that np.bincount(A) == C? (★★★) \n",
        "(**hint**: np.repeat)"
      ]
    },
    {
      "cell_type": "code",
      "execution_count": 219,
      "metadata": {
        "colab": {
          "base_uri": "https://localhost:8080/"
        },
        "id": "Ubo8uyZu-bLo",
        "outputId": "01e30aec-56a8-4261-ff92-208388362d57"
      },
      "outputs": [
        {
          "output_type": "stream",
          "name": "stdout",
          "text": [
            "[1 1 2 3 4 4 6]\n"
          ]
        }
      ],
      "source": [
        "c = np.bincount([1,1,2,3,4,4,6])\n",
        "a = np.repeat(np.arange(len(c)),c)\n",
        "print(a)"
      ]
    },
    {
      "cell_type": "markdown",
      "metadata": {
        "id": "B9NFsIvG-bL5"
      },
      "source": [
        "#### 75. How to compute averages using a sliding window over an array? (★★★) \n",
        "(**hint**: np.cumsum)"
      ]
    },
    {
      "cell_type": "code",
      "execution_count": 221,
      "metadata": {
        "colab": {
          "base_uri": "https://localhost:8080/"
        },
        "id": "NAEIg7xn-bL6",
        "outputId": "a921cf01-3a6c-4b42-db27-5deb46a63316"
      },
      "outputs": [
        {
          "output_type": "stream",
          "name": "stdout",
          "text": [
            "[ 1.  2.  3.  4.  5.  6.  7.  8.  9. 10. 11. 12. 13. 14. 15. 16. 17. 18.]\n"
          ]
        }
      ],
      "source": [
        "def moving_average(a, n=3) :\n",
        "    ret = np.cumsum(a, dtype=float)\n",
        "    ret[n:] = ret[n:] - ret[:-n]\n",
        "    return ret[n - 1:] / n\n",
        "array = np.arange(20)\n",
        "print(moving_average(array, n=3))"
      ]
    },
    {
      "cell_type": "markdown",
      "metadata": {
        "id": "5X9zDj8P-bL6"
      },
      "source": [
        "#### 76. Consider a one-dimensional array Z, build a two-dimensional array whose first row is (Z\\[0\\],Z\\[1\\],Z\\[2\\]) and each subsequent row is  shifted by 1 (last row should be (Z\\[-3\\],Z\\[-2\\],Z\\[-1\\]) (★★★) \n",
        "(**hint**: from numpy.lib import stride_tricks)"
      ]
    },
    {
      "cell_type": "code",
      "execution_count": 223,
      "metadata": {
        "colab": {
          "base_uri": "https://localhost:8080/"
        },
        "id": "rTzPWGMB-bL6",
        "outputId": "d6b8cf10-1252-4a34-fca4-d4b4e7015ead"
      },
      "outputs": [
        {
          "output_type": "stream",
          "name": "stdout",
          "text": [
            "[[0 1 2]\n",
            " [1 2 3]\n",
            " [2 3 4]\n",
            " [3 4 5]\n",
            " [4 5 6]\n",
            " [5 6 7]\n",
            " [6 7 8]\n",
            " [7 8 9]]\n"
          ]
        }
      ],
      "source": [
        "from numpy.lib import stride_tricks\n",
        "\n",
        "def rolling(a, window):\n",
        "  shape = (a.size - window + 1, window)\n",
        "  strides = (a.itemsize, a.itemsize)\n",
        "  return stride_tricks.as_strided(a, shape=shape, strides=strides)\n",
        "\n",
        "Z = rolling(np.arange(10), 3)\n",
        "\n",
        "print(Z)"
      ]
    },
    {
      "cell_type": "markdown",
      "metadata": {
        "id": "EsoDAUCd-bL6"
      },
      "source": [
        "#### 77. How to negate a boolean, or to change the sign of a float inplace? (★★★) \n",
        "(**hint**: np.logical_not, np.negative)"
      ]
    },
    {
      "cell_type": "code",
      "execution_count": 224,
      "metadata": {
        "colab": {
          "base_uri": "https://localhost:8080/"
        },
        "id": "okrEaUaJ-bL7",
        "outputId": "560bdeea-05d9-4d0e-8f2d-49a1fdd8481d"
      },
      "outputs": [
        {
          "output_type": "execute_result",
          "data": {
            "text/plain": [
              "array([-0.14120782, -0.20651603, -0.5917706 , -0.68402595,  0.90178078,\n",
              "       -0.27878885, -0.25896239,  0.25832805, -0.58808462,  0.32765923,\n",
              "        0.19363576, -0.79884269,  0.9308566 ,  0.92627934, -0.19685818,\n",
              "       -0.46002816, -0.88431592,  0.0418928 ,  0.6645806 , -0.25945521,\n",
              "       -0.75726693,  0.72082769, -0.61659186, -0.59887655, -0.27544988,\n",
              "        0.9944655 , -0.46617054,  0.08096932,  0.78422159, -0.85387121,\n",
              "       -0.17074132, -0.7513638 ,  0.36517579,  0.55096036,  0.95873757,\n",
              "       -0.94002672,  0.76540741,  0.19791561, -0.07759433,  0.12990828,\n",
              "       -0.63700569, -0.32478548, -0.35305025,  0.97357756,  0.78229657,\n",
              "        0.96304324,  0.32842807, -0.76469832, -0.94084754, -0.98586115,\n",
              "        0.6452407 ,  0.97929701,  0.2856082 ,  0.40445845,  0.12528647,\n",
              "        0.50287005, -0.36902229, -0.42833241, -0.48681938, -0.37428123,\n",
              "       -0.61009299, -0.53506238, -0.0049802 ,  0.94467909,  0.24346287,\n",
              "        0.04641303, -0.62833161, -0.08042565, -0.52065404,  0.67589423,\n",
              "        0.57797699,  0.59250279,  0.47805306, -0.86789961,  0.70806987,\n",
              "        0.63019886,  0.25940281,  0.25447896,  0.23127888, -0.18873182,\n",
              "       -0.70184873, -0.19601582,  0.12012498,  0.36435572, -0.24402789,\n",
              "        0.62609514,  0.85823216,  0.52563418, -0.04959257, -0.87080792,\n",
              "       -0.67213466, -0.04230352,  0.31645085,  0.57832641, -0.26683578,\n",
              "        0.89179693,  0.35879219,  0.0392855 , -0.55524021, -0.15678967])"
            ]
          },
          "metadata": {},
          "execution_count": 224
        }
      ],
      "source": [
        "x = np.random.randint(0,2,100)\n",
        "np.logical_not(x, out=x)\n",
        "x = np.random.uniform(-1.0,1.0,100)\n",
        "np.negative(x, out=x)"
      ]
    },
    {
      "cell_type": "markdown",
      "metadata": {
        "id": "JBF6OYQF-bL7"
      },
      "source": [
        "#### 78. Consider 2 sets of points P0,P1 describing lines (2d) and a point p, how to compute distance from p to each line i  (P0\\[i\\],P1\\[i\\])? (★★★)"
      ]
    },
    {
      "cell_type": "code",
      "execution_count": 225,
      "metadata": {
        "colab": {
          "base_uri": "https://localhost:8080/"
        },
        "id": "F3R3NCj4-bL7",
        "outputId": "973c3a0c-03b5-4d5e-a7cd-4f5a38d58b7b"
      },
      "outputs": [
        {
          "output_type": "stream",
          "name": "stdout",
          "text": [
            "[ 4.7576733  13.08819097  0.57529256  4.90548246  4.03969133  0.878044\n",
            "  7.39196392  9.31013309 11.43352426 14.03989321]\n"
          ]
        }
      ],
      "source": [
        "def distance(P0, P1, p):\n",
        "    T = P1 - P0\n",
        "    L = (T**2).sum(axis=1)\n",
        "    U = -((P0[:,0]-p[...,0])*T[:,0] + (P0[:,1]-p[...,1])*T[:,1]) / L\n",
        "    U = U.reshape(len(U),1)\n",
        "    D = P0 + U*T - p\n",
        "    return np.sqrt((D**2).sum(axis=1))\n",
        "\n",
        "P0 = np.random.uniform(-10,10,(10,2))\n",
        "P1 = np.random.uniform(-10,10,(10,2))\n",
        "p  = np.random.uniform(-10,10,( 1,2))\n",
        "print(distance(P0, P1, p))"
      ]
    },
    {
      "cell_type": "markdown",
      "metadata": {
        "id": "5CFWvyfI-bL7"
      },
      "source": [
        "#### 79. Consider 2 sets of points P0,P1 describing lines (2d) and a set of points P, how to compute distance from each point j (P\\[j\\]) to each line i (P0\\[i\\],P1\\[i\\])? (★★★)"
      ]
    },
    {
      "cell_type": "code",
      "execution_count": 226,
      "metadata": {
        "colab": {
          "base_uri": "https://localhost:8080/"
        },
        "id": "KYHkuO-b-bL8",
        "outputId": "b018b13c-2f65-48f4-e9eb-d6d7b3b3dedd"
      },
      "outputs": [
        {
          "output_type": "stream",
          "name": "stdout",
          "text": [
            "[[10.80568952  4.17874824  0.83144454  4.93110245  5.44122802 11.39601347\n",
            "   6.84980328  4.1826179   9.0966255  10.27048239]\n",
            " [ 4.66008654  2.39595558  7.02036125  1.55515266  1.26769977  0.65862577\n",
            "   3.63957462 14.20819784 14.69616111 13.71386954]\n",
            " [12.51517372  5.85119679  0.13066942  3.33206422  7.10094613 11.58273178\n",
            "   7.65852925  4.49742215 10.44437625 11.8633426 ]\n",
            " [ 5.36198878  1.49078136  3.02028709  4.44422463  0.29781152  4.64682049\n",
            "   0.36127877 10.00191535 11.19090246 10.80468633]\n",
            " [ 0.08506438  6.60043339  4.45884848 13.09980183  5.2966662   7.97974548\n",
            "   0.02037259  4.64517103  2.82086664  2.15114656]\n",
            " [ 2.22372468  4.25405398  4.92187791 12.361973    2.9394339   9.80044455\n",
            "   2.29405931  3.33178892  3.0135958   2.87358411]\n",
            " [ 7.5456842   0.43516322  8.48272222  1.01358175  1.54450301  1.11769654\n",
            "   2.16606885 14.58009591 16.82185213 16.27152898]\n",
            " [ 4.31518781 10.88622376  3.87614614 14.6659461   9.59811364  4.88031533\n",
            "   3.96735844  6.78947557  2.22243689  0.61213969]\n",
            " [ 2.42230692  4.32905524  0.60698997  7.80613269  3.1021184   5.0010597\n",
            "   1.24332069  8.7120372   8.17254494  7.45036793]\n",
            " [ 9.20160688  2.70356253  3.62813863  7.95939748  4.0081262  12.90632807\n",
            "   7.36050702  2.01899282  6.08306285  7.24041138]]\n"
          ]
        }
      ],
      "source": [
        "P0 = np.random.uniform(-10, 10, (10,2))\n",
        "P1 = np.random.uniform(-10,10,(10,2))\n",
        "p = np.random.uniform(-10, 10, (10,2))\n",
        "print(np.array([distance(P0,P1,p_i) for p_i in p]))"
      ]
    },
    {
      "cell_type": "markdown",
      "metadata": {
        "id": "lPHOdZnv-bL8"
      },
      "source": [
        "#### 80. Consider an arbitrary array, write a function that extract a subpart with a fixed shape and centered on a given element (pad with a `fill` value when necessary) (★★★) \n",
        "(**hint**: minimum, maximum)"
      ]
    },
    {
      "cell_type": "code",
      "execution_count": 227,
      "metadata": {
        "colab": {
          "base_uri": "https://localhost:8080/"
        },
        "id": "VNuhcZk1-bL8",
        "outputId": "648e3425-472c-45e5-de6b-d2d19ac20a6f"
      },
      "outputs": [
        {
          "output_type": "stream",
          "name": "stdout",
          "text": [
            "[[1 1 3 9 7 8 0 5 8 5]\n",
            " [1 9 4 1 9 7 6 5 8 6]\n",
            " [1 7 5 3 1 8 7 0 2 6]\n",
            " [0 8 6 2 1 1 6 4 9 2]\n",
            " [2 3 3 5 4 6 7 7 1 3]\n",
            " [5 8 3 8 6 1 2 9 7 9]\n",
            " [5 4 9 7 0 9 6 5 0 4]\n",
            " [6 8 1 9 9 1 2 3 2 3]\n",
            " [5 5 5 2 4 1 3 8 5 7]\n",
            " [5 0 9 8 6 8 6 2 7 5]]\n",
            "[[0 0 0 0 0]\n",
            " [0 1 1 3 9]\n",
            " [0 1 9 4 1]\n",
            " [0 1 7 5 3]\n",
            " [0 0 8 6 2]]\n"
          ]
        },
        {
          "output_type": "stream",
          "name": "stderr",
          "text": [
            "/usr/local/lib/python3.7/dist-packages/ipykernel_launcher.py:23: FutureWarning: Using a non-tuple sequence for multidimensional indexing is deprecated; use `arr[tuple(seq)]` instead of `arr[seq]`. In the future this will be interpreted as an array index, `arr[np.array(seq)]`, which will result either in an error or a different result.\n"
          ]
        }
      ],
      "source": [
        "Z = np.random.randint(0,10,(10,10))\n",
        "shape = (5,5)\n",
        "fill  = 0\n",
        "position = (1,1)\n",
        "\n",
        "R = np.ones(shape, dtype=Z.dtype)*fill\n",
        "P  = np.array(list(position)).astype(int)\n",
        "Rs = np.array(list(R.shape)).astype(int)\n",
        "Zs = np.array(list(Z.shape)).astype(int)\n",
        "\n",
        "R_start = np.zeros((len(shape),)).astype(int)\n",
        "R_stop  = np.array(list(shape)).astype(int)\n",
        "Z_start = (P-Rs//2)\n",
        "Z_stop  = (P+Rs//2)+Rs%2\n",
        "\n",
        "R_start = (R_start - np.minimum(Z_start,0)).tolist()\n",
        "Z_start = (np.maximum(Z_start,0)).tolist()\n",
        "R_stop = np.maximum(R_start, (R_stop - np.maximum(Z_stop-Zs,0))).tolist()\n",
        "Z_stop = (np.minimum(Z_stop,Zs)).tolist()\n",
        "\n",
        "r = [slice(start,stop) for start,stop in zip(R_start,R_stop)]\n",
        "z = [slice(start,stop) for start,stop in zip(Z_start,Z_stop)]\n",
        "R[r] = Z[z]\n",
        "print(Z)\n",
        "print(R)"
      ]
    },
    {
      "cell_type": "markdown",
      "metadata": {
        "id": "E0ED_NBG-bL8"
      },
      "source": [
        "#### 81. Consider an array Z = \\[1,2,3,4,5,6,7,8,9,10,11,12,13,14\\], how to generate an array R = \\[\\[1,2,3,4\\], \\[2,3,4,5\\], \\[3,4,5,6\\], ..., \\[11,12,13,14\\]\\]? (★★★) \n",
        "(**hint**: stride\\_tricks.as\\_strided)"
      ]
    },
    {
      "cell_type": "code",
      "execution_count": 231,
      "metadata": {
        "colab": {
          "base_uri": "https://localhost:8080/"
        },
        "id": "CZWGksRU-bL9",
        "outputId": "ef586070-c65c-47df-b1ce-f0b00e98cdf9"
      },
      "outputs": [
        {
          "output_type": "stream",
          "name": "stdout",
          "text": [
            "[[ 1  2  3  4]\n",
            " [ 2  3  4  5]\n",
            " [ 3  4  5  6]\n",
            " [ 4  5  6  7]\n",
            " [ 5  6  7  8]\n",
            " [ 6  7  8  9]\n",
            " [ 7  8  9 10]\n",
            " [ 8  9 10 11]\n",
            " [ 9 10 11 12]\n",
            " [10 11 12 13]\n",
            " [11 12 13 14]]\n"
          ]
        }
      ],
      "source": [
        "Z = np.arange(1,15,dtype=np.uint32)\n",
        "\n",
        "R = stride_tricks.as_strided(Z,(11,4),(4,4))\n",
        "\n",
        "print(R)"
      ]
    },
    {
      "cell_type": "markdown",
      "metadata": {
        "id": "hR6QypWs-bL9"
      },
      "source": [
        "#### 82. Compute a matrix rank (★★★) \n",
        "(**hint**: np.linalg.svd) (suggestion: np.linalg.svd)"
      ]
    },
    {
      "cell_type": "code",
      "execution_count": 232,
      "metadata": {
        "colab": {
          "base_uri": "https://localhost:8080/"
        },
        "id": "BGAsCbRF-bL9",
        "outputId": "7e7cddde-3e59-40f9-b328-b24e3c4b1b41"
      },
      "outputs": [
        {
          "output_type": "stream",
          "name": "stdout",
          "text": [
            "10\n"
          ]
        }
      ],
      "source": [
        "h = np.random.uniform(0,1,(10,10))\n",
        "w,q,r = np.linalg.svd(h)\n",
        "rank = np.sum(q > 1e-10)\n",
        "print(rank)"
      ]
    },
    {
      "cell_type": "markdown",
      "metadata": {
        "id": "kVuHcmXD-bL9"
      },
      "source": [
        "#### 83. How to find the most frequent value in an array? \n",
        "(**hint**: np.bincount, argmax)"
      ]
    },
    {
      "cell_type": "code",
      "execution_count": 240,
      "metadata": {
        "colab": {
          "base_uri": "https://localhost:8080/"
        },
        "id": "RMnM98eR-bL9",
        "outputId": "698a02d4-338e-4515-e017-481622103fa7"
      },
      "outputs": [
        {
          "output_type": "stream",
          "name": "stdout",
          "text": [
            "5\n"
          ]
        }
      ],
      "source": [
        "array = np.random.randint(0,10,50)\n",
        "\n",
        "print(np.bincount(array).argmax())"
      ]
    },
    {
      "cell_type": "markdown",
      "metadata": {
        "id": "Ne6Hbgf5-bL-"
      },
      "source": [
        "#### 84. Extract all the contiguous 3x3 blocks from a random 10x10 matrix (★★★) \n",
        "(**hint**: stride\\_tricks.as\\_strided)"
      ]
    },
    {
      "cell_type": "code",
      "execution_count": 241,
      "metadata": {
        "colab": {
          "base_uri": "https://localhost:8080/"
        },
        "id": "o1W-jl9m-bL-",
        "outputId": "becd5fe2-538d-467f-9679-902bd8ab627a"
      },
      "outputs": [
        {
          "output_type": "stream",
          "name": "stdout",
          "text": [
            "[[[[4 0 4]\n",
            "   [0 4 0]\n",
            "   [4 3 3]]\n",
            "\n",
            "  [[0 4 0]\n",
            "   [4 0 0]\n",
            "   [3 3 0]]\n",
            "\n",
            "  [[4 0 0]\n",
            "   [0 0 2]\n",
            "   [3 0 0]]\n",
            "\n",
            "  [[0 0 3]\n",
            "   [0 2 2]\n",
            "   [0 0 4]]\n",
            "\n",
            "  [[0 3 3]\n",
            "   [2 2 3]\n",
            "   [0 4 4]]\n",
            "\n",
            "  [[3 3 1]\n",
            "   [2 3 4]\n",
            "   [4 4 2]]\n",
            "\n",
            "  [[3 1 1]\n",
            "   [3 4 0]\n",
            "   [4 2 0]]\n",
            "\n",
            "  [[1 1 4]\n",
            "   [4 0 3]\n",
            "   [2 0 0]]]\n",
            "\n",
            "\n",
            " [[[0 4 0]\n",
            "   [4 3 3]\n",
            "   [2 1 3]]\n",
            "\n",
            "  [[4 0 0]\n",
            "   [3 3 0]\n",
            "   [1 3 3]]\n",
            "\n",
            "  [[0 0 2]\n",
            "   [3 0 0]\n",
            "   [3 3 3]]\n",
            "\n",
            "  [[0 2 2]\n",
            "   [0 0 4]\n",
            "   [3 3 1]]\n",
            "\n",
            "  [[2 2 3]\n",
            "   [0 4 4]\n",
            "   [3 1 4]]\n",
            "\n",
            "  [[2 3 4]\n",
            "   [4 4 2]\n",
            "   [1 4 4]]\n",
            "\n",
            "  [[3 4 0]\n",
            "   [4 2 0]\n",
            "   [4 4 1]]\n",
            "\n",
            "  [[4 0 3]\n",
            "   [2 0 0]\n",
            "   [4 1 3]]]\n",
            "\n",
            "\n",
            " [[[4 3 3]\n",
            "   [2 1 3]\n",
            "   [0 3 1]]\n",
            "\n",
            "  [[3 3 0]\n",
            "   [1 3 3]\n",
            "   [3 1 3]]\n",
            "\n",
            "  [[3 0 0]\n",
            "   [3 3 3]\n",
            "   [1 3 2]]\n",
            "\n",
            "  [[0 0 4]\n",
            "   [3 3 1]\n",
            "   [3 2 0]]\n",
            "\n",
            "  [[0 4 4]\n",
            "   [3 1 4]\n",
            "   [2 0 4]]\n",
            "\n",
            "  [[4 4 2]\n",
            "   [1 4 4]\n",
            "   [0 4 2]]\n",
            "\n",
            "  [[4 2 0]\n",
            "   [4 4 1]\n",
            "   [4 2 4]]\n",
            "\n",
            "  [[2 0 0]\n",
            "   [4 1 3]\n",
            "   [2 4 4]]]\n",
            "\n",
            "\n",
            " [[[2 1 3]\n",
            "   [0 3 1]\n",
            "   [2 3 2]]\n",
            "\n",
            "  [[1 3 3]\n",
            "   [3 1 3]\n",
            "   [3 2 1]]\n",
            "\n",
            "  [[3 3 3]\n",
            "   [1 3 2]\n",
            "   [2 1 2]]\n",
            "\n",
            "  [[3 3 1]\n",
            "   [3 2 0]\n",
            "   [1 2 4]]\n",
            "\n",
            "  [[3 1 4]\n",
            "   [2 0 4]\n",
            "   [2 4 0]]\n",
            "\n",
            "  [[1 4 4]\n",
            "   [0 4 2]\n",
            "   [4 0 0]]\n",
            "\n",
            "  [[4 4 1]\n",
            "   [4 2 4]\n",
            "   [0 0 2]]\n",
            "\n",
            "  [[4 1 3]\n",
            "   [2 4 4]\n",
            "   [0 2 4]]]\n",
            "\n",
            "\n",
            " [[[0 3 1]\n",
            "   [2 3 2]\n",
            "   [1 2 3]]\n",
            "\n",
            "  [[3 1 3]\n",
            "   [3 2 1]\n",
            "   [2 3 2]]\n",
            "\n",
            "  [[1 3 2]\n",
            "   [2 1 2]\n",
            "   [3 2 2]]\n",
            "\n",
            "  [[3 2 0]\n",
            "   [1 2 4]\n",
            "   [2 2 1]]\n",
            "\n",
            "  [[2 0 4]\n",
            "   [2 4 0]\n",
            "   [2 1 0]]\n",
            "\n",
            "  [[0 4 2]\n",
            "   [4 0 0]\n",
            "   [1 0 2]]\n",
            "\n",
            "  [[4 2 4]\n",
            "   [0 0 2]\n",
            "   [0 2 3]]\n",
            "\n",
            "  [[2 4 4]\n",
            "   [0 2 4]\n",
            "   [2 3 0]]]\n",
            "\n",
            "\n",
            " [[[2 3 2]\n",
            "   [1 2 3]\n",
            "   [1 0 1]]\n",
            "\n",
            "  [[3 2 1]\n",
            "   [2 3 2]\n",
            "   [0 1 4]]\n",
            "\n",
            "  [[2 1 2]\n",
            "   [3 2 2]\n",
            "   [1 4 0]]\n",
            "\n",
            "  [[1 2 4]\n",
            "   [2 2 1]\n",
            "   [4 0 0]]\n",
            "\n",
            "  [[2 4 0]\n",
            "   [2 1 0]\n",
            "   [0 0 2]]\n",
            "\n",
            "  [[4 0 0]\n",
            "   [1 0 2]\n",
            "   [0 2 0]]\n",
            "\n",
            "  [[0 0 2]\n",
            "   [0 2 3]\n",
            "   [2 0 2]]\n",
            "\n",
            "  [[0 2 4]\n",
            "   [2 3 0]\n",
            "   [0 2 0]]]\n",
            "\n",
            "\n",
            " [[[1 2 3]\n",
            "   [1 0 1]\n",
            "   [4 1 4]]\n",
            "\n",
            "  [[2 3 2]\n",
            "   [0 1 4]\n",
            "   [1 4 0]]\n",
            "\n",
            "  [[3 2 2]\n",
            "   [1 4 0]\n",
            "   [4 0 3]]\n",
            "\n",
            "  [[2 2 1]\n",
            "   [4 0 0]\n",
            "   [0 3 3]]\n",
            "\n",
            "  [[2 1 0]\n",
            "   [0 0 2]\n",
            "   [3 3 1]]\n",
            "\n",
            "  [[1 0 2]\n",
            "   [0 2 0]\n",
            "   [3 1 3]]\n",
            "\n",
            "  [[0 2 3]\n",
            "   [2 0 2]\n",
            "   [1 3 1]]\n",
            "\n",
            "  [[2 3 0]\n",
            "   [0 2 0]\n",
            "   [3 1 0]]]\n",
            "\n",
            "\n",
            " [[[1 0 1]\n",
            "   [4 1 4]\n",
            "   [3 4 0]]\n",
            "\n",
            "  [[0 1 4]\n",
            "   [1 4 0]\n",
            "   [4 0 4]]\n",
            "\n",
            "  [[1 4 0]\n",
            "   [4 0 3]\n",
            "   [0 4 1]]\n",
            "\n",
            "  [[4 0 0]\n",
            "   [0 3 3]\n",
            "   [4 1 1]]\n",
            "\n",
            "  [[0 0 2]\n",
            "   [3 3 1]\n",
            "   [1 1 2]]\n",
            "\n",
            "  [[0 2 0]\n",
            "   [3 1 3]\n",
            "   [1 2 4]]\n",
            "\n",
            "  [[2 0 2]\n",
            "   [1 3 1]\n",
            "   [2 4 0]]\n",
            "\n",
            "  [[0 2 0]\n",
            "   [3 1 0]\n",
            "   [4 0 0]]]]\n"
          ]
        }
      ],
      "source": [
        "Z = np.random.randint(0,5,(10,10))\n",
        "n = 3\n",
        "i = 1 + (Z.shape[0]-3)\n",
        "j = 1 + (Z.shape[1]-3)\n",
        "C = stride_tricks.as_strided(Z, shape=(i, j, n, n), strides=Z.strides + Z.strides)\n",
        "print(C)"
      ]
    },
    {
      "cell_type": "markdown",
      "metadata": {
        "id": "3IkGAn08-bL-"
      },
      "source": [
        "#### 85. Create a 2D array subclass such that Z\\[i,j\\] == Z\\[j,i\\] (★★★) \n",
        "(**hint**: class method)"
      ]
    },
    {
      "cell_type": "code",
      "execution_count": 242,
      "metadata": {
        "colab": {
          "base_uri": "https://localhost:8080/"
        },
        "id": "XKOetlnX-bL-",
        "outputId": "07aa8f2c-645a-4ed7-907e-94ce4e194a7e"
      },
      "outputs": [
        {
          "output_type": "stream",
          "name": "stdout",
          "text": [
            "[[ 3  9 11 13  9]\n",
            " [ 9  0  5 10  4]\n",
            " [11  5  3 42  8]\n",
            " [13 10 42  7 15]\n",
            " [ 9  4  8 15  8]]\n"
          ]
        }
      ],
      "source": [
        "class Symetric(np.ndarray):\n",
        "    def __setitem__(self, index, value):\n",
        "        i,j = index\n",
        "        super(Symetric, self).__setitem__((i,j), value)\n",
        "        super(Symetric, self).__setitem__((j,i), value)\n",
        "\n",
        "def symetric(Z):\n",
        "    return np.asarray(Z + Z.T - np.diag(Z.diagonal())).view(Symetric)\n",
        "\n",
        "S = symetric(np.random.randint(0,10,(5,5)))\n",
        "S[2,3] = 42\n",
        "print(S)"
      ]
    },
    {
      "cell_type": "markdown",
      "metadata": {
        "id": "9kd88psi-bL-"
      },
      "source": [
        "#### 86. Consider a set of p matrices wich shape (n,n) and a set of p vectors with shape (n,1). How to compute the sum of of the p matrix products at once? (result has shape (n,1)) (★★★) \n",
        "(**hint**: np.tensordot)"
      ]
    },
    {
      "cell_type": "code",
      "execution_count": 243,
      "metadata": {
        "colab": {
          "base_uri": "https://localhost:8080/"
        },
        "id": "J-pM6ZK--bL_",
        "outputId": "c720f99b-9795-4637-dac1-2f2948bad439"
      },
      "outputs": [
        {
          "output_type": "stream",
          "name": "stdout",
          "text": [
            "[[200.]\n",
            " [200.]\n",
            " [200.]\n",
            " [200.]\n",
            " [200.]\n",
            " [200.]\n",
            " [200.]\n",
            " [200.]\n",
            " [200.]\n",
            " [200.]\n",
            " [200.]\n",
            " [200.]\n",
            " [200.]\n",
            " [200.]\n",
            " [200.]\n",
            " [200.]\n",
            " [200.]\n",
            " [200.]\n",
            " [200.]\n",
            " [200.]]\n"
          ]
        }
      ],
      "source": [
        "p, n = 10, 20\n",
        "M = np.ones((p,n,n))\n",
        "V = np.ones((p,n,1))\n",
        "S = np.tensordot(M, V, axes=[[0, 2], [0, 1]])\n",
        "print(S)"
      ]
    },
    {
      "cell_type": "markdown",
      "metadata": {
        "id": "pU9LPhVO-bL_"
      },
      "source": [
        "#### 87. Consider a 16x16 array, how to get the block-sum (block size is 4x4)? (★★★) \n",
        "(**hint**: np.add.reduceat)"
      ]
    },
    {
      "cell_type": "code",
      "execution_count": 244,
      "metadata": {
        "colab": {
          "base_uri": "https://localhost:8080/"
        },
        "id": "j4ocs54M-bL_",
        "outputId": "cbe9e484-e9c6-454a-8794-e6a6ba259a15"
      },
      "outputs": [
        {
          "output_type": "stream",
          "name": "stdout",
          "text": [
            "[[16. 16. 16. 16.]\n",
            " [16. 16. 16. 16.]\n",
            " [16. 16. 16. 16.]\n",
            " [16. 16. 16. 16.]]\n"
          ]
        }
      ],
      "source": [
        "Z = np.ones((16,16))\n",
        "\n",
        "k = 4\n",
        "\n",
        "S = np.add.reduceat(np.add.reduceat(Z, np.arange(0, Z.shape[0], k), axis=0),\n",
        "\n",
        "np.arange(0, Z.shape[1], k), axis=1)\n",
        "\n",
        "print(S)"
      ]
    },
    {
      "cell_type": "markdown",
      "metadata": {
        "id": "XQrqPJXp-bL_"
      },
      "source": [
        "#### 88. How to implement the Game of Life using numpy arrays? (★★★)"
      ]
    },
    {
      "cell_type": "code",
      "execution_count": 245,
      "metadata": {
        "colab": {
          "base_uri": "https://localhost:8080/"
        },
        "id": "MyoUuL8D-bMA",
        "outputId": "49796d3f-f12a-4b81-89a7-e1430eb1ddb9"
      },
      "outputs": [
        {
          "output_type": "stream",
          "name": "stdout",
          "text": [
            "[[0 0 0 0 0 0 0 0 0 0 0 0 0 0 0 0 0 0 0 0 0 0 0 0 0 0 0 0 0 0 0 0 0 0 0 0\n",
            "  0 0 0 0 0 0 0 0 0 0 0 0 0 0]\n",
            " [0 0 0 0 0 0 0 0 0 0 0 0 0 0 0 0 0 0 0 0 0 0 0 0 0 0 0 0 0 0 1 1 0 0 0 0\n",
            "  0 0 0 0 0 0 0 0 0 0 1 1 0 0]\n",
            " [0 0 0 0 0 0 0 0 0 0 0 0 0 0 0 0 0 0 0 0 0 0 0 0 1 1 0 0 0 0 1 1 0 0 0 0\n",
            "  0 0 0 0 0 0 0 0 0 0 1 1 0 0]\n",
            " [0 0 0 0 0 0 0 0 0 0 0 0 0 0 0 0 0 0 0 0 0 0 0 1 0 0 1 0 0 0 0 0 0 0 0 0\n",
            "  0 0 0 0 0 0 0 0 0 0 0 0 0 0]\n",
            " [0 0 0 0 0 0 0 0 0 0 0 0 0 0 0 0 0 0 0 0 0 0 0 0 0 0 0 0 0 0 0 0 0 0 0 0\n",
            "  0 0 0 0 0 0 0 0 0 0 0 0 0 0]\n",
            " [0 0 0 0 0 0 0 0 0 0 0 0 0 0 0 0 0 0 0 0 0 0 0 0 0 0 0 0 0 0 0 0 0 0 0 0\n",
            "  0 0 0 0 0 0 0 0 0 0 0 0 0 0]\n",
            " [0 0 0 0 0 0 0 0 0 0 0 0 0 0 0 0 0 0 0 0 0 0 0 0 0 0 0 0 0 0 0 0 0 0 0 0\n",
            "  0 0 0 0 0 0 0 0 0 0 0 0 0 0]\n",
            " [0 0 0 0 0 0 0 0 0 0 0 1 1 0 0 0 0 0 0 0 0 0 0 0 0 1 0 0 0 0 0 0 0 0 0 0\n",
            "  0 0 0 0 0 0 0 0 0 0 0 0 0 0]\n",
            " [0 0 0 0 0 0 0 0 0 0 1 0 0 1 1 0 0 0 0 0 0 0 0 0 0 0 0 0 0 0 0 0 0 0 0 0\n",
            "  0 0 0 0 0 0 0 0 0 0 0 0 0 0]\n",
            " [0 0 0 0 0 0 0 0 0 0 1 0 0 0 0 1 0 0 0 0 0 0 0 0 0 0 0 0 0 0 0 0 0 0 0 0\n",
            "  0 0 0 0 0 0 0 0 0 0 0 0 0 0]\n",
            " [0 0 0 0 0 0 0 0 0 0 0 1 0 0 0 1 0 0 0 0 0 0 0 0 0 0 0 0 0 0 0 0 0 0 0 0\n",
            "  0 0 0 0 0 0 0 0 0 0 0 0 0 0]\n",
            " [0 0 0 0 0 0 0 0 0 0 0 0 1 1 1 0 0 0 0 0 0 0 0 0 0 0 0 0 0 0 0 0 0 0 0 0\n",
            "  0 0 0 0 0 0 0 0 0 0 0 0 0 0]\n",
            " [0 0 0 0 0 0 0 0 0 0 0 0 0 0 0 0 0 0 0 0 0 0 0 0 0 0 0 0 0 0 0 0 0 0 0 0\n",
            "  0 0 0 0 0 0 0 0 0 0 0 0 0 0]\n",
            " [0 0 0 0 0 0 0 0 0 0 0 0 0 0 0 0 0 0 0 0 0 0 0 0 0 0 0 0 0 0 0 0 0 0 0 0\n",
            "  0 0 0 0 0 0 0 0 0 0 0 0 0 0]\n",
            " [0 0 0 0 0 0 0 0 0 0 0 0 0 0 0 0 0 0 0 0 0 0 0 0 0 0 0 0 0 0 0 0 0 0 0 0\n",
            "  0 1 1 0 0 0 0 0 0 0 0 0 0 0]\n",
            " [0 0 0 0 0 0 0 0 0 0 0 0 0 0 0 0 0 0 0 0 0 0 0 0 0 0 0 0 0 0 1 1 0 0 0 0\n",
            "  1 0 0 1 1 0 0 0 0 0 0 0 0 0]\n",
            " [0 0 0 0 0 0 0 0 0 0 0 0 0 0 0 0 0 0 0 0 0 0 0 0 0 0 0 0 0 0 0 0 0 0 0 0\n",
            "  1 1 0 1 1 0 0 0 0 0 0 0 0 0]\n",
            " [0 0 0 0 0 0 0 0 0 0 0 0 0 0 0 0 0 0 0 0 0 0 0 0 0 0 0 0 0 0 0 0 0 0 0 0\n",
            "  0 0 0 1 1 0 0 0 0 0 0 0 0 0]\n",
            " [0 0 0 0 0 0 0 0 0 1 1 0 0 0 0 0 0 0 0 0 0 0 0 0 0 0 0 0 0 0 0 0 0 0 0 1\n",
            "  0 0 1 0 0 0 0 0 0 0 0 0 0 0]\n",
            " [0 0 0 0 0 0 0 0 0 1 1 0 0 0 0 0 0 0 0 0 0 0 0 0 0 0 0 0 0 0 0 0 0 0 0 0\n",
            "  0 0 0 0 0 0 0 0 0 0 0 0 0 0]\n",
            " [0 0 0 1 1 0 0 0 0 0 0 0 0 0 0 0 0 0 0 0 0 0 0 0 0 0 0 0 0 0 0 0 0 0 0 1\n",
            "  1 0 0 0 0 0 0 0 0 0 0 0 0 0]\n",
            " [0 0 0 1 1 0 0 0 0 0 0 0 0 0 0 0 0 0 0 0 0 0 0 0 0 0 0 0 0 0 0 0 0 0 0 0\n",
            "  0 0 0 0 0 0 0 0 0 0 0 0 0 0]\n",
            " [0 0 0 0 0 0 0 0 0 0 0 0 0 0 0 0 0 0 0 0 0 0 0 0 0 0 0 0 0 0 0 0 0 0 0 0\n",
            "  0 0 0 0 0 0 0 0 0 0 0 0 0 0]\n",
            " [0 0 0 0 0 0 0 0 1 1 0 0 0 0 0 0 0 0 0 0 0 0 0 0 0 0 1 0 0 0 0 0 0 0 0 0\n",
            "  0 0 0 0 0 0 0 0 0 0 0 0 0 0]\n",
            " [0 0 0 0 0 0 0 0 1 1 0 0 0 0 0 0 0 0 0 0 0 0 0 0 0 1 0 1 0 0 0 0 0 0 0 0\n",
            "  0 0 0 0 0 0 0 0 0 0 0 0 0 0]\n",
            " [0 0 0 0 0 0 0 0 0 0 0 0 0 0 0 0 0 0 0 0 0 0 0 0 0 1 0 1 0 0 0 0 0 0 0 0\n",
            "  0 0 0 0 1 0 0 0 1 1 0 0 0 0]\n",
            " [0 0 0 0 0 0 0 0 0 0 0 0 0 0 0 0 0 0 0 0 0 0 0 0 0 0 1 0 0 0 0 0 0 0 0 0\n",
            "  0 0 0 1 0 1 0 1 0 0 1 0 0 0]\n",
            " [0 0 0 0 0 0 0 0 0 0 0 0 0 0 0 0 0 0 0 0 0 0 0 0 0 0 0 0 0 0 0 0 0 0 0 0\n",
            "  0 0 0 1 0 1 0 1 0 1 1 0 0 0]\n",
            " [0 0 0 0 0 0 0 0 0 0 0 0 0 0 0 0 0 0 0 0 0 0 0 0 0 0 0 0 0 0 0 0 0 0 0 0\n",
            "  0 0 0 0 1 1 0 1 0 0 0 0 0 0]\n",
            " [0 0 0 0 0 0 0 0 0 0 0 0 0 0 0 0 0 0 0 0 0 0 0 0 0 0 0 0 0 0 0 0 0 0 0 0\n",
            "  0 0 0 0 0 0 0 1 0 0 0 0 0 0]\n",
            " [0 0 0 0 0 0 0 0 0 0 0 0 0 0 0 0 0 0 0 0 0 0 0 0 0 0 0 0 0 0 0 0 0 0 0 0\n",
            "  0 0 0 0 0 0 0 0 1 0 0 0 0 0]\n",
            " [0 0 0 0 0 0 0 0 0 0 0 0 0 0 0 0 0 0 0 0 0 0 0 0 0 0 0 0 0 0 0 0 0 0 0 0\n",
            "  0 0 0 0 0 1 0 0 0 0 0 0 0 0]\n",
            " [0 0 0 0 0 0 0 0 0 0 0 0 0 0 0 0 0 0 0 0 0 0 0 0 0 0 0 0 0 0 0 0 0 0 0 0\n",
            "  0 0 0 0 1 0 0 0 1 0 0 0 0 0]\n",
            " [0 0 0 0 0 0 0 0 0 0 0 0 0 0 0 0 0 0 0 0 0 0 0 0 0 0 0 0 0 0 0 0 0 0 0 0\n",
            "  0 0 0 0 0 0 0 0 1 0 0 0 0 0]\n",
            " [0 0 0 0 0 0 0 0 0 0 0 0 0 0 0 0 0 0 0 0 0 0 0 0 0 0 0 0 0 0 0 0 0 0 0 0\n",
            "  0 0 0 0 0 0 1 1 1 0 0 0 0 0]\n",
            " [0 0 0 0 0 0 0 0 0 0 0 0 0 0 0 0 0 0 0 0 0 0 0 0 0 0 0 0 0 0 0 0 0 0 0 0\n",
            "  0 0 0 0 0 1 0 0 1 0 0 0 0 0]\n",
            " [0 0 0 0 0 0 0 0 0 0 0 0 0 0 0 0 0 0 0 0 0 0 0 0 0 0 0 0 0 0 0 0 0 0 0 0\n",
            "  0 0 0 0 0 1 0 0 1 1 0 0 0 0]\n",
            " [0 0 0 0 0 0 0 0 0 0 0 0 0 0 0 0 0 0 0 0 0 0 0 0 0 0 0 0 0 0 0 0 0 0 0 0\n",
            "  0 0 0 0 1 0 0 0 1 1 0 0 0 0]\n",
            " [0 0 0 0 0 0 0 0 0 0 0 0 0 0 0 0 0 0 0 0 0 0 0 0 0 0 0 0 0 0 0 0 0 0 0 0\n",
            "  0 0 0 0 0 0 1 1 1 1 0 0 0 0]\n",
            " [0 0 0 0 0 0 0 0 1 1 0 0 0 0 0 0 0 0 0 0 0 0 0 0 0 0 0 0 0 0 0 0 0 0 1 0\n",
            "  0 0 0 0 1 0 0 0 0 0 1 1 0 0]\n",
            " [0 0 0 0 0 0 0 0 1 1 0 0 0 0 0 0 0 0 0 0 0 0 0 0 0 0 0 0 0 0 0 0 0 1 1 0\n",
            "  0 0 0 1 1 1 0 0 0 1 0 1 0 0]\n",
            " [0 0 0 0 0 0 0 0 0 0 0 0 0 0 0 0 0 0 0 0 0 0 0 0 0 0 0 0 0 0 0 0 1 1 0 0\n",
            "  0 0 0 0 0 0 0 0 0 1 1 1 0 0]\n",
            " [0 0 0 0 1 1 0 0 0 0 0 0 0 0 0 0 0 0 0 0 0 0 0 0 0 0 0 0 0 0 0 0 1 0 0 1\n",
            "  0 0 1 1 0 0 0 0 0 0 0 0 0 0]\n",
            " [0 0 0 1 0 0 1 0 0 0 0 0 0 0 0 0 0 0 0 0 0 0 0 0 0 0 0 0 0 0 0 0 0 1 0 1\n",
            "  0 0 0 1 0 0 0 0 1 0 0 0 0 0]\n",
            " [0 0 0 0 1 1 0 0 0 0 0 0 0 0 0 0 0 0 0 0 0 0 0 0 0 0 0 0 0 0 0 0 0 0 1 0\n",
            "  0 0 1 0 0 1 1 1 0 1 0 0 0 0]\n",
            " [0 0 0 0 0 0 0 0 0 0 0 0 0 0 0 0 0 0 0 0 0 0 0 0 0 0 0 0 0 0 0 0 0 0 0 0\n",
            "  0 0 1 1 1 0 0 0 0 0 1 0 0 0]\n",
            " [0 0 0 0 0 0 0 0 0 0 0 0 0 0 0 0 0 0 0 0 0 0 0 0 0 0 0 0 0 0 0 0 0 0 0 0\n",
            "  0 0 0 1 1 0 1 1 0 1 0 0 0 0]\n",
            " [0 0 0 0 0 0 0 0 0 0 0 0 0 0 0 0 0 0 0 0 0 0 0 0 0 0 0 0 0 0 0 0 0 0 0 0\n",
            "  0 0 0 0 0 0 0 0 1 0 0 0 0 0]\n",
            " [0 0 0 0 0 0 0 0 0 0 0 0 0 0 0 0 0 0 0 0 0 0 0 0 0 0 0 0 0 0 0 0 0 0 0 0\n",
            "  0 0 0 0 0 0 0 0 0 0 0 0 0 0]\n",
            " [0 0 0 0 0 0 0 0 0 0 0 0 0 0 0 0 0 0 0 0 0 0 0 0 0 0 0 0 0 0 0 0 0 0 0 0\n",
            "  0 0 0 0 0 0 0 0 0 0 0 0 0 0]]\n"
          ]
        }
      ],
      "source": [
        "def iterate(Z):\n",
        "    \n",
        "    N = (Z[0:-2,0:-2] + Z[0:-2,1:-1] + Z[0:-2,2:] +\n",
        "         Z[1:-1,0:-2]                + Z[1:-1,2:] +\n",
        "         Z[2:  ,0:-2] + Z[2:  ,1:-1] + Z[2:  ,2:])\n",
        "\n",
        "    birth = (N==3) & (Z[1:-1,1:-1]==0)\n",
        "    survive = ((N==2) | (N==3)) & (Z[1:-1,1:-1]==1)\n",
        "    Z[...] = 0\n",
        "    Z[1:-1,1:-1][birth | survive] = 1\n",
        "    return Z\n",
        "\n",
        "Z = np.random.randint(0,2,(50,50))\n",
        "for i in range(100): Z = iterate(Z)\n",
        "print(Z)"
      ]
    },
    {
      "cell_type": "markdown",
      "metadata": {
        "id": "rioKmG_r-bMA"
      },
      "source": [
        "#### 89. How to get the n largest values of an array (★★★) \n",
        "(**hint**: np.argsort | np.argpartition)"
      ]
    },
    {
      "cell_type": "code",
      "execution_count": 246,
      "metadata": {
        "colab": {
          "base_uri": "https://localhost:8080/"
        },
        "id": "zFZjVFys-bMA",
        "outputId": "17864642-448d-4ba0-b712-0ba6097357db"
      },
      "outputs": [
        {
          "output_type": "stream",
          "name": "stdout",
          "text": [
            "[9995 9996 9997 9998 9999]\n",
            "[9997 9998 9999 9996 9995]\n"
          ]
        }
      ],
      "source": [
        "Z = np.arange(10000)\n",
        "np.random.shuffle(Z)\n",
        "n = 5\n",
        "\n",
        "# np.argsort\n",
        "print (Z[np.argsort(Z)[-n:]])\n",
        "\n",
        "# np.argpartition\n",
        "print (Z[np.argpartition(-Z,n)[:n]])"
      ]
    },
    {
      "cell_type": "markdown",
      "metadata": {
        "id": "g-JHeYDe-bMA"
      },
      "source": [
        "#### 90. Given an arbitrary number of vectors, build the cartesian product (every combinations of every item) (★★★) \n",
        "(**hint**: np.indices)"
      ]
    },
    {
      "cell_type": "code",
      "execution_count": 247,
      "metadata": {
        "scrolled": true,
        "colab": {
          "base_uri": "https://localhost:8080/"
        },
        "id": "7Cf0PeGg-bMB",
        "outputId": "986fa083-0664-4b54-b471-45ebee9c6248"
      },
      "outputs": [
        {
          "output_type": "stream",
          "name": "stdout",
          "text": [
            "[[1 4 6]\n",
            " [1 4 7]\n",
            " [1 5 6]\n",
            " [1 5 7]\n",
            " [2 4 6]\n",
            " [2 4 7]\n",
            " [2 5 6]\n",
            " [2 5 7]\n",
            " [3 4 6]\n",
            " [3 4 7]\n",
            " [3 5 6]\n",
            " [3 5 7]]\n"
          ]
        }
      ],
      "source": [
        "def cartesian(arrays):\n",
        "    arrays = [np.asarray(a) for a in arrays]\n",
        "    shape = (len(x) for x in arrays)\n",
        "\n",
        "    ix = np.indices(shape, dtype=int)\n",
        "    ix = ix.reshape(len(arrays), -1).T\n",
        "\n",
        "    for n, arr in enumerate(arrays):\n",
        "        ix[:, n] = arrays[n][ix[:, n]]\n",
        "\n",
        "    return ix\n",
        "\n",
        "print (cartesian(([1, 2, 3], [4, 5], [6, 7])))"
      ]
    },
    {
      "cell_type": "markdown",
      "metadata": {
        "id": "jTLdY8LN-bMB"
      },
      "source": [
        "#### 91. How to create a record array from a regular array? (★★★) \n",
        "(**hint**: np.core.records.fromarrays)"
      ]
    },
    {
      "cell_type": "code",
      "execution_count": 249,
      "metadata": {
        "colab": {
          "base_uri": "https://localhost:8080/"
        },
        "id": "1-TNyNgg-bMB",
        "outputId": "90461c98-d4e9-4fb8-d610-18e5a78189d5"
      },
      "outputs": [
        {
          "output_type": "stream",
          "name": "stdout",
          "text": [
            "[(b'Hello', 2.5, 3) (b'There', 3.6, 2)]\n"
          ]
        }
      ],
      "source": [
        "Z = np.array([(\"Hello\", 2.5, 3),\n",
        "\n",
        "(\"There\", 3.6, 2)])\n",
        "\n",
        "R = np.core.records.fromarrays(Z.T,\n",
        "\n",
        "names='col1, col2, col3',\n",
        "\n",
        "formats = 'S8, f8, i8')\n",
        "\n",
        "print(R)"
      ]
    },
    {
      "cell_type": "markdown",
      "metadata": {
        "id": "p59TN86k-bMB"
      },
      "source": [
        "#### 92. Consider a large vector Z, compute Z to the power of 3 using 3 different methods (★★★) \n",
        "(**hint**: np.power, \\*, np.einsum)"
      ]
    },
    {
      "cell_type": "code",
      "execution_count": 252,
      "metadata": {
        "colab": {
          "base_uri": "https://localhost:8080/",
          "height": 511
        },
        "id": "mqWX2m4y-bMC",
        "outputId": "f1b60d83-98ad-4b1c-e13f-c778023e3b6b"
      },
      "outputs": [
        {
          "output_type": "stream",
          "name": "stdout",
          "text": [
            "The slowest run took 31.31 times longer than the fastest. This could mean that an intermediate result is being cached.\n",
            "100000 loops, best of 5: 1.98 µs per loop\n",
            "The slowest run took 14.02 times longer than the fastest. This could mean that an intermediate result is being cached.\n",
            "10000000 loops, best of 5: 91.7 ns per loop\n"
          ]
        },
        {
          "output_type": "error",
          "ename": "ValueError",
          "evalue": "ignored",
          "traceback": [
            "\u001b[0;31m---------------------------------------------------------------------------\u001b[0m",
            "\u001b[0;31mValueError\u001b[0m                                Traceback (most recent call last)",
            "\u001b[0;32m<ipython-input-252-47a6a6fe15ff>\u001b[0m in \u001b[0;36m<module>\u001b[0;34m()\u001b[0m\n\u001b[1;32m      5\u001b[0m \u001b[0mget_ipython\u001b[0m\u001b[0;34m(\u001b[0m\u001b[0;34m)\u001b[0m\u001b[0;34m.\u001b[0m\u001b[0mmagic\u001b[0m\u001b[0;34m(\u001b[0m\u001b[0;34m'timeit x*x*x'\u001b[0m\u001b[0;34m)\u001b[0m\u001b[0;34m\u001b[0m\u001b[0;34m\u001b[0m\u001b[0m\n\u001b[1;32m      6\u001b[0m \u001b[0;34m\u001b[0m\u001b[0m\n\u001b[0;32m----> 7\u001b[0;31m \u001b[0mget_ipython\u001b[0m\u001b[0;34m(\u001b[0m\u001b[0;34m)\u001b[0m\u001b[0;34m.\u001b[0m\u001b[0mmagic\u001b[0m\u001b[0;34m(\u001b[0m\u001b[0;34m\"timeit np.einsum('i,i,i->i',x,x,x)\"\u001b[0m\u001b[0;34m)\u001b[0m\u001b[0;34m\u001b[0m\u001b[0;34m\u001b[0m\u001b[0m\n\u001b[0m",
            "\u001b[0;32m/usr/local/lib/python3.7/dist-packages/IPython/core/interactiveshell.py\u001b[0m in \u001b[0;36mmagic\u001b[0;34m(self, arg_s)\u001b[0m\n\u001b[1;32m   2158\u001b[0m         \u001b[0mmagic_name\u001b[0m\u001b[0;34m,\u001b[0m \u001b[0m_\u001b[0m\u001b[0;34m,\u001b[0m \u001b[0mmagic_arg_s\u001b[0m \u001b[0;34m=\u001b[0m \u001b[0marg_s\u001b[0m\u001b[0;34m.\u001b[0m\u001b[0mpartition\u001b[0m\u001b[0;34m(\u001b[0m\u001b[0;34m' '\u001b[0m\u001b[0;34m)\u001b[0m\u001b[0;34m\u001b[0m\u001b[0;34m\u001b[0m\u001b[0m\n\u001b[1;32m   2159\u001b[0m         \u001b[0mmagic_name\u001b[0m \u001b[0;34m=\u001b[0m \u001b[0mmagic_name\u001b[0m\u001b[0;34m.\u001b[0m\u001b[0mlstrip\u001b[0m\u001b[0;34m(\u001b[0m\u001b[0mprefilter\u001b[0m\u001b[0;34m.\u001b[0m\u001b[0mESC_MAGIC\u001b[0m\u001b[0;34m)\u001b[0m\u001b[0;34m\u001b[0m\u001b[0;34m\u001b[0m\u001b[0m\n\u001b[0;32m-> 2160\u001b[0;31m         \u001b[0;32mreturn\u001b[0m \u001b[0mself\u001b[0m\u001b[0;34m.\u001b[0m\u001b[0mrun_line_magic\u001b[0m\u001b[0;34m(\u001b[0m\u001b[0mmagic_name\u001b[0m\u001b[0;34m,\u001b[0m \u001b[0mmagic_arg_s\u001b[0m\u001b[0;34m)\u001b[0m\u001b[0;34m\u001b[0m\u001b[0;34m\u001b[0m\u001b[0m\n\u001b[0m\u001b[1;32m   2161\u001b[0m \u001b[0;34m\u001b[0m\u001b[0m\n\u001b[1;32m   2162\u001b[0m     \u001b[0;31m#-------------------------------------------------------------------------\u001b[0m\u001b[0;34m\u001b[0m\u001b[0;34m\u001b[0m\u001b[0;34m\u001b[0m\u001b[0m\n",
            "\u001b[0;32m/usr/local/lib/python3.7/dist-packages/IPython/core/interactiveshell.py\u001b[0m in \u001b[0;36mrun_line_magic\u001b[0;34m(self, magic_name, line)\u001b[0m\n\u001b[1;32m   2079\u001b[0m                 \u001b[0mkwargs\u001b[0m\u001b[0;34m[\u001b[0m\u001b[0;34m'local_ns'\u001b[0m\u001b[0;34m]\u001b[0m \u001b[0;34m=\u001b[0m \u001b[0msys\u001b[0m\u001b[0;34m.\u001b[0m\u001b[0m_getframe\u001b[0m\u001b[0;34m(\u001b[0m\u001b[0mstack_depth\u001b[0m\u001b[0;34m)\u001b[0m\u001b[0;34m.\u001b[0m\u001b[0mf_locals\u001b[0m\u001b[0;34m\u001b[0m\u001b[0;34m\u001b[0m\u001b[0m\n\u001b[1;32m   2080\u001b[0m             \u001b[0;32mwith\u001b[0m \u001b[0mself\u001b[0m\u001b[0;34m.\u001b[0m\u001b[0mbuiltin_trap\u001b[0m\u001b[0;34m:\u001b[0m\u001b[0;34m\u001b[0m\u001b[0;34m\u001b[0m\u001b[0m\n\u001b[0;32m-> 2081\u001b[0;31m                 \u001b[0mresult\u001b[0m \u001b[0;34m=\u001b[0m \u001b[0mfn\u001b[0m\u001b[0;34m(\u001b[0m\u001b[0;34m*\u001b[0m\u001b[0margs\u001b[0m\u001b[0;34m,\u001b[0m\u001b[0;34m**\u001b[0m\u001b[0mkwargs\u001b[0m\u001b[0;34m)\u001b[0m\u001b[0;34m\u001b[0m\u001b[0;34m\u001b[0m\u001b[0m\n\u001b[0m\u001b[1;32m   2082\u001b[0m             \u001b[0;32mreturn\u001b[0m \u001b[0mresult\u001b[0m\u001b[0;34m\u001b[0m\u001b[0;34m\u001b[0m\u001b[0m\n\u001b[1;32m   2083\u001b[0m \u001b[0;34m\u001b[0m\u001b[0m\n",
            "\u001b[0;32m<decorator-gen-52>\u001b[0m in \u001b[0;36mtimeit\u001b[0;34m(self, line, cell)\u001b[0m\n",
            "\u001b[0;32m/usr/local/lib/python3.7/dist-packages/IPython/core/magic.py\u001b[0m in \u001b[0;36m<lambda>\u001b[0;34m(f, *a, **k)\u001b[0m\n\u001b[1;32m    186\u001b[0m     \u001b[0;31m# but it's overkill for just that one bit of state.\u001b[0m\u001b[0;34m\u001b[0m\u001b[0;34m\u001b[0m\u001b[0;34m\u001b[0m\u001b[0m\n\u001b[1;32m    187\u001b[0m     \u001b[0;32mdef\u001b[0m \u001b[0mmagic_deco\u001b[0m\u001b[0;34m(\u001b[0m\u001b[0marg\u001b[0m\u001b[0;34m)\u001b[0m\u001b[0;34m:\u001b[0m\u001b[0;34m\u001b[0m\u001b[0;34m\u001b[0m\u001b[0m\n\u001b[0;32m--> 188\u001b[0;31m         \u001b[0mcall\u001b[0m \u001b[0;34m=\u001b[0m \u001b[0;32mlambda\u001b[0m \u001b[0mf\u001b[0m\u001b[0;34m,\u001b[0m \u001b[0;34m*\u001b[0m\u001b[0ma\u001b[0m\u001b[0;34m,\u001b[0m \u001b[0;34m**\u001b[0m\u001b[0mk\u001b[0m\u001b[0;34m:\u001b[0m \u001b[0mf\u001b[0m\u001b[0;34m(\u001b[0m\u001b[0;34m*\u001b[0m\u001b[0ma\u001b[0m\u001b[0;34m,\u001b[0m \u001b[0;34m**\u001b[0m\u001b[0mk\u001b[0m\u001b[0;34m)\u001b[0m\u001b[0;34m\u001b[0m\u001b[0;34m\u001b[0m\u001b[0m\n\u001b[0m\u001b[1;32m    189\u001b[0m \u001b[0;34m\u001b[0m\u001b[0m\n\u001b[1;32m    190\u001b[0m         \u001b[0;32mif\u001b[0m \u001b[0mcallable\u001b[0m\u001b[0;34m(\u001b[0m\u001b[0marg\u001b[0m\u001b[0;34m)\u001b[0m\u001b[0;34m:\u001b[0m\u001b[0;34m\u001b[0m\u001b[0;34m\u001b[0m\u001b[0m\n",
            "\u001b[0;32m/usr/local/lib/python3.7/dist-packages/IPython/core/magics/execution.py\u001b[0m in \u001b[0;36mtimeit\u001b[0;34m(self, line, cell)\u001b[0m\n\u001b[1;32m   1055\u001b[0m             \u001b[0mnumber\u001b[0m \u001b[0;34m=\u001b[0m \u001b[0;36m1\u001b[0m\u001b[0;34m\u001b[0m\u001b[0;34m\u001b[0m\u001b[0m\n\u001b[1;32m   1056\u001b[0m             \u001b[0;32mfor\u001b[0m \u001b[0m_\u001b[0m \u001b[0;32min\u001b[0m \u001b[0mrange\u001b[0m\u001b[0;34m(\u001b[0m\u001b[0;36m1\u001b[0m\u001b[0;34m,\u001b[0m \u001b[0;36m10\u001b[0m\u001b[0;34m)\u001b[0m\u001b[0;34m:\u001b[0m\u001b[0;34m\u001b[0m\u001b[0;34m\u001b[0m\u001b[0m\n\u001b[0;32m-> 1057\u001b[0;31m                 \u001b[0mtime_number\u001b[0m \u001b[0;34m=\u001b[0m \u001b[0mtimer\u001b[0m\u001b[0;34m.\u001b[0m\u001b[0mtimeit\u001b[0m\u001b[0;34m(\u001b[0m\u001b[0mnumber\u001b[0m\u001b[0;34m)\u001b[0m\u001b[0;34m\u001b[0m\u001b[0;34m\u001b[0m\u001b[0m\n\u001b[0m\u001b[1;32m   1058\u001b[0m                 \u001b[0mworst_tuning\u001b[0m \u001b[0;34m=\u001b[0m \u001b[0mmax\u001b[0m\u001b[0;34m(\u001b[0m\u001b[0mworst_tuning\u001b[0m\u001b[0;34m,\u001b[0m \u001b[0mtime_number\u001b[0m \u001b[0;34m/\u001b[0m \u001b[0mnumber\u001b[0m\u001b[0;34m)\u001b[0m\u001b[0;34m\u001b[0m\u001b[0;34m\u001b[0m\u001b[0m\n\u001b[1;32m   1059\u001b[0m                 \u001b[0;32mif\u001b[0m \u001b[0mtime_number\u001b[0m \u001b[0;34m>=\u001b[0m \u001b[0;36m0.2\u001b[0m\u001b[0;34m:\u001b[0m\u001b[0;34m\u001b[0m\u001b[0;34m\u001b[0m\u001b[0m\n",
            "\u001b[0;32m/usr/local/lib/python3.7/dist-packages/IPython/core/magics/execution.py\u001b[0m in \u001b[0;36mtimeit\u001b[0;34m(self, number)\u001b[0m\n\u001b[1;32m    137\u001b[0m         \u001b[0mgc\u001b[0m\u001b[0;34m.\u001b[0m\u001b[0mdisable\u001b[0m\u001b[0;34m(\u001b[0m\u001b[0;34m)\u001b[0m\u001b[0;34m\u001b[0m\u001b[0;34m\u001b[0m\u001b[0m\n\u001b[1;32m    138\u001b[0m         \u001b[0;32mtry\u001b[0m\u001b[0;34m:\u001b[0m\u001b[0;34m\u001b[0m\u001b[0;34m\u001b[0m\u001b[0m\n\u001b[0;32m--> 139\u001b[0;31m             \u001b[0mtiming\u001b[0m \u001b[0;34m=\u001b[0m \u001b[0mself\u001b[0m\u001b[0;34m.\u001b[0m\u001b[0minner\u001b[0m\u001b[0;34m(\u001b[0m\u001b[0mit\u001b[0m\u001b[0;34m,\u001b[0m \u001b[0mself\u001b[0m\u001b[0;34m.\u001b[0m\u001b[0mtimer\u001b[0m\u001b[0;34m)\u001b[0m\u001b[0;34m\u001b[0m\u001b[0;34m\u001b[0m\u001b[0m\n\u001b[0m\u001b[1;32m    140\u001b[0m         \u001b[0;32mfinally\u001b[0m\u001b[0;34m:\u001b[0m\u001b[0;34m\u001b[0m\u001b[0;34m\u001b[0m\u001b[0m\n\u001b[1;32m    141\u001b[0m             \u001b[0;32mif\u001b[0m \u001b[0mgcold\u001b[0m\u001b[0;34m:\u001b[0m\u001b[0;34m\u001b[0m\u001b[0;34m\u001b[0m\u001b[0m\n",
            "\u001b[0;32m<magic-timeit>\u001b[0m in \u001b[0;36minner\u001b[0;34m(_it, _timer)\u001b[0m\n",
            "\u001b[0;32m<__array_function__ internals>\u001b[0m in \u001b[0;36meinsum\u001b[0;34m(*args, **kwargs)\u001b[0m\n",
            "\u001b[0;32m/usr/local/lib/python3.7/dist-packages/numpy/core/einsumfunc.py\u001b[0m in \u001b[0;36meinsum\u001b[0;34m(out, optimize, *operands, **kwargs)\u001b[0m\n\u001b[1;32m   1357\u001b[0m         \u001b[0;32mif\u001b[0m \u001b[0mspecified_out\u001b[0m\u001b[0;34m:\u001b[0m\u001b[0;34m\u001b[0m\u001b[0;34m\u001b[0m\u001b[0m\n\u001b[1;32m   1358\u001b[0m             \u001b[0mkwargs\u001b[0m\u001b[0;34m[\u001b[0m\u001b[0;34m'out'\u001b[0m\u001b[0;34m]\u001b[0m \u001b[0;34m=\u001b[0m \u001b[0mout\u001b[0m\u001b[0;34m\u001b[0m\u001b[0;34m\u001b[0m\u001b[0m\n\u001b[0;32m-> 1359\u001b[0;31m         \u001b[0;32mreturn\u001b[0m \u001b[0mc_einsum\u001b[0m\u001b[0;34m(\u001b[0m\u001b[0;34m*\u001b[0m\u001b[0moperands\u001b[0m\u001b[0;34m,\u001b[0m \u001b[0;34m**\u001b[0m\u001b[0mkwargs\u001b[0m\u001b[0;34m)\u001b[0m\u001b[0;34m\u001b[0m\u001b[0;34m\u001b[0m\u001b[0m\n\u001b[0m\u001b[1;32m   1360\u001b[0m \u001b[0;34m\u001b[0m\u001b[0m\n\u001b[1;32m   1361\u001b[0m     \u001b[0;31m# Check the kwargs to avoid a more cryptic error later, without having to\u001b[0m\u001b[0;34m\u001b[0m\u001b[0;34m\u001b[0m\u001b[0;34m\u001b[0m\u001b[0m\n",
            "\u001b[0;31mValueError\u001b[0m: einstein sum subscripts string contains too many subscripts for operand 0"
          ]
        }
      ],
      "source": [
        "x = np.random.rand()\n",
        "\n",
        "%timeit np.power(x,3)\n",
        "\n",
        "%timeit x*x*x\n",
        "\n",
        "%timeit np.einsum('i,i,i->i',x,x,x)"
      ]
    },
    {
      "cell_type": "markdown",
      "metadata": {
        "id": "4BfSrz38-bMC"
      },
      "source": [
        "#### 93. Consider two arrays A and B of shape (8,3) and (2,2). How to find rows of A that contain elements of each row of B regardless of the order of the elements in B? (★★★) \n",
        "(**hint**: np.where)"
      ]
    },
    {
      "cell_type": "code",
      "execution_count": 253,
      "metadata": {
        "colab": {
          "base_uri": "https://localhost:8080/"
        },
        "id": "QmYCQJE4-bMC",
        "outputId": "3e81e4aa-3471-45a0-a91f-fe71702607ab"
      },
      "outputs": [
        {
          "output_type": "stream",
          "name": "stdout",
          "text": [
            "[0 1 4 6]\n"
          ]
        }
      ],
      "source": [
        "A = np.random.randint(0,5,(8,3))\n",
        "\n",
        "B = np.random.randint(0,5,(2,2))\n",
        "\n",
        "C = (A[..., np.newaxis, np.newaxis] == B)\n",
        "\n",
        "rows = (C.sum(axis=(1,2,3)) >= B.shape[1]).nonzero()[0]\n",
        "\n",
        "print(rows)\n",
        "\n"
      ]
    },
    {
      "cell_type": "markdown",
      "metadata": {
        "id": "lYBONqCW-bMC"
      },
      "source": [
        "#### 94. Considering a 10x3 matrix, extract rows with unequal values (e.g. \\[2,2,3\\]) (★★★)"
      ]
    },
    {
      "cell_type": "code",
      "execution_count": 255,
      "metadata": {
        "colab": {
          "base_uri": "https://localhost:8080/"
        },
        "id": "gJVDeNeX-bMC",
        "outputId": "db7314bb-fa7d-4c88-e6c1-82835060366d"
      },
      "outputs": [
        {
          "output_type": "stream",
          "name": "stdout",
          "text": [
            "[[1 1 0]\n",
            " [4 0 1]\n",
            " [1 3 1]\n",
            " [2 0 4]\n",
            " [4 0 0]\n",
            " [4 0 1]\n",
            " [1 3 3]\n",
            " [4 1 4]\n",
            " [3 1 4]\n",
            " [2 4 1]]\n",
            "[[1 1 0]\n",
            " [4 0 1]\n",
            " [1 3 1]\n",
            " [2 0 4]\n",
            " [4 0 0]\n",
            " [4 0 1]\n",
            " [1 3 3]\n",
            " [4 1 4]\n",
            " [3 1 4]\n",
            " [2 4 1]]\n"
          ]
        }
      ],
      "source": [
        "matrix= np.random.randint(0,5,(10,3))\n",
        "\n",
        "Extract = np.logical_and.reduce(matrix[:,1:] == matrix[:,:-1], axis=1)\n",
        "\n",
        "Unequal = matrix[~Extract]\n",
        "\n",
        "print(matrix)\n",
        "\n",
        "print(Unequal)"
      ]
    },
    {
      "cell_type": "markdown",
      "metadata": {
        "id": "2PGn_0mk-bMD"
      },
      "source": [
        "#### 95. Convert a vector of ints into a matrix binary representation (★★★) \n",
        "(**hint**: np.unpackbits)"
      ]
    },
    {
      "cell_type": "code",
      "execution_count": 259,
      "metadata": {
        "colab": {
          "base_uri": "https://localhost:8080/"
        },
        "id": "1XiTEgvr-bMV",
        "outputId": "253d9275-756f-4a3d-b597-6bb8c093a190"
      },
      "outputs": [
        {
          "output_type": "stream",
          "name": "stdout",
          "text": [
            "[[0 0 0 0 0 0 0 0]\n",
            " [0 0 0 0 0 0 0 1]\n",
            " [0 0 0 0 0 0 1 0]\n",
            " [0 0 0 0 0 0 1 1]\n",
            " [0 0 0 0 1 1 1 1]\n",
            " [0 0 0 1 0 0 0 0]\n",
            " [0 0 1 0 0 0 0 0]\n",
            " [0 1 0 0 0 0 0 0]\n",
            " [1 0 0 0 0 0 0 0]]\n"
          ]
        }
      ],
      "source": [
        "I = np.array([0, 1, 2, 3, 15, 16, 32, 64, 128], dtype=np.uint8)\n",
        "\n",
        "print(np.unpackbits(I[:, np.newaxis], axis=1))"
      ]
    },
    {
      "cell_type": "markdown",
      "metadata": {
        "id": "3hlG_s2H-bMX"
      },
      "source": [
        "#### 96. Given a two dimensional array, how to extract unique rows? (★★★) \n",
        "(**hint**: np.ascontiguousarray)"
      ]
    },
    {
      "cell_type": "code",
      "execution_count": 257,
      "metadata": {
        "colab": {
          "base_uri": "https://localhost:8080/"
        },
        "id": "XFbWt98J-bMX",
        "outputId": "2fba59c2-a7c3-4d5c-cc43-f72c41441960"
      },
      "outputs": [
        {
          "output_type": "stream",
          "name": "stdout",
          "text": [
            "[[0 0 1]\n",
            " [0 1 1]\n",
            " [1 0 0]\n",
            " [1 1 0]\n",
            " [1 1 1]]\n"
          ]
        }
      ],
      "source": [
        "Z = np.random.randint(0,2,(6,3))\n",
        "\n",
        "T = np.ascontiguousarray(Z).view(np.dtype((np.void, Z.dtype.itemsize * Z.shape[1])))\n",
        "\n",
        "_, idx = np.unique(T, return_index=True)\n",
        "\n",
        "uZ = Z[idx]\n",
        "\n",
        "print(uZ)"
      ]
    },
    {
      "cell_type": "markdown",
      "metadata": {
        "id": "WO2HiULs-bMX"
      },
      "source": [
        "#### 97. Considering 2 vectors A & B, write the einsum equivalent of inner, outer, sum, and mul function (★★★) \n",
        "(**hint**: np.einsum)"
      ]
    },
    {
      "cell_type": "code",
      "execution_count": 261,
      "metadata": {
        "colab": {
          "base_uri": "https://localhost:8080/"
        },
        "id": "dfdybdPy-bMY",
        "outputId": "83f1e84d-2c59-4543-9988-d3c4e5cae9e3"
      },
      "outputs": [
        {
          "output_type": "execute_result",
          "data": {
            "text/plain": [
              "array([[2.63192204e-01, 5.89429730e-03, 3.04145295e-01, 1.96511644e-01,\n",
              "        3.62070472e-02, 1.99387308e-01, 1.81565489e-01, 1.78277398e-01,\n",
              "        3.24710296e-01, 2.03484051e-01],\n",
              "       [1.24280232e-02, 2.78330675e-04, 1.43618418e-02, 9.27934504e-03,\n",
              "        1.70970879e-03, 9.41513487e-03, 8.57358263e-03, 8.41831789e-03,\n",
              "        1.53329280e-02, 9.60858442e-03],\n",
              "       [6.55408843e-02, 1.46781497e-03, 7.57391417e-02, 4.89358983e-02,\n",
              "        9.01638370e-03, 4.96520046e-02, 4.52139635e-02, 4.43951536e-02,\n",
              "        8.08602978e-02, 5.06721873e-02],\n",
              "       [1.59888752e-01, 3.58077414e-03, 1.84767675e-01, 1.19380441e-01,\n",
              "        2.19957108e-02, 1.21127402e-01, 1.10300681e-01, 1.08303172e-01,\n",
              "        1.97260873e-01, 1.23616165e-01],\n",
              "       [5.30296213e-01, 1.18762011e-02, 6.12811079e-01, 3.95944025e-01,\n",
              "        7.29522371e-02, 4.01738095e-01, 3.65829571e-01, 3.59204519e-01,\n",
              "        6.54246737e-01, 4.09992470e-01],\n",
              "       [3.72706095e-01, 8.34690578e-03, 4.30699708e-01, 2.78279851e-01,\n",
              "        5.12727466e-02, 2.82352075e-01, 2.57114623e-01, 2.52458362e-01,\n",
              "        4.59821775e-01, 2.88153467e-01],\n",
              "       [5.51449189e-01, 1.23499307e-02, 6.37255489e-01, 4.11737829e-01,\n",
              "        7.58622275e-02, 4.17763018e-01, 3.80422141e-01, 3.73532822e-01,\n",
              "        6.80343973e-01, 4.26346652e-01],\n",
              "       [1.62518456e-01, 3.63966744e-03, 1.87806565e-01, 1.21343902e-01,\n",
              "        2.23574761e-02, 1.23119595e-01, 1.12114806e-01, 1.10084444e-01,\n",
              "        2.00505240e-01, 1.25649291e-01],\n",
              "       [2.79973561e-01, 6.27012266e-03, 3.23537856e-01, 2.09041392e-01,\n",
              "        3.85156391e-02, 2.12100411e-01, 1.93142257e-01, 1.89644515e-01,\n",
              "        3.45414099e-01, 2.16458366e-01],\n",
              "       [1.88293314e-01, 4.21690596e-03, 2.17592029e-01, 1.40588620e-01,\n",
              "        2.59032936e-02, 1.42645931e-01, 1.29895822e-01, 1.27543451e-01,\n",
              "        2.32304669e-01, 1.45576829e-01]])"
            ]
          },
          "metadata": {},
          "execution_count": 261
        }
      ],
      "source": [
        "A = np.random.uniform(0,1,10)\n",
        "B = np.random.uniform(0,1,10)\n",
        "\n",
        "np.einsum('i->', A)       # sum\n",
        "np.einsum('i,i->i', A, B) # mul\n",
        "np.einsum('i,i', A, B)    # inner\n",
        "np.einsum('i,j->ij', A, B)    #outer"
      ]
    },
    {
      "cell_type": "markdown",
      "metadata": {
        "id": "SYaFoYQ5-bMY"
      },
      "source": [
        "#### 98. Considering a path described by two vectors (X,Y), how to sample it using equidistant samples (★★★)? \n",
        "(**hint**: np.cumsum, np.interp)"
      ]
    },
    {
      "cell_type": "code",
      "execution_count": 262,
      "metadata": {
        "collapsed": true,
        "colab": {
          "base_uri": "https://localhost:8080/"
        },
        "id": "wAxMZg5N-bMY",
        "outputId": "717edb03-6e4a-4128-98d0-869f64f77211"
      },
      "outputs": [
        {
          "output_type": "stream",
          "name": "stdout",
          "text": [
            "[  0.           0.09950042   0.19601332   0.28660095   0.3684244\n",
            "   0.43879128   0.49520137   0.53538953   0.55736537   0.55944897\n",
            "   0.54030231   0.49895573   0.43482931   0.34774848   0.237954\n",
            "   0.1061058   -0.04671924  -0.21903564  -0.40896377  -0.61425018\n",
            "  -0.83229367  -1.06017682  -1.29470246  -1.53243485  -1.76974492\n",
            "  -2.00285904  -2.22791076  -2.44099478  -2.63822255  -2.81577868\n",
            "  -2.96997749  -3.09731897  -3.19454328  -3.25868324  -3.28711385\n",
            "  -3.27759841  -3.2283303   -3.13797012  -3.00567731  -2.83113599\n",
            "  -2.61457448  -2.35677818  -2.05909545  -1.72343644  -1.35226463\n",
            "  -0.9485811   -0.51590162  -0.05822672   0.41999512   0.91391061\n",
            "   1.41831093   1.92768649   2.43628669   2.93818398   3.42734153\n",
            "   3.89768376   4.34316892   4.75786287   5.1360132    5.47212274\n",
            "   5.76102172   5.99793747   6.178561     6.29910941   6.35638348\n",
            "   6.34781957   6.27153511   6.12636709   5.91190293   5.62850319\n",
            "   5.27731578   4.86028133   4.38012946   3.84036588   3.24525022\n",
            "   2.59976488   1.9095748    1.18097874   0.42085228  -0.36341679\n",
            "  -1.16400027  -1.97270765  -2.78106986  -3.58042781  -4.36202469\n",
            "  -5.11710117  -5.83699241  -6.51322582  -7.13761852  -7.70237336\n",
            "  -8.20017236  -8.62426658  -8.96856132  -9.22769553  -9.3971146\n",
            "  -9.47313548  -9.45300342  -9.33493933  -9.11817747  -8.80299241\n",
            "  -8.39071529  -7.88373862  -7.28550965  -6.6005121   -5.83423628\n",
            "  -4.99313774  -4.08458482  -3.11679531  -2.09876299  -1.04017448\n",
            "   0.04868268   1.1570199    2.27365447   3.38712238   4.48579588\n",
            "   5.55800473   6.59215971   7.57687716   8.50110325   9.35423652\n",
            "  10.1262475   10.80779395  11.39033046  11.8662112   12.22878455\n",
            "  12.47247849  12.59287578  12.58677787  12.45225684  12.18869449\n",
            "  11.79680816  11.27866268  10.63766824   9.878564     9.00738732\n",
            "   8.03142895   6.9591743    5.80023126   4.56524532   3.26580248\n",
            "   1.91432105   0.52393323  -0.89164247  -2.31823644  -3.74136993\n",
            "  -5.14640187  -6.51867941  -7.84369048  -9.10721675 -10.29548549\n",
            " -11.39531869 -12.39427773 -13.28080214 -14.04434094 -14.67547492\n",
            " -15.16602867 -15.50917095 -15.69950221 -15.73312822 -15.60771894\n",
            " -15.32255169 -14.87853808 -14.27823434 -13.52583451 -12.62714655\n",
            " -11.58955145 -10.42194539  -9.13466558  -7.73940027  -6.24908366\n",
            "  -4.67777675  -3.04053512  -1.35326495   0.36743138   2.10441864\n",
            "   3.84019936   5.55709009   7.23740149   8.86362041  10.41859212\n",
            "  11.88570075  13.24904611  14.49361496  15.6054449   16.57177917\n",
            "  17.38121053  18.02381279  18.49125831  18.7769203   18.87595858\n",
            "  18.78538775  18.50412697  18.03303066  17.3748994   16.53447108\n",
            "  15.51839191  14.33516747  12.99509423  11.51017187   9.89399732\n",
            "   8.16164124   6.32950824   4.41518203   2.43725688   0.4151572\n",
            "  -1.63105313  -3.6808699   -5.713554    -7.70834118  -9.64465412\n",
            " -11.50231446 -13.26175272 -14.9042139  -16.41195663 -17.76844373\n",
            " -18.95852214 -19.96859034 -20.78675129 -21.40294938 -21.80908968\n",
            " -21.99913818 -21.96920183 -21.71758737 -21.24483813 -20.55374833\n",
            " -19.6493544  -18.53890336 -17.23179826 -15.73952118 -14.07553421\n",
            " -12.25515947 -10.29543901  -8.21497601  -6.03375864  -3.77296837\n",
            "  -1.45477441   0.89788356   3.2615224    5.6123499    7.92650424\n",
            "  10.18029618  12.35045135  14.41435043  16.35026444  18.13758293\n",
            "  19.7570326   21.19088398  22.42314406  23.43973275  24.2286412\n",
            "  24.7800703   25.08654775  25.14302233  24.94693422  24.49826054\n",
            "  23.79953536  22.85584389  21.67479057  20.26644137  18.64324051\n",
            "  16.81990238  14.81327959  12.64220817  10.32733155   7.89090473\n",
            "   5.35658069   2.74918094   0.09445254  -2.58118617  -5.25090838\n",
            "  -7.88774784 -10.46487118 -12.95585091 -15.33493623 -17.57731893\n",
            " -19.65939164 -21.55899571 -23.25565617 -24.7308012  -25.96796395\n",
            " -26.95296426 -27.67406854 -28.12212595 -28.2906792  -28.17604893\n",
            " -27.77739036 -27.09672162 -26.13892326 -24.91170863 -23.42556536\n",
            " -21.69366836 -19.73176483 -17.55803252 -15.19291234 -12.6589169\n",
            "  -9.98041672  -7.18340625  -4.29525175  -1.34442375   1.63978364\n",
            "   4.6275435    7.58879418  10.49354182  13.31216405  16.01571198\n",
            "  18.57620727  20.96693136  23.16270375  25.14014653  26.87793233\n",
            "  28.35701309  29.56082725  30.47548299  31.08991568  31.39601771]\n",
            "[ 0.00000000e+00  9.98334166e-03  3.97338662e-02  8.86560620e-02\n",
            "  1.55767337e-01  2.39712769e-01  3.38785484e-01  4.50952381e-01\n",
            "  5.73884873e-01  7.04994219e-01  8.41470985e-01  9.80328096e-01\n",
            "  1.11844690e+00  1.25262564e+00  1.37962962e+00  1.49624248e+00\n",
            "  1.59931776e+00  1.68583018e+00  1.75292574e+00  1.79797017e+00\n",
            "  1.81859485e+00  1.81273967e+00  1.77869209e+00  1.71512199e+00\n",
            "  1.62111163e+00  1.49618036e+00  1.34030357e+00  1.15392568e+00\n",
            "  9.37966820e-01  6.93823055e-01  4.23360024e-01  1.28900054e-01\n",
            " -1.86797259e-01 -5.20560791e-01 -8.68839747e-01 -1.22774130e+00\n",
            " -1.59307360e+00 -1.96039372e+00 -2.32505999e+00 -2.68228802e+00\n",
            " -3.02720998e+00 -3.35493616e+00 -3.66061824e+00 -3.93951353e+00\n",
            " -4.18704913e+00 -4.39888553e+00 -4.57097862e+00 -4.69963931e+00\n",
            " -4.78159012e+00 -4.81401780e+00 -4.79462137e+00 -4.72165488e+00\n",
            " -4.59396421e+00 -4.41101744e+00 -4.17292823e+00 -3.88047179e+00\n",
            " -3.53509317e+00 -3.13890759e+00 -2.69469264e+00 -2.20587232e+00\n",
            " -1.67649299e+00 -1.11119128e+00 -5.15154297e-01  1.05927573e-01\n",
            "  7.45914911e-01  1.39827992e+00  2.05617300e+00  2.71249447e+00\n",
            "  3.35997079e+00  3.99123437e+00  4.59890619e+00  5.17568018e+00\n",
            "  5.71440862e+00  6.20818733e+00  6.65043991e+00  7.03499983e+00\n",
            "  7.35618951e+00  7.60889540e+00  7.78863809e+00  7.89163660e+00\n",
            "  7.91486597e+00  7.85610747e+00  7.71399056e+00  7.48802622e+00\n",
            "  7.17863083e+00  6.78714046e+00  6.31581504e+00  5.76783230e+00\n",
            "  5.14727130e+00  4.45908562e+00  3.70906637e+00  2.90379510e+00\n",
            "  2.05058721e+00  1.15742614e+00  2.32888999e-01 -7.13935644e-01\n",
            " -1.67353710e+00 -2.63607808e+00 -3.59149547e+00 -4.52960535e+00\n",
            " -5.44021111e+00 -6.31321355e+00 -7.13872181e+00 -7.90716384e+00\n",
            " -8.60939528e+00 -9.23680548e+00 -9.78141947e+00 -1.02359947e+01\n",
            " -1.05941113e+01 -1.08502552e+01 -1.09998923e+01 -1.10395337e+01\n",
            " -1.09667906e+01 -1.07804175e+01 -1.04803452e+01 -1.00677000e+01\n",
            " -9.54481170e+00 -8.91520793e+00 -8.18359600e+00 -7.35583164e+00\n",
            " -6.43887502e+00 -5.44073432e+00 -4.37039724e+00 -3.23775103e+00\n",
            " -2.05349178e+00 -8.29023717e-01  4.23650395e-01  1.69204693e+00\n",
            "  2.96332576e+00  4.22442026e+00  5.46217148e+00  6.66346518e+00\n",
            "  7.81537039e+00  8.90527784e+00  9.92103693e+00  1.08510898e+01\n",
            "  1.16846007e+01  1.24115800e+01  1.30230002e+01  1.35109043e+01\n",
            "  1.38685030e+01  1.40902624e+01  1.41719785e+01  1.41108391e+01\n",
            "  1.39054720e+01  1.35559783e+01  1.30639511e+01  1.24324784e+01\n",
            "  1.16661306e+01  1.07709321e+01  9.75431760e+00  8.62507273e+00\n",
            "  7.39326007e+00  6.07013077e+00  4.66802269e+00  3.20024597e+00\n",
            "  1.68095698e+00  1.25021985e-01 -1.45212823e+00 -3.03465144e+00\n",
            " -4.60645307e+00 -6.15134982e+00 -7.65323618e+00 -9.09625202e+00\n",
            " -1.04649496e+01 -1.17444581e+01 -1.29206445e+01 -1.39802677e+01\n",
            " -1.49111262e+01 -1.57021958e+01 -1.63437574e+01 -1.68275116e+01\n",
            " -1.71466811e+01 -1.72960977e+01 -1.72722732e+01 -1.70734551e+01\n",
            " -1.66996632e+01 -1.61527094e+01 -1.54361988e+01 -1.45555123e+01\n",
            " -1.35177704e+01 -1.23317792e+01 -1.10079574e+01 -9.55824719e+00\n",
            " -7.99600745e+00 -6.33589144e+00 -4.59371011e+00 -2.78628178e+00\n",
            " -9.31270049e-01  9.52988800e-01  2.84766698e+00  4.73363337e+00\n",
            "  6.59164663e+00  8.40255146e+00  1.01474758e+01  1.18080275e+01\n",
            "  1.33664870e+01  1.48059963e+01  1.61107400e+01  1.72661176e+01\n",
            "  1.82589050e+01  1.90774035e+01  1.97115745e+01  2.01531580e+01\n",
            "  2.03957752e+01  2.04350108e+01  2.02684779e+01  1.98958614e+01\n",
            "  1.93189409e+01  1.85415923e+01  1.75697684e+01  1.64114568e+01\n",
            "  1.50766179e+01  1.35771013e+01  1.19265421e+01  1.01402386e+01\n",
            "  8.23501062e+00  6.22904253e+00  4.14170953e+00  1.99339091e+00\n",
            " -1.94728804e-01 -2.40086876e+00 -4.60286854e+00 -6.77841078e+00\n",
            " -8.90524730e+00 -1.09614265e+01 -1.29255198e+01 -1.47768443e+01\n",
            " -1.64956804e+01 -1.80634807e+01 -1.94630693e+01 -2.06788282e+01\n",
            " -2.16968700e+01 -2.25051940e+01 -2.30938241e+01 -2.34549277e+01\n",
            " -2.35829134e+01 -2.34745068e+01 -2.31288030e+01 -2.25472954e+01\n",
            " -2.17338807e+01 -2.06948388e+01 -1.94387886e+01 -1.79766196e+01\n",
            " -1.63213996e+01 -1.44882595e+01 -1.24942561e+01 -1.03582146e+01\n",
            " -8.10055113e+00 -5.74307808e+00 -3.30879375e+00 -8.21658021e-01\n",
            "  1.69364343e+00  4.21194409e+00  6.70784844e+00  9.15598803e+00\n",
            "  1.15312792e+01  1.38091801e+01  1.59659436e+01  1.79788649e+01\n",
            "  1.98265197e+01  2.14889913e+01  2.29480843e+01  2.41875221e+01\n",
            "  2.51931265e+01  2.59529775e+01  2.64575510e+01  2.66998329e+01\n",
            "  2.66754096e+01  2.63825314e+01  2.58221501e+01  2.49979293e+01\n",
            "  2.39162273e+01  2.25860517e+01  2.10189881e+01  1.92291009e+01\n",
            "  1.72328089e+01  1.50487360e+01  1.26975380e+01  1.02017081e+01\n",
            "  7.58536207e+00  4.87400556e+00  2.09428557e+00 -7.26271386e-01\n",
            " -3.55953178e+00 -6.37703575e+00 -9.15028291e+00 -1.18510207e+01\n",
            " -1.44515319e+01 -1.69249191e+01 -1.92453826e+01 -2.13884889e+01\n",
            " -2.33314272e+01 -2.50532516e+01 -2.65351055e+01 -2.77604265e+01\n",
            " -2.87151297e+01 -2.93877664e+01 -2.97696578e+01 -2.98550014e+01\n",
            " -2.96409487e+01 -2.91276536e+01 -2.83182906e+01 -2.72190427e+01\n",
            " -2.58390590e+01 -2.41903808e+01 -2.22878395e+01 -2.01489244e+01\n",
            " -1.77936234e+01 -1.52442367e+01 -1.25251670e+01 -9.66268557e+00\n",
            " -6.68467926e+00 -3.62037882e+00 -5.00072086e-01]\n",
            "[0.00000000e+00 1.00000000e-01 2.00994225e-01 3.03948099e-01\n",
            " 4.09773428e-01 5.19310334e-01 6.33316917e-01 7.52465988e-01\n",
            " 8.77347271e-01 1.00847317e+00 1.14628646e+00 1.29116861e+00\n",
            " 1.44344797e+00 1.60340735e+00 1.77129076e+00 1.94730924e+00\n",
            " 2.13164591e+00 2.32446017e+00 2.52589132e+00 2.73606151e+00\n",
            " 2.95507828e+00 3.18303664e+00 3.42002084e+00 3.66610588e+00\n",
            " 3.92135873e+00 4.18583938e+00 4.45960178e+00 4.74269456e+00\n",
            " 5.03516168e+00 5.33704304e+00 5.64837490e+00 5.96919031e+00\n",
            " 6.29951948e+00 6.63939009e+00 6.98882753e+00 7.34785520e+00\n",
            " 7.71649464e+00 8.09476576e+00 8.48268698e+00 8.88027538e+00\n",
            " 9.28754684e+00 9.70451612e+00 1.01311970e+01 1.05676022e+01\n",
            " 1.10137439e+01 1.14696332e+01 1.19352807e+01 1.24106962e+01\n",
            " 1.28958890e+01 1.33908678e+01 1.38956409e+01 1.44102161e+01\n",
            " 1.49346005e+01 1.54688013e+01 1.60128248e+01 1.65666773e+01\n",
            " 1.71303646e+01 1.77038924e+01 1.82872658e+01 1.88804900e+01\n",
            " 1.94835697e+01 2.00965094e+01 2.07193135e+01 2.13519861e+01\n",
            " 2.19945311e+01 2.26469523e+01 2.33092533e+01 2.39814376e+01\n",
            " 2.46635083e+01 2.53554686e+01 2.60573216e+01 2.67690702e+01\n",
            " 2.74907170e+01 2.82222648e+01 2.89637160e+01 2.97150732e+01\n",
            " 3.04763387e+01 3.12475148e+01 3.20286035e+01 3.28196071e+01\n",
            " 3.36205275e+01 3.44313667e+01 3.52521266e+01 3.60828088e+01\n",
            " 3.69234153e+01 3.77739476e+01 3.86344073e+01 3.95047962e+01\n",
            " 4.03851155e+01 4.12753669e+01 4.21755518e+01 4.30856714e+01\n",
            " 4.40057271e+01 4.49357203e+01 4.58756521e+01 4.68255237e+01\n",
            " 4.77853363e+01 4.87550910e+01 4.97347890e+01 5.07244312e+01\n",
            " 5.17240188e+01 5.27335526e+01 5.37530338e+01 5.47824631e+01\n",
            " 5.58218416e+01 5.68711701e+01 5.79304495e+01 5.89996806e+01\n",
            " 6.00788642e+01 6.11680012e+01 6.22670923e+01 6.33761382e+01\n",
            " 6.44951397e+01 6.56240975e+01 6.67630122e+01 6.79118847e+01\n",
            " 6.90707154e+01 7.02395051e+01 7.14182544e+01 7.26069639e+01\n",
            " 7.38056341e+01 7.50142658e+01 7.62328593e+01 7.74614153e+01\n",
            " 7.86999344e+01 7.99484170e+01 8.12068636e+01 8.24752748e+01\n",
            " 8.37536510e+01 8.50419928e+01 8.63403005e+01 8.76485747e+01\n",
            " 8.89668157e+01 9.02950241e+01 9.16332002e+01 9.29813445e+01\n",
            " 9.43394574e+01 9.57075392e+01 9.70855903e+01 9.84736112e+01\n",
            " 9.98716023e+01 1.01279564e+02 1.02697496e+02 1.04125400e+02\n",
            " 1.05563275e+02 1.07011121e+02 1.08468941e+02 1.09936732e+02\n",
            " 1.11414496e+02 1.12902234e+02 1.14399945e+02 1.15907630e+02\n",
            " 1.17425288e+02 1.18952921e+02 1.20490529e+02 1.22038111e+02\n",
            " 1.23595669e+02 1.25163202e+02 1.26740711e+02 1.28328195e+02\n",
            " 1.29925656e+02 1.31533093e+02 1.33150507e+02 1.34777897e+02\n",
            " 1.36415265e+02 1.38062610e+02 1.39719933e+02 1.41387233e+02\n",
            " 1.43064512e+02 1.44751768e+02 1.46449003e+02 1.48156217e+02\n",
            " 1.49873409e+02 1.51600581e+02 1.53337731e+02 1.55084861e+02\n",
            " 1.56841971e+02 1.58609060e+02 1.60386130e+02 1.62173179e+02\n",
            " 1.63970209e+02 1.65777219e+02 1.67594210e+02 1.69421182e+02\n",
            " 1.71258134e+02 1.73105068e+02 1.74961983e+02 1.76828879e+02\n",
            " 1.78705758e+02 1.80592617e+02 1.82489459e+02 1.84396283e+02\n",
            " 1.86313089e+02 1.88239877e+02 1.90176648e+02 1.92123401e+02\n",
            " 1.94080137e+02 1.96046856e+02 1.98023558e+02 2.00010243e+02\n",
            " 2.02006911e+02 2.04013563e+02 2.06030198e+02 2.08056817e+02\n",
            " 2.10093420e+02 2.12140006e+02 2.14196577e+02 2.16263131e+02\n",
            " 2.18339670e+02 2.20426193e+02 2.22522701e+02 2.24629193e+02\n",
            " 2.26745669e+02 2.28872131e+02 2.31008577e+02 2.33155008e+02\n",
            " 2.35311425e+02 2.37477826e+02 2.39654213e+02 2.41840585e+02\n",
            " 2.44036942e+02 2.46243285e+02 2.48459614e+02 2.50685929e+02\n",
            " 2.52922229e+02 2.55168515e+02 2.57424787e+02 2.59691045e+02\n",
            " 2.61967290e+02 2.64253520e+02 2.66549737e+02 2.68855941e+02\n",
            " 2.71172130e+02 2.73498307e+02 2.75834470e+02 2.78180620e+02\n",
            " 2.80536756e+02 2.82902880e+02 2.85278991e+02 2.87665088e+02\n",
            " 2.90061173e+02 2.92467244e+02 2.94883304e+02 2.97309350e+02\n",
            " 2.99745384e+02 3.02191405e+02 3.04647414e+02 3.07113410e+02\n",
            " 3.09589394e+02 3.12075366e+02 3.14571326e+02 3.17077273e+02\n",
            " 3.19593208e+02 3.22119132e+02 3.24655043e+02 3.27200943e+02\n",
            " 3.29756830e+02 3.32322706e+02 3.34898570e+02 3.37484423e+02\n",
            " 3.40080264e+02 3.42686093e+02 3.45301911e+02 3.47927718e+02\n",
            " 3.50563513e+02 3.53209297e+02 3.55865069e+02 3.58530831e+02\n",
            " 3.61206581e+02 3.63892320e+02 3.66588048e+02 3.69293765e+02\n",
            " 3.72009471e+02 3.74735166e+02 3.77470850e+02 3.80216524e+02\n",
            " 3.82972187e+02 3.85737839e+02 3.88513480e+02 3.91299111e+02\n",
            " 3.94094731e+02 3.96900341e+02 3.99715940e+02 4.02541528e+02\n",
            " 4.05377107e+02 4.08222675e+02 4.11078232e+02 4.13943780e+02\n",
            " 4.16819317e+02 4.19704844e+02 4.22600361e+02 4.25505868e+02\n",
            " 4.28421365e+02 4.31346851e+02 4.34282328e+02 4.37227795e+02\n",
            " 4.40183252e+02 4.43148699e+02 4.46124136e+02 4.49109564e+02\n",
            " 4.52104982e+02 4.55110390e+02 4.58125788e+02 4.61151177e+02\n",
            " 4.64186556e+02 4.67231925e+02 4.70287286e+02 4.73352636e+02\n",
            " 4.76427977e+02 4.79513309e+02 4.82608631e+02 4.85713944e+02\n",
            " 4.88829248e+02 4.91954542e+02 4.95089827e+02]\n"
          ]
        }
      ],
      "source": [
        "phi = np.arange(0, 10*np.pi, 0.1)\n",
        "a = 1\n",
        "x = a*phi*np.cos(phi)\n",
        "y = a*phi*np.sin(phi)\n",
        "\n",
        "dr = (np.diff(x)**2 + np.diff(y)**2)**.5 \n",
        "r = np.zeros_like(x)\n",
        "r[1:] = np.cumsum(dr)                \n",
        "r_int = np.linspace(0, r.max(), 200) \n",
        "x_int = np.interp(r_int, r, x)       \n",
        "y_int = np.interp(r_int, r, y)\n",
        "print(x)\n",
        "print(y)\n",
        "print(r)"
      ]
    },
    {
      "cell_type": "markdown",
      "metadata": {
        "id": "2KKuQxWu-bMY"
      },
      "source": [
        "#### 99. Given an integer n and a 2D array X, select from X the rows which can be interpreted as draws from a multinomial distribution with n degrees, i.e., the rows which only contain integers and which sum to n. (★★★) \n",
        "(**hint**: np.logical\\_and.reduce, np.mod)"
      ]
    },
    {
      "cell_type": "code",
      "execution_count": 263,
      "metadata": {
        "colab": {
          "base_uri": "https://localhost:8080/"
        },
        "id": "0tjwRkpe-bMZ",
        "outputId": "a684cfc5-d4e1-4a43-9ff8-06a35c3ff920"
      },
      "outputs": [
        {
          "output_type": "stream",
          "name": "stdout",
          "text": [
            "[[2. 0. 1. 1.]]\n"
          ]
        }
      ],
      "source": [
        "X = np.asarray([[1.0, 0.0, 3.0, 8.0],\n",
        "\n",
        "[2.0, 0.0, 1.0, 1.0],\n",
        "\n",
        "[1.5, 2.5, 1.0, 0.0]])\n",
        "\n",
        "n = 4\n",
        "\n",
        "M = np.logical_and.reduce(np.mod(X, 1) == 0, axis=-1)\n",
        "\n",
        "M &= (X.sum(axis=-1) == n)\n",
        "\n",
        "print(X[M])"
      ]
    },
    {
      "cell_type": "markdown",
      "metadata": {
        "id": "sHY_ijis-bMZ"
      },
      "source": [
        "#### 100. Compute bootstrapped 95% confidence intervals for the mean of a 1D array X (i.e., resample the elements of an array with replacement N times, compute the mean of each sample, and then compute percentiles over the means). (★★★) \n",
        "(**hint**: np.percentile)"
      ]
    },
    {
      "cell_type": "code",
      "execution_count": 265,
      "metadata": {
        "colab": {
          "base_uri": "https://localhost:8080/"
        },
        "id": "qxWeASA--bMZ",
        "outputId": "366670d9-2952-4796-e1c0-09bdf25ed7c1"
      },
      "outputs": [
        {
          "output_type": "stream",
          "name": "stdout",
          "text": [
            "[-0.43762668 -0.05194842]\n"
          ]
        }
      ],
      "source": [
        "X = np.random.randn(100)\n",
        "\n",
        "N = 1000 \n",
        "\n",
        "idx = np.random.randint(0, X.size, (N, X.size))\n",
        "\n",
        "means = X[idx].mean(axis=1)\n",
        "\n",
        "confint = np.percentile(means, [2.5, 97.5])\n",
        "\n",
        "print(confint)"
      ]
    }
  ],
  "metadata": {
    "kernelspec": {
      "display_name": "Python 3",
      "language": "python",
      "name": "python3"
    },
    "language_info": {
      "codemirror_mode": {
        "name": "ipython",
        "version": 3
      },
      "file_extension": ".py",
      "mimetype": "text/x-python",
      "name": "python",
      "nbconvert_exporter": "python",
      "pygments_lexer": "ipython3",
      "version": "3.8.3"
    },
    "colab": {
      "name": "Numpy_tasks.ipynb",
      "provenance": []
    }
  },
  "nbformat": 4,
  "nbformat_minor": 0
}